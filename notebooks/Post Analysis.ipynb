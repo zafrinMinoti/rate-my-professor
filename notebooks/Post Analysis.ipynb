{
 "cells": [
  {
   "cell_type": "code",
   "execution_count": 41,
   "metadata": {
    "collapsed": true
   },
   "outputs": [],
   "source": [
    "import pandas as pd\n",
    "import pickle\n",
    "import seaborn as sns\n",
    "%matplotlib inline"
   ]
  },
  {
   "cell_type": "code",
   "execution_count": 32,
   "metadata": {},
   "outputs": [],
   "source": [
    "datapath = '/home/zafrin/PycharmProjects/RateMyProfessor/data'\n",
    "# prof_raw = pd.read_json(datpath+'/professors_play.json')\n",
    "prof_raw = pd.read_pickle(datapath+'/pickle/prof.pickle')\n",
    "processed = pd.read_pickle(datapath+'/processed/tsdf_pandas.pickle')"
   ]
  },
  {
   "cell_type": "code",
   "execution_count": 6,
   "metadata": {},
   "outputs": [
    {
     "data": {
      "text/plain": [
       "Index(['id', 'review_count', 'dept', 'overall_quality', 'level_of_difficulity',\n",
       "       'hotness', 'take_again', 'name', 'school', 'schoolid', 'city', 'state',\n",
       "       'accessible outside class', 'amazing lectures', 'beware of pop quizzes',\n",
       "       'caring', 'clear grading criteria', 'extra credit', 'get ready to read',\n",
       "       'gives good feedback', 'graded by few things', 'group projects',\n",
       "       'hilarious', 'inspirational', 'lecture heavy', 'lots of homework',\n",
       "       'participation matters', 'respected', 'skip class? you won't pass.',\n",
       "       'so many papers', 'test heavy', 'tough grader', 'prof_id', 'sex'],\n",
       "      dtype='object')"
      ]
     },
     "execution_count": 6,
     "metadata": {},
     "output_type": "execute_result"
    }
   ],
   "source": [
    "prof_raw.columns"
   ]
  },
  {
   "cell_type": "code",
   "execution_count": 33,
   "metadata": {},
   "outputs": [
    {
     "data": {
      "text/plain": [
       "(5978, 34)"
      ]
     },
     "execution_count": 33,
     "metadata": {},
     "output_type": "execute_result"
    }
   ],
   "source": [
    "prof_raw.shape"
   ]
  },
  {
   "cell_type": "code",
   "execution_count": 34,
   "metadata": {},
   "outputs": [
    {
     "data": {
      "text/plain": [
       "Index(['prof_id', 'comment_length', 'tac', 'ts'], dtype='object')"
      ]
     },
     "execution_count": 34,
     "metadata": {},
     "output_type": "execute_result"
    }
   ],
   "source": [
    "processed.columns"
   ]
  },
  {
   "cell_type": "code",
   "execution_count": 35,
   "metadata": {},
   "outputs": [
    {
     "data": {
      "text/plain": [
       "(5975, 4)"
      ]
     },
     "execution_count": 35,
     "metadata": {},
     "output_type": "execute_result"
    }
   ],
   "source": [
    "processed.shape"
   ]
  },
  {
   "cell_type": "code",
   "execution_count": 36,
   "metadata": {},
   "outputs": [],
   "source": [
    "prof_raw.set_index('id', inplace=True)\n",
    "processed.set_index('prof_id', inplace=True)"
   ]
  },
  {
   "cell_type": "code",
   "execution_count": 37,
   "metadata": {},
   "outputs": [],
   "source": [
    "prof = pd.concat([prof_raw,processed], axis=1, join='inner')"
   ]
  },
  {
   "cell_type": "code",
   "execution_count": 38,
   "metadata": {},
   "outputs": [
    {
     "data": {
      "text/plain": [
       "(5978, 37)"
      ]
     },
     "execution_count": 38,
     "metadata": {},
     "output_type": "execute_result"
    }
   ],
   "source": [
    "prof.shape"
   ]
  },
  {
   "cell_type": "code",
   "execution_count": 16,
   "metadata": {
    "scrolled": true
   },
   "outputs": [
    {
     "data": {
      "text/plain": [
       "Index(['id', 'review_count', 'dept', 'overall_quality', 'level_of_difficulity',\n",
       "       'hotness', 'take_again', 'name', 'school', 'schoolid', 'city', 'state',\n",
       "       'accessible outside class', 'amazing lectures', 'beware of pop quizzes',\n",
       "       'caring', 'clear grading criteria', 'extra credit', 'get ready to read',\n",
       "       'gives good feedback', 'graded by few things', 'group projects',\n",
       "       'hilarious', 'inspirational', 'lecture heavy', 'lots of homework',\n",
       "       'participation matters', 'respected', 'skip class? you won't pass.',\n",
       "       'so many papers', 'test heavy', 'tough grader', 'prof_id', 'sex',\n",
       "       'prof_id', 'comment_length', 'tac', 'ts'],\n",
       "      dtype='object')"
      ]
     },
     "execution_count": 16,
     "metadata": {},
     "output_type": "execute_result"
    }
   ],
   "source": [
    "prof.columns"
   ]
  },
  {
   "cell_type": "code",
   "execution_count": 44,
   "metadata": {
    "collapsed": true
   },
   "outputs": [],
   "source": [
    "del prof_raw\n",
    "del processed"
   ]
  },
  {
   "cell_type": "code",
   "execution_count": 42,
   "metadata": {},
   "outputs": [
    {
     "data": {
      "text/plain": [
       "<matplotlib.axes._subplots.AxesSubplot at 0x7fe67118dac8>"
      ]
     },
     "execution_count": 42,
     "metadata": {},
     "output_type": "execute_result"
    },
    {
     "data": {
      "image/png": "[encoded data removed]",
      "text/plain": [
       "<matplotlib.figure.Figure at 0x7fe671265da0>"
      ]
     },
     "metadata": {},
     "output_type": "display_data"
    }
   ],
   "source": [
    "sns.distplot(prof.ts)"
   ]
  },
  {
   "cell_type": "code",
   "execution_count": 43,
   "metadata": {},
   "outputs": [
    {
     "data": {
      "text/plain": [
       "<matplotlib.axes._subplots.AxesSubplot at 0x7fe6710be2e8>"
      ]
     },
     "execution_count": 43,
     "metadata": {},
     "output_type": "execute_result"
    },
    {
     "data": {
      "image/png": "[encoded data removed]",
      "text/plain": [
       "<matplotlib.figure.Figure at 0x7fe670f23e48>"
      ]
     },
     "metadata": {},
     "output_type": "display_data"
    }
   ],
   "source": [
    "sns.distplot(prof.overall_quality)"
   ]
  },
  {
   "cell_type": "code",
   "execution_count": 45,
   "metadata": {},
   "outputs": [
    {
     "data": {
      "text/plain": [
       "count    5978.000000\n",
       "mean        1.023399\n",
       "std         0.791481\n",
       "min         0.000000\n",
       "25%         0.500000\n",
       "50%         0.916667\n",
       "75%         1.426794\n",
       "max        10.000000\n",
       "Name: ts, dtype: float64"
      ]
     },
     "execution_count": 45,
     "metadata": {},
     "output_type": "execute_result"
    }
   ],
   "source": [
    "prof.ts.describe()"
   ]
  },
  {
   "cell_type": "code",
   "execution_count": 46,
   "metadata": {},
   "outputs": [
    {
     "data": {
      "text/plain": [
       "count    5978.000000\n",
       "mean        3.668116\n",
       "std         0.853434\n",
       "min         1.000000\n",
       "25%         3.100000\n",
       "50%         3.800000\n",
       "75%         4.300000\n",
       "max         5.000000\n",
       "Name: overall_quality, dtype: float64"
      ]
     },
     "execution_count": 46,
     "metadata": {},
     "output_type": "execute_result"
    }
   ],
   "source": [
    "prof.overall_quality.describe()"
   ]
  },
  {
   "cell_type": "code",
   "execution_count": 64,
   "metadata": {},
   "outputs": [
    {
     "data": {
      "text/plain": [
       "14"
      ]
     },
     "execution_count": 64,
     "metadata": {},
     "output_type": "execute_result"
    }
   ],
   "source": [
    "prof[prof.ts>5].ts.count()"
   ]
  },
  {
   "cell_type": "code",
   "execution_count": 58,
   "metadata": {},
   "outputs": [
    {
     "data": {
      "text/plain": [
       "0.5185680829708933"
      ]
     },
     "execution_count": 58,
     "metadata": {},
     "output_type": "execute_result"
    }
   ],
   "source": [
    "prof[prof.ts>4].ts.count()/prof.ts.count()*100"
   ]
  },
  {
   "cell_type": "code",
   "execution_count": 71,
   "metadata": {},
   "outputs": [],
   "source": [
    "prof.ts = prof.ts.apply(lambda x: 5 if x>5 else x)"
   ]
  },
  {
   "cell_type": "code",
   "execution_count": 72,
   "metadata": {},
   "outputs": [
    {
     "data": {
      "text/plain": [
       "Series([], Name: ts, dtype: float64)"
      ]
     },
     "execution_count": 72,
     "metadata": {},
     "output_type": "execute_result"
    }
   ],
   "source": [
    "prof[prof.ts>5].ts"
   ]
  },
  {
   "cell_type": "code",
   "execution_count": 73,
   "metadata": {},
   "outputs": [
    {
     "data": {
      "text/plain": [
       "<matplotlib.axes._subplots.AxesSubplot at 0x7fe670d15ef0>"
      ]
     },
     "execution_count": 73,
     "metadata": {},
     "output_type": "execute_result"
    },
    {
     "data": {
      "image/png": "[encoded data removed]",
      "text/plain": [
       "<matplotlib.figure.Figure at 0x7fe67100f978>"
      ]
     },
     "metadata": {},
     "output_type": "display_data"
    }
   ],
   "source": [
    "sns.distplot(prof.ts)"
   ]
  },
  {
   "cell_type": "code",
   "execution_count": 130,
   "metadata": {},
   "outputs": [
    {
     "data": {
      "text/plain": [
       "0"
      ]
     },
     "execution_count": 130,
     "metadata": {},
     "output_type": "execute_result"
    }
   ],
   "source": [
    "df = prof[prof.review_count>36]\n",
    "df[df.ts==0].ts.count()"
   ]
  },
  {
   "cell_type": "code",
   "execution_count": 131,
   "metadata": {},
   "outputs": [
    {
     "data": {
      "text/plain": [
       "(1647, 37)"
      ]
     },
     "execution_count": 131,
     "metadata": {},
     "output_type": "execute_result"
    }
   ],
   "source": [
    "df.shape"
   ]
  },
  {
   "cell_type": "code",
   "execution_count": 132,
   "metadata": {},
   "outputs": [
    {
     "data": {
      "text/plain": [
       "count    1647.000000\n",
       "mean        1.160884\n",
       "std         0.535903\n",
       "min         0.095238\n",
       "25%         0.763191\n",
       "50%         1.081081\n",
       "75%         1.486014\n",
       "max         3.404040\n",
       "Name: ts, dtype: float64"
      ]
     },
     "execution_count": 132,
     "metadata": {},
     "output_type": "execute_result"
    }
   ],
   "source": [
    "df.ts.describe()"
   ]
  },
  {
   "cell_type": "code",
   "execution_count": 133,
   "metadata": {
    "collapsed": true
   },
   "outputs": [],
   "source": [
    "from sklearn.preprocessing import MinMaxScaler"
   ]
  },
  {
   "cell_type": "code",
   "execution_count": 134,
   "metadata": {},
   "outputs": [],
   "source": [
    "x = df[['ts']]\n",
    "\n",
    "scaler = MinMaxScaler(feature_range=(1, 5))\n",
    "\n",
    "x_scaled = scaler.fit_transform(x)"
   ]
  },
  {
   "cell_type": "code",
   "execution_count": 135,
   "metadata": {},
   "outputs": [
    {
     "name": "stderr",
     "output_type": "stream",
     "text": [
      "/home/zafrin/anaconda3/lib/python3.6/site-packages/ipykernel_launcher.py:1: SettingWithCopyWarning: \n",
      "A value is trying to be set on a copy of a slice from a DataFrame.\n",
      "Try using .loc[row_indexer,col_indexer] = value instead\n",
      "\n",
      "See the caveats in the documentation: http://pandas.pydata.org/pandas-docs/stable/indexing.html#indexing-view-versus-copy\n",
      "  \"\"\"Entry point for launching an IPython kernel.\n"
     ]
    }
   ],
   "source": [
    "x['scaled_ts'] = x_scaled"
   ]
  },
  {
   "cell_type": "code",
   "execution_count": 136,
   "metadata": {},
   "outputs": [
    {
     "data": {
      "text/html": [
       "<div>\n",
       "<style>\n",
       "    .dataframe thead tr:only-child th {\n",
       "        text-align: right;\n",
       "    }\n",
       "\n",
       "    .dataframe thead th {\n",
       "        text-align: left;\n",
       "    }\n",
       "\n",
       "    .dataframe tbody tr th {\n",
       "        vertical-align: top;\n",
       "    }\n",
       "</style>\n",
       "<table border=\"1\" class=\"dataframe\">\n",
       "  <thead>\n",
       "    <tr style=\"text-align: right;\">\n",
       "      <th></th>\n",
       "      <th>ts</th>\n",
       "      <th>scaled_ts</th>\n",
       "    </tr>\n",
       "  </thead>\n",
       "  <tbody>\n",
       "    <tr>\n",
       "      <th>count</th>\n",
       "      <td>1647.000000</td>\n",
       "      <td>1647.000000</td>\n",
       "    </tr>\n",
       "    <tr>\n",
       "      <th>mean</th>\n",
       "      <td>1.160884</td>\n",
       "      <td>2.288256</td>\n",
       "    </tr>\n",
       "    <tr>\n",
       "      <th>std</th>\n",
       "      <td>0.535903</td>\n",
       "      <td>0.647851</td>\n",
       "    </tr>\n",
       "    <tr>\n",
       "      <th>min</th>\n",
       "      <td>0.095238</td>\n",
       "      <td>1.000000</td>\n",
       "    </tr>\n",
       "    <tr>\n",
       "      <th>25%</th>\n",
       "      <td>0.763191</td>\n",
       "      <td>1.807486</td>\n",
       "    </tr>\n",
       "    <tr>\n",
       "      <th>50%</th>\n",
       "      <td>1.081081</td>\n",
       "      <td>2.191782</td>\n",
       "    </tr>\n",
       "    <tr>\n",
       "      <th>75%</th>\n",
       "      <td>1.486014</td>\n",
       "      <td>2.681304</td>\n",
       "    </tr>\n",
       "    <tr>\n",
       "      <th>max</th>\n",
       "      <td>3.404040</td>\n",
       "      <td>5.000000</td>\n",
       "    </tr>\n",
       "  </tbody>\n",
       "</table>\n",
       "</div>"
      ],
      "text/plain": [
       "                ts    scaled_ts\n",
       "count  1647.000000  1647.000000\n",
       "mean      1.160884     2.288256\n",
       "std       0.535903     0.647851\n",
       "min       0.095238     1.000000\n",
       "25%       0.763191     1.807486\n",
       "50%       1.081081     2.191782\n",
       "75%       1.486014     2.681304\n",
       "max       3.404040     5.000000"
      ]
     },
     "execution_count": 136,
     "metadata": {},
     "output_type": "execute_result"
    }
   ],
   "source": [
    "x.describe()"
   ]
  },
  {
   "cell_type": "code",
   "execution_count": 137,
   "metadata": {},
   "outputs": [
    {
     "data": {
      "text/html": [
       "<div>\n",
       "<style>\n",
       "    .dataframe thead tr:only-child th {\n",
       "        text-align: right;\n",
       "    }\n",
       "\n",
       "    .dataframe thead th {\n",
       "        text-align: left;\n",
       "    }\n",
       "\n",
       "    .dataframe tbody tr th {\n",
       "        vertical-align: top;\n",
       "    }\n",
       "</style>\n",
       "<table border=\"1\" class=\"dataframe\">\n",
       "  <thead>\n",
       "    <tr style=\"text-align: right;\">\n",
       "      <th></th>\n",
       "      <th>ts</th>\n",
       "      <th>scaled_ts</th>\n",
       "    </tr>\n",
       "  </thead>\n",
       "  <tbody>\n",
       "    <tr>\n",
       "      <th>100001</th>\n",
       "      <td>0.500000</td>\n",
       "      <td>1.489315</td>\n",
       "    </tr>\n",
       "    <tr>\n",
       "      <th>100006</th>\n",
       "      <td>1.472973</td>\n",
       "      <td>2.665539</td>\n",
       "    </tr>\n",
       "    <tr>\n",
       "      <th>100013</th>\n",
       "      <td>0.762500</td>\n",
       "      <td>1.806651</td>\n",
       "    </tr>\n",
       "    <tr>\n",
       "      <th>100020</th>\n",
       "      <td>0.722222</td>\n",
       "      <td>1.757959</td>\n",
       "    </tr>\n",
       "    <tr>\n",
       "      <th>100043</th>\n",
       "      <td>0.957317</td>\n",
       "      <td>2.042164</td>\n",
       "    </tr>\n",
       "  </tbody>\n",
       "</table>\n",
       "</div>"
      ],
      "text/plain": [
       "              ts  scaled_ts\n",
       "100001  0.500000   1.489315\n",
       "100006  1.472973   2.665539\n",
       "100013  0.762500   1.806651\n",
       "100020  0.722222   1.757959\n",
       "100043  0.957317   2.042164"
      ]
     },
     "execution_count": 137,
     "metadata": {},
     "output_type": "execute_result"
    }
   ],
   "source": [
    "x.head()"
   ]
  },
  {
   "cell_type": "code",
   "execution_count": 138,
   "metadata": {},
   "outputs": [
    {
     "data": {
      "text/plain": [
       "<matplotlib.axes._subplots.AxesSubplot at 0x7fe67021f438>"
      ]
     },
     "execution_count": 138,
     "metadata": {},
     "output_type": "execute_result"
    },
    {
     "data": {
      "image/png": "[encoded data removed]",
      "text/plain": [
       "<matplotlib.figure.Figure at 0x7fe670e4f470>"
      ]
     },
     "metadata": {},
     "output_type": "display_data"
    }
   ],
   "source": [
    "sns.distplot(x.ts)"
   ]
  },
  {
   "cell_type": "code",
   "execution_count": 139,
   "metadata": {},
   "outputs": [
    {
     "data": {
      "text/plain": [
       "<matplotlib.axes._subplots.AxesSubplot at 0x7fe6701dffd0>"
      ]
     },
     "execution_count": 139,
     "metadata": {},
     "output_type": "execute_result"
    },
    {
     "data": {
      "image/png": "[encoded data removed]",
      "text/plain": [
       "<matplotlib.figure.Figure at 0x7fe670165588>"
      ]
     },
     "metadata": {},
     "output_type": "display_data"
    }
   ],
   "source": [
    "sns.distplot(x.scaled_ts)"
   ]
  },
  {
   "cell_type": "code",
   "execution_count": 159,
   "metadata": {},
   "outputs": [],
   "source": [
    "prof = pd.concat([df,x], axis=1, join='inner')"
   ]
  },
  {
   "cell_type": "code",
   "execution_count": 160,
   "metadata": {},
   "outputs": [
    {
     "data": {
      "text/plain": [
       "Index(['review_count', 'dept', 'overall_quality', 'level_of_difficulity',\n",
       "       'hotness', 'take_again', 'name', 'school', 'schoolid', 'city', 'state',\n",
       "       'accessible outside class', 'amazing lectures', 'beware of pop quizzes',\n",
       "       'caring', 'clear grading criteria', 'extra credit', 'get ready to read',\n",
       "       'gives good feedback', 'graded by few things', 'group projects',\n",
       "       'hilarious', 'inspirational', 'lecture heavy', 'lots of homework',\n",
       "       'participation matters', 'respected', 'skip class? you won't pass.',\n",
       "       'so many papers', 'test heavy', 'tough grader', 'prof_id', 'sex',\n",
       "       'comment_length', 'tac', 'ts', 'id', 'ts', 'scaled_ts'],\n",
       "      dtype='object')"
      ]
     },
     "execution_count": 160,
     "metadata": {},
     "output_type": "execute_result"
    }
   ],
   "source": [
    "prof.columns"
   ]
  },
  {
   "cell_type": "code",
   "execution_count": 158,
   "metadata": {},
   "outputs": [],
   "source": [
    "prof.dropna()"
   ]
  },
  {
   "cell_type": "code",
   "execution_count": 161,
   "metadata": {},
   "outputs": [
    {
     "data": {
      "text/plain": [
       "(1647, 39)"
      ]
     },
     "execution_count": 161,
     "metadata": {},
     "output_type": "execute_result"
    }
   ],
   "source": [
    "prof.shape"
   ]
  },
  {
   "cell_type": "code",
   "execution_count": 162,
   "metadata": {},
   "outputs": [
    {
     "data": {
      "text/plain": [
       "5.0"
      ]
     },
     "execution_count": 162,
     "metadata": {},
     "output_type": "execute_result"
    }
   ],
   "source": [
    "prof.scaled_ts.max()"
   ]
  },
  {
   "cell_type": "code",
   "execution_count": 165,
   "metadata": {},
   "outputs": [],
   "source": [
    "high_value_prof = prof[prof.scaled_ts >3]"
   ]
  },
  {
   "cell_type": "code",
   "execution_count": 167,
   "metadata": {},
   "outputs": [
    {
     "data": {
      "text/plain": [
       "(243, 39)"
      ]
     },
     "execution_count": 167,
     "metadata": {},
     "output_type": "execute_result"
    }
   ],
   "source": [
    "high_value_prof.shape"
   ]
  },
  {
   "cell_type": "code",
   "execution_count": 181,
   "metadata": {
    "collapsed": true
   },
   "outputs": [],
   "source": [
    "qualities = ['review_count', 'overall_quality', 'level_of_difficulity',\n",
    "       'hotness', 'take_again',\n",
    "       'accessible outside class', 'amazing lectures', 'beware of pop quizzes',\n",
    "       'caring', 'clear grading criteria', 'extra credit', 'get ready to read',\n",
    "       'gives good feedback', 'graded by few things', 'group projects',\n",
    "       'hilarious', 'inspirational', 'lecture heavy', 'lots of homework',\n",
    "       'participation matters', 'respected', 'skip class? you won\\'t pass.',\n",
    "       'so many papers', 'test heavy', 'tough grader',\n",
    "       'comment_length']"
   ]
  },
  {
   "cell_type": "code",
   "execution_count": 168,
   "metadata": {},
   "outputs": [
    {
     "data": {
      "text/html": [
       "<div>\n",
       "<style>\n",
       "    .dataframe thead tr:only-child th {\n",
       "        text-align: right;\n",
       "    }\n",
       "\n",
       "    .dataframe thead th {\n",
       "        text-align: left;\n",
       "    }\n",
       "\n",
       "    .dataframe tbody tr th {\n",
       "        vertical-align: top;\n",
       "    }\n",
       "</style>\n",
       "<table border=\"1\" class=\"dataframe\">\n",
       "  <thead>\n",
       "    <tr style=\"text-align: right;\">\n",
       "      <th></th>\n",
       "      <th>review_count</th>\n",
       "      <th>overall_quality</th>\n",
       "      <th>level_of_difficulity</th>\n",
       "      <th>schoolid</th>\n",
       "      <th>accessible outside class</th>\n",
       "      <th>amazing lectures</th>\n",
       "      <th>beware of pop quizzes</th>\n",
       "      <th>caring</th>\n",
       "      <th>clear grading criteria</th>\n",
       "      <th>extra credit</th>\n",
       "      <th>...</th>\n",
       "      <th>test heavy</th>\n",
       "      <th>tough grader</th>\n",
       "      <th>prof_id</th>\n",
       "      <th>sex</th>\n",
       "      <th>comment_length</th>\n",
       "      <th>tac</th>\n",
       "      <th>ts</th>\n",
       "      <th>id</th>\n",
       "      <th>ts</th>\n",
       "      <th>scaled_ts</th>\n",
       "    </tr>\n",
       "  </thead>\n",
       "  <tbody>\n",
       "    <tr>\n",
       "      <th>count</th>\n",
       "      <td>243.000000</td>\n",
       "      <td>243.000000</td>\n",
       "      <td>243.000000</td>\n",
       "      <td>243.000000</td>\n",
       "      <td>85.000000</td>\n",
       "      <td>123.000000</td>\n",
       "      <td>32.000000</td>\n",
       "      <td>158.000000</td>\n",
       "      <td>125.000000</td>\n",
       "      <td>72.000000</td>\n",
       "      <td>...</td>\n",
       "      <td>70.000000</td>\n",
       "      <td>138.000000</td>\n",
       "      <td>243.000000</td>\n",
       "      <td>243.000000</td>\n",
       "      <td>243.000000</td>\n",
       "      <td>243.000000</td>\n",
       "      <td>243.000000</td>\n",
       "      <td>243.000000</td>\n",
       "      <td>243.000000</td>\n",
       "      <td>243.000000</td>\n",
       "    </tr>\n",
       "    <tr>\n",
       "      <th>mean</th>\n",
       "      <td>71.119342</td>\n",
       "      <td>3.992181</td>\n",
       "      <td>2.922222</td>\n",
       "      <td>1796.518519</td>\n",
       "      <td>1.882353</td>\n",
       "      <td>2.764228</td>\n",
       "      <td>2.125000</td>\n",
       "      <td>3.031646</td>\n",
       "      <td>2.552000</td>\n",
       "      <td>2.555556</td>\n",
       "      <td>...</td>\n",
       "      <td>1.814286</td>\n",
       "      <td>3.384058</td>\n",
       "      <td>105720.139918</td>\n",
       "      <td>0.641975</td>\n",
       "      <td>215.240019</td>\n",
       "      <td>0.529669</td>\n",
       "      <td>2.111018</td>\n",
       "      <td>105720.139918</td>\n",
       "      <td>2.111018</td>\n",
       "      <td>3.436869</td>\n",
       "    </tr>\n",
       "    <tr>\n",
       "      <th>std</th>\n",
       "      <td>39.498381</td>\n",
       "      <td>0.636608</td>\n",
       "      <td>0.717376</td>\n",
       "      <td>2067.476716</td>\n",
       "      <td>1.475287</td>\n",
       "      <td>2.084609</td>\n",
       "      <td>1.431219</td>\n",
       "      <td>2.230138</td>\n",
       "      <td>1.824811</td>\n",
       "      <td>2.047939</td>\n",
       "      <td>...</td>\n",
       "      <td>1.343722</td>\n",
       "      <td>2.202595</td>\n",
       "      <td>3016.649431</td>\n",
       "      <td>0.480409</td>\n",
       "      <td>28.283330</td>\n",
       "      <td>0.120014</td>\n",
       "      <td>0.321928</td>\n",
       "      <td>3016.649431</td>\n",
       "      <td>0.321928</td>\n",
       "      <td>0.389177</td>\n",
       "    </tr>\n",
       "    <tr>\n",
       "      <th>min</th>\n",
       "      <td>37.000000</td>\n",
       "      <td>2.200000</td>\n",
       "      <td>1.100000</td>\n",
       "      <td>45.000000</td>\n",
       "      <td>1.000000</td>\n",
       "      <td>0.000000</td>\n",
       "      <td>1.000000</td>\n",
       "      <td>0.000000</td>\n",
       "      <td>0.000000</td>\n",
       "      <td>0.000000</td>\n",
       "      <td>...</td>\n",
       "      <td>0.000000</td>\n",
       "      <td>0.000000</td>\n",
       "      <td>100179.000000</td>\n",
       "      <td>0.000000</td>\n",
       "      <td>131.756098</td>\n",
       "      <td>0.351351</td>\n",
       "      <td>1.750000</td>\n",
       "      <td>100179.000000</td>\n",
       "      <td>1.750000</td>\n",
       "      <td>3.000436</td>\n",
       "    </tr>\n",
       "    <tr>\n",
       "      <th>25%</th>\n",
       "      <td>45.000000</td>\n",
       "      <td>3.600000</td>\n",
       "      <td>2.400000</td>\n",
       "      <td>826.000000</td>\n",
       "      <td>1.000000</td>\n",
       "      <td>1.000000</td>\n",
       "      <td>1.000000</td>\n",
       "      <td>1.000000</td>\n",
       "      <td>1.000000</td>\n",
       "      <td>1.000000</td>\n",
       "      <td>...</td>\n",
       "      <td>1.000000</td>\n",
       "      <td>2.000000</td>\n",
       "      <td>103292.000000</td>\n",
       "      <td>0.000000</td>\n",
       "      <td>196.961538</td>\n",
       "      <td>0.441269</td>\n",
       "      <td>1.867636</td>\n",
       "      <td>103292.000000</td>\n",
       "      <td>1.867636</td>\n",
       "      <td>3.142646</td>\n",
       "    </tr>\n",
       "    <tr>\n",
       "      <th>50%</th>\n",
       "      <td>58.000000</td>\n",
       "      <td>4.100000</td>\n",
       "      <td>2.900000</td>\n",
       "      <td>1413.000000</td>\n",
       "      <td>1.000000</td>\n",
       "      <td>2.000000</td>\n",
       "      <td>2.000000</td>\n",
       "      <td>2.000000</td>\n",
       "      <td>2.000000</td>\n",
       "      <td>2.000000</td>\n",
       "      <td>...</td>\n",
       "      <td>1.000000</td>\n",
       "      <td>3.000000</td>\n",
       "      <td>105962.000000</td>\n",
       "      <td>1.000000</td>\n",
       "      <td>215.409091</td>\n",
       "      <td>0.500000</td>\n",
       "      <td>2.025000</td>\n",
       "      <td>105962.000000</td>\n",
       "      <td>2.025000</td>\n",
       "      <td>3.332883</td>\n",
       "    </tr>\n",
       "    <tr>\n",
       "      <th>75%</th>\n",
       "      <td>81.000000</td>\n",
       "      <td>4.500000</td>\n",
       "      <td>3.400000</td>\n",
       "      <td>1894.000000</td>\n",
       "      <td>2.000000</td>\n",
       "      <td>4.000000</td>\n",
       "      <td>2.250000</td>\n",
       "      <td>4.000000</td>\n",
       "      <td>3.000000</td>\n",
       "      <td>4.000000</td>\n",
       "      <td>...</td>\n",
       "      <td>2.000000</td>\n",
       "      <td>5.000000</td>\n",
       "      <td>108351.000000</td>\n",
       "      <td>1.000000</td>\n",
       "      <td>235.808649</td>\n",
       "      <td>0.589744</td>\n",
       "      <td>2.301163</td>\n",
       "      <td>108351.000000</td>\n",
       "      <td>2.301163</td>\n",
       "      <td>3.666735</td>\n",
       "    </tr>\n",
       "    <tr>\n",
       "      <th>max</th>\n",
       "      <td>341.000000</td>\n",
       "      <td>5.000000</td>\n",
       "      <td>4.700000</td>\n",
       "      <td>14621.000000</td>\n",
       "      <td>9.000000</td>\n",
       "      <td>9.000000</td>\n",
       "      <td>6.000000</td>\n",
       "      <td>9.000000</td>\n",
       "      <td>9.000000</td>\n",
       "      <td>8.000000</td>\n",
       "      <td>...</td>\n",
       "      <td>8.000000</td>\n",
       "      <td>9.000000</td>\n",
       "      <td>110900.000000</td>\n",
       "      <td>1.000000</td>\n",
       "      <td>287.960000</td>\n",
       "      <td>0.983871</td>\n",
       "      <td>3.404040</td>\n",
       "      <td>110900.000000</td>\n",
       "      <td>3.404040</td>\n",
       "      <td>5.000000</td>\n",
       "    </tr>\n",
       "  </tbody>\n",
       "</table>\n",
       "<p>8 rows × 32 columns</p>\n",
       "</div>"
      ],
      "text/plain": [
       "       review_count  overall_quality  level_of_difficulity      schoolid  \\\n",
       "count    243.000000       243.000000            243.000000    243.000000   \n",
       "mean      71.119342         3.992181              2.922222   1796.518519   \n",
       "std       39.498381         0.636608              0.717376   2067.476716   \n",
       "min       37.000000         2.200000              1.100000     45.000000   \n",
       "25%       45.000000         3.600000              2.400000    826.000000   \n",
       "50%       58.000000         4.100000              2.900000   1413.000000   \n",
       "75%       81.000000         4.500000              3.400000   1894.000000   \n",
       "max      341.000000         5.000000              4.700000  14621.000000   \n",
       "\n",
       "       accessible outside class  amazing lectures  beware of pop quizzes  \\\n",
       "count                 85.000000        123.000000              32.000000   \n",
       "mean                   1.882353          2.764228               2.125000   \n",
       "std                    1.475287          2.084609               1.431219   \n",
       "min                    1.000000          0.000000               1.000000   \n",
       "25%                    1.000000          1.000000               1.000000   \n",
       "50%                    1.000000          2.000000               2.000000   \n",
       "75%                    2.000000          4.000000               2.250000   \n",
       "max                    9.000000          9.000000               6.000000   \n",
       "\n",
       "           caring  clear grading criteria  extra credit     ...      \\\n",
       "count  158.000000              125.000000     72.000000     ...       \n",
       "mean     3.031646                2.552000      2.555556     ...       \n",
       "std      2.230138                1.824811      2.047939     ...       \n",
       "min      0.000000                0.000000      0.000000     ...       \n",
       "25%      1.000000                1.000000      1.000000     ...       \n",
       "50%      2.000000                2.000000      2.000000     ...       \n",
       "75%      4.000000                3.000000      4.000000     ...       \n",
       "max      9.000000                9.000000      8.000000     ...       \n",
       "\n",
       "       test heavy  tough grader        prof_id         sex  comment_length  \\\n",
       "count   70.000000    138.000000     243.000000  243.000000      243.000000   \n",
       "mean     1.814286      3.384058  105720.139918    0.641975      215.240019   \n",
       "std      1.343722      2.202595    3016.649431    0.480409       28.283330   \n",
       "min      0.000000      0.000000  100179.000000    0.000000      131.756098   \n",
       "25%      1.000000      2.000000  103292.000000    0.000000      196.961538   \n",
       "50%      1.000000      3.000000  105962.000000    1.000000      215.409091   \n",
       "75%      2.000000      5.000000  108351.000000    1.000000      235.808649   \n",
       "max      8.000000      9.000000  110900.000000    1.000000      287.960000   \n",
       "\n",
       "              tac          ts             id          ts   scaled_ts  \n",
       "count  243.000000  243.000000     243.000000  243.000000  243.000000  \n",
       "mean     0.529669    2.111018  105720.139918    2.111018    3.436869  \n",
       "std      0.120014    0.321928    3016.649431    0.321928    0.389177  \n",
       "min      0.351351    1.750000  100179.000000    1.750000    3.000436  \n",
       "25%      0.441269    1.867636  103292.000000    1.867636    3.142646  \n",
       "50%      0.500000    2.025000  105962.000000    2.025000    3.332883  \n",
       "75%      0.589744    2.301163  108351.000000    2.301163    3.666735  \n",
       "max      0.983871    3.404040  110900.000000    3.404040    5.000000  \n",
       "\n",
       "[8 rows x 32 columns]"
      ]
     },
     "execution_count": 168,
     "metadata": {},
     "output_type": "execute_result"
    }
   ],
   "source": [
    "high_value_prof.describe()"
   ]
  },
  {
   "cell_type": "code",
   "execution_count": 182,
   "metadata": {},
   "outputs": [
    {
     "data": {
      "text/plain": [
       "comment_length                 215.240019\n",
       "review_count                    71.119342\n",
       "overall_quality                  3.992181\n",
       "skip class? you won't pass.      3.549383\n",
       "tough grader                     3.384058\n",
       "respected                        3.037500\n",
       "caring                           3.031646\n",
       "hilarious                        2.982456\n",
       "lots of homework                 2.944444\n",
       "level_of_difficulity             2.922222\n",
       "amazing lectures                 2.764228\n",
       "gives good feedback              2.702381\n",
       "get ready to read                2.659341\n",
       "inspirational                    2.610169\n",
       "participation matters            2.609756\n",
       "extra credit                     2.555556\n",
       "clear grading criteria           2.552000\n",
       "group projects                   2.266667\n",
       "beware of pop quizzes            2.125000\n",
       "lecture heavy                    2.009259\n",
       "accessible outside class         1.882353\n",
       "test heavy                       1.814286\n",
       "graded by few things             1.660000\n",
       "so many papers                   1.206897\n",
       "dtype: float64"
      ]
     },
     "execution_count": 182,
     "metadata": {},
     "output_type": "execute_result"
    }
   ],
   "source": [
    "high_value_prof[qualities].mean().sort_values(ascending=False)"
   ]
  },
  {
   "cell_type": "code",
   "execution_count": 177,
   "metadata": {},
   "outputs": [
    {
     "data": {
      "text/plain": [
       "1.0    0.641975\n",
       "0.0    0.358025\n",
       "Name: sex, dtype: float64"
      ]
     },
     "execution_count": 177,
     "metadata": {},
     "output_type": "execute_result"
    }
   ],
   "source": [
    "high_value_prof.sex.value_counts()/high_value_prof.sex.count()"
   ]
  },
  {
   "cell_type": "code",
   "execution_count": 178,
   "metadata": {},
   "outputs": [
    {
     "data": {
      "text/plain": [
       "1.0    0.641773\n",
       "0.0    0.358227\n",
       "Name: sex, dtype: float64"
      ]
     },
     "execution_count": 178,
     "metadata": {},
     "output_type": "execute_result"
    }
   ],
   "source": [
    "prof.sex.value_counts()/prof.sex.count()"
   ]
  },
  {
   "cell_type": "code",
   "execution_count": 183,
   "metadata": {
    "collapsed": true
   },
   "outputs": [],
   "source": [
    "low_value_prof = prof[prof.scaled_ts >2]"
   ]
  },
  {
   "cell_type": "code",
   "execution_count": 184,
   "metadata": {},
   "outputs": [
    {
     "data": {
      "text/plain": [
       "(1022, 39)"
      ]
     },
     "execution_count": 184,
     "metadata": {},
     "output_type": "execute_result"
    }
   ],
   "source": [
    "low_value_prof.shape"
   ]
  },
  {
   "cell_type": "code",
   "execution_count": 185,
   "metadata": {},
   "outputs": [
    {
     "data": {
      "text/plain": [
       "comment_length                 208.692445\n",
       "review_count                    73.653620\n",
       "overall_quality                  3.731213\n",
       "tough grader                     3.227124\n",
       "skip class? you won't pass.      3.151067\n",
       "get ready to read                3.000000\n",
       "level_of_difficulity             2.987573\n",
       "respected                        2.903339\n",
       "caring                           2.826248\n",
       "lots of homework                 2.756264\n",
       "hilarious                        2.733173\n",
       "amazing lectures                 2.702586\n",
       "clear grading criteria           2.617063\n",
       "gives good feedback              2.601351\n",
       "lecture heavy                    2.577963\n",
       "participation matters            2.509202\n",
       "extra credit                     2.477032\n",
       "inspirational                    2.392202\n",
       "test heavy                       2.211679\n",
       "beware of pop quizzes            2.123077\n",
       "group projects                   2.000000\n",
       "graded by few things             1.873563\n",
       "accessible outside class         1.861842\n",
       "so many papers                   1.686747\n",
       "dtype: float64"
      ]
     },
     "execution_count": 185,
     "metadata": {},
     "output_type": "execute_result"
    }
   ],
   "source": [
    "low_value_prof[qualities].mean().sort_values(ascending=False)"
   ]
  },
  {
   "cell_type": "code",
   "execution_count": 186,
   "metadata": {},
   "outputs": [
    {
     "data": {
      "text/html": [
       "<div>\n",
       "<style>\n",
       "    .dataframe thead tr:only-child th {\n",
       "        text-align: right;\n",
       "    }\n",
       "\n",
       "    .dataframe thead th {\n",
       "        text-align: left;\n",
       "    }\n",
       "\n",
       "    .dataframe tbody tr th {\n",
       "        vertical-align: top;\n",
       "    }\n",
       "</style>\n",
       "<table border=\"1\" class=\"dataframe\">\n",
       "  <thead>\n",
       "    <tr style=\"text-align: right;\">\n",
       "      <th></th>\n",
       "      <th>review_count</th>\n",
       "      <th>dept</th>\n",
       "      <th>overall_quality</th>\n",
       "      <th>level_of_difficulity</th>\n",
       "      <th>hotness</th>\n",
       "      <th>take_again</th>\n",
       "      <th>name</th>\n",
       "      <th>school</th>\n",
       "      <th>schoolid</th>\n",
       "      <th>city</th>\n",
       "      <th>...</th>\n",
       "      <th>test heavy</th>\n",
       "      <th>tough grader</th>\n",
       "      <th>prof_id</th>\n",
       "      <th>sex</th>\n",
       "      <th>comment_length</th>\n",
       "      <th>tac</th>\n",
       "      <th>ts</th>\n",
       "      <th>id</th>\n",
       "      <th>ts</th>\n",
       "      <th>scaled_ts</th>\n",
       "    </tr>\n",
       "  </thead>\n",
       "  <tbody>\n",
       "    <tr>\n",
       "      <th>100006</th>\n",
       "      <td>37</td>\n",
       "      <td>Business</td>\n",
       "      <td>3.1</td>\n",
       "      <td>3.6</td>\n",
       "      <td>cold-chili</td>\n",
       "      <td>40%</td>\n",
       "      <td>Danny Ervin</td>\n",
       "      <td>Salisbury University</td>\n",
       "      <td>871</td>\n",
       "      <td>Salisbury</td>\n",
       "      <td>...</td>\n",
       "      <td>2.0</td>\n",
       "      <td>1.0</td>\n",
       "      <td>100006</td>\n",
       "      <td>1.0</td>\n",
       "      <td>183.405405</td>\n",
       "      <td>0.432432</td>\n",
       "      <td>1.472973</td>\n",
       "      <td>100006</td>\n",
       "      <td>1.472973</td>\n",
       "      <td>2.665539</td>\n",
       "    </tr>\n",
       "    <tr>\n",
       "      <th>100043</th>\n",
       "      <td>82</td>\n",
       "      <td>Psychology</td>\n",
       "      <td>3.6</td>\n",
       "      <td>2.5</td>\n",
       "      <td>cold-chili</td>\n",
       "      <td>N/A</td>\n",
       "      <td>Dennis Sobol</td>\n",
       "      <td>Oakland Community College - Orchard Ridge</td>\n",
       "      <td>1377</td>\n",
       "      <td>Farmington Hills</td>\n",
       "      <td>...</td>\n",
       "      <td>NaN</td>\n",
       "      <td>NaN</td>\n",
       "      <td>100043</td>\n",
       "      <td>1.0</td>\n",
       "      <td>180.451220</td>\n",
       "      <td>0.268293</td>\n",
       "      <td>0.957317</td>\n",
       "      <td>100043</td>\n",
       "      <td>0.957317</td>\n",
       "      <td>2.042164</td>\n",
       "    </tr>\n",
       "    <tr>\n",
       "      <th>100075</th>\n",
       "      <td>40</td>\n",
       "      <td>Humanities</td>\n",
       "      <td>3.3</td>\n",
       "      <td>3.8</td>\n",
       "      <td>cold-chili</td>\n",
       "      <td>N/A</td>\n",
       "      <td>Mark Golden</td>\n",
       "      <td>University of Winnipeg</td>\n",
       "      <td>1494</td>\n",
       "      <td>Winnipeg</td>\n",
       "      <td>...</td>\n",
       "      <td>NaN</td>\n",
       "      <td>1.0</td>\n",
       "      <td>100075</td>\n",
       "      <td>1.0</td>\n",
       "      <td>201.575000</td>\n",
       "      <td>0.225000</td>\n",
       "      <td>0.975000</td>\n",
       "      <td>100075</td>\n",
       "      <td>0.975000</td>\n",
       "      <td>2.063541</td>\n",
       "    </tr>\n",
       "    <tr>\n",
       "      <th>100089</th>\n",
       "      <td>44</td>\n",
       "      <td>Mathematics</td>\n",
       "      <td>3.1</td>\n",
       "      <td>3.2</td>\n",
       "      <td>cold-chili</td>\n",
       "      <td>83%</td>\n",
       "      <td>Shanty Elias</td>\n",
       "      <td>Mount Royal University</td>\n",
       "      <td>1570</td>\n",
       "      <td>Calgary</td>\n",
       "      <td>...</td>\n",
       "      <td>NaN</td>\n",
       "      <td>NaN</td>\n",
       "      <td>100089</td>\n",
       "      <td>0.0</td>\n",
       "      <td>195.909091</td>\n",
       "      <td>0.545455</td>\n",
       "      <td>1.454545</td>\n",
       "      <td>100089</td>\n",
       "      <td>1.454545</td>\n",
       "      <td>2.643262</td>\n",
       "    </tr>\n",
       "    <tr>\n",
       "      <th>100100</th>\n",
       "      <td>71</td>\n",
       "      <td>Business</td>\n",
       "      <td>3.1</td>\n",
       "      <td>3.6</td>\n",
       "      <td>cold-chili</td>\n",
       "      <td>N/A</td>\n",
       "      <td>Duncan Cameron</td>\n",
       "      <td>Concordia University</td>\n",
       "      <td>1422</td>\n",
       "      <td>Montreal</td>\n",
       "      <td>...</td>\n",
       "      <td>NaN</td>\n",
       "      <td>NaN</td>\n",
       "      <td>100100</td>\n",
       "      <td>1.0</td>\n",
       "      <td>174.211268</td>\n",
       "      <td>0.492958</td>\n",
       "      <td>1.316901</td>\n",
       "      <td>100100</td>\n",
       "      <td>1.316901</td>\n",
       "      <td>2.476865</td>\n",
       "    </tr>\n",
       "  </tbody>\n",
       "</table>\n",
       "<p>5 rows × 39 columns</p>\n",
       "</div>"
      ],
      "text/plain": [
       "        review_count         dept  overall_quality  level_of_difficulity  \\\n",
       "100006            37     Business              3.1                   3.6   \n",
       "100043            82   Psychology              3.6                   2.5   \n",
       "100075            40   Humanities              3.3                   3.8   \n",
       "100089            44  Mathematics              3.1                   3.2   \n",
       "100100            71     Business              3.1                   3.6   \n",
       "\n",
       "           hotness take_again            name  \\\n",
       "100006  cold-chili        40%     Danny Ervin   \n",
       "100043  cold-chili        N/A    Dennis Sobol   \n",
       "100075  cold-chili        N/A     Mark Golden   \n",
       "100089  cold-chili        83%    Shanty Elias   \n",
       "100100  cold-chili        N/A  Duncan Cameron   \n",
       "\n",
       "                                           school  schoolid              city  \\\n",
       "100006                       Salisbury University       871         Salisbury   \n",
       "100043  Oakland Community College - Orchard Ridge      1377  Farmington Hills   \n",
       "100075                     University of Winnipeg      1494          Winnipeg   \n",
       "100089                     Mount Royal University      1570           Calgary   \n",
       "100100                       Concordia University      1422          Montreal   \n",
       "\n",
       "          ...     test heavy  tough grader  prof_id  sex  comment_length  \\\n",
       "100006    ...            2.0           1.0   100006  1.0      183.405405   \n",
       "100043    ...            NaN           NaN   100043  1.0      180.451220   \n",
       "100075    ...            NaN           1.0   100075  1.0      201.575000   \n",
       "100089    ...            NaN           NaN   100089  0.0      195.909091   \n",
       "100100    ...            NaN           NaN   100100  1.0      174.211268   \n",
       "\n",
       "             tac        ts      id        ts  scaled_ts  \n",
       "100006  0.432432  1.472973  100006  1.472973   2.665539  \n",
       "100043  0.268293  0.957317  100043  0.957317   2.042164  \n",
       "100075  0.225000  0.975000  100075  0.975000   2.063541  \n",
       "100089  0.545455  1.454545  100089  1.454545   2.643262  \n",
       "100100  0.492958  1.316901  100100  1.316901   2.476865  \n",
       "\n",
       "[5 rows x 39 columns]"
      ]
     },
     "execution_count": 186,
     "metadata": {},
     "output_type": "execute_result"
    }
   ],
   "source": [
    "low_value_prof.head()"
   ]
  },
  {
   "cell_type": "code",
   "execution_count": null,
   "metadata": {
    "collapsed": true
   },
   "outputs": [],
   "source": []
  },
  {
   "cell_type": "code",
   "execution_count": null,
   "metadata": {
    "collapsed": true
   },
   "outputs": [],
   "source": []
  },
  {
   "cell_type": "code",
   "execution_count": null,
   "metadata": {
    "collapsed": true
   },
   "outputs": [],
   "source": []
  },
  {
   "cell_type": "code",
   "execution_count": null,
   "metadata": {
    "collapsed": true
   },
   "outputs": [],
   "source": []
  },
  {
   "cell_type": "code",
   "execution_count": 189,
   "metadata": {},
   "outputs": [],
   "source": [
    "x = pd.DataFrame([[1,{'q1':3, 'q2':2}],\n",
    "              [4,{'q1':3, 'q3':2}]], columns=['id', 'qualities'])"
   ]
  },
  {
   "cell_type": "code",
   "execution_count": 190,
   "metadata": {},
   "outputs": [
    {
     "data": {
      "text/html": [
       "<div>\n",
       "<style>\n",
       "    .dataframe thead tr:only-child th {\n",
       "        text-align: right;\n",
       "    }\n",
       "\n",
       "    .dataframe thead th {\n",
       "        text-align: left;\n",
       "    }\n",
       "\n",
       "    .dataframe tbody tr th {\n",
       "        vertical-align: top;\n",
       "    }\n",
       "</style>\n",
       "<table border=\"1\" class=\"dataframe\">\n",
       "  <thead>\n",
       "    <tr style=\"text-align: right;\">\n",
       "      <th></th>\n",
       "      <th>id</th>\n",
       "      <th>qualities</th>\n",
       "    </tr>\n",
       "  </thead>\n",
       "  <tbody>\n",
       "    <tr>\n",
       "      <th>0</th>\n",
       "      <td>1</td>\n",
       "      <td>{'q1': 3, 'q2': 2}</td>\n",
       "    </tr>\n",
       "    <tr>\n",
       "      <th>1</th>\n",
       "      <td>4</td>\n",
       "      <td>{'q1': 3, 'q3': 2}</td>\n",
       "    </tr>\n",
       "  </tbody>\n",
       "</table>\n",
       "</div>"
      ],
      "text/plain": [
       "   id           qualities\n",
       "0   1  {'q1': 3, 'q2': 2}\n",
       "1   4  {'q1': 3, 'q3': 2}"
      ]
     },
     "execution_count": 190,
     "metadata": {},
     "output_type": "execute_result"
    }
   ],
   "source": [
    "x"
   ]
  },
  {
   "cell_type": "code",
   "execution_count": 191,
   "metadata": {
    "collapsed": true
   },
   "outputs": [],
   "source": [
    "x2 = x['qualities'].apply(pd.Series)"
   ]
  },
  {
   "cell_type": "code",
   "execution_count": 192,
   "metadata": {},
   "outputs": [
    {
     "data": {
      "text/html": [
       "<div>\n",
       "<style>\n",
       "    .dataframe thead tr:only-child th {\n",
       "        text-align: right;\n",
       "    }\n",
       "\n",
       "    .dataframe thead th {\n",
       "        text-align: left;\n",
       "    }\n",
       "\n",
       "    .dataframe tbody tr th {\n",
       "        vertical-align: top;\n",
       "    }\n",
       "</style>\n",
       "<table border=\"1\" class=\"dataframe\">\n",
       "  <thead>\n",
       "    <tr style=\"text-align: right;\">\n",
       "      <th></th>\n",
       "      <th>q1</th>\n",
       "      <th>q2</th>\n",
       "      <th>q3</th>\n",
       "    </tr>\n",
       "  </thead>\n",
       "  <tbody>\n",
       "    <tr>\n",
       "      <th>0</th>\n",
       "      <td>3.0</td>\n",
       "      <td>2.0</td>\n",
       "      <td>NaN</td>\n",
       "    </tr>\n",
       "    <tr>\n",
       "      <th>1</th>\n",
       "      <td>3.0</td>\n",
       "      <td>NaN</td>\n",
       "      <td>2.0</td>\n",
       "    </tr>\n",
       "  </tbody>\n",
       "</table>\n",
       "</div>"
      ],
      "text/plain": [
       "    q1   q2   q3\n",
       "0  3.0  2.0  NaN\n",
       "1  3.0  NaN  2.0"
      ]
     },
     "execution_count": 192,
     "metadata": {},
     "output_type": "execute_result"
    }
   ],
   "source": [
    "x2"
   ]
  },
  {
   "cell_type": "code",
   "execution_count": 195,
   "metadata": {
    "collapsed": true
   },
   "outputs": [],
   "source": [
    "x3 = pd.concat([x,x2], axis=1).drop('qualities', axis=1)"
   ]
  },
  {
   "cell_type": "code",
   "execution_count": 196,
   "metadata": {},
   "outputs": [
    {
     "data": {
      "text/html": [
       "<div>\n",
       "<style>\n",
       "    .dataframe thead tr:only-child th {\n",
       "        text-align: right;\n",
       "    }\n",
       "\n",
       "    .dataframe thead th {\n",
       "        text-align: left;\n",
       "    }\n",
       "\n",
       "    .dataframe tbody tr th {\n",
       "        vertical-align: top;\n",
       "    }\n",
       "</style>\n",
       "<table border=\"1\" class=\"dataframe\">\n",
       "  <thead>\n",
       "    <tr style=\"text-align: right;\">\n",
       "      <th></th>\n",
       "      <th>id</th>\n",
       "      <th>q1</th>\n",
       "      <th>q2</th>\n",
       "      <th>q3</th>\n",
       "    </tr>\n",
       "  </thead>\n",
       "  <tbody>\n",
       "    <tr>\n",
       "      <th>0</th>\n",
       "      <td>1</td>\n",
       "      <td>3.0</td>\n",
       "      <td>2.0</td>\n",
       "      <td>NaN</td>\n",
       "    </tr>\n",
       "    <tr>\n",
       "      <th>1</th>\n",
       "      <td>4</td>\n",
       "      <td>3.0</td>\n",
       "      <td>NaN</td>\n",
       "      <td>2.0</td>\n",
       "    </tr>\n",
       "  </tbody>\n",
       "</table>\n",
       "</div>"
      ],
      "text/plain": [
       "   id   q1   q2   q3\n",
       "0   1  3.0  2.0  NaN\n",
       "1   4  3.0  NaN  2.0"
      ]
     },
     "execution_count": 196,
     "metadata": {},
     "output_type": "execute_result"
    }
   ],
   "source": [
    "x3"
   ]
  },
  {
   "cell_type": "code",
   "execution_count": null,
   "metadata": {
    "collapsed": true
   },
   "outputs": [],
   "source": []
  }
 ],
 "metadata": {
  "kernelspec": {
   "display_name": "Python 3",
   "language": "python",
   "name": "python3"
  },
  "language_info": {
   "codemirror_mode": {
    "name": "ipython",
    "version": 3
   },
   "file_extension": ".py",
   "mimetype": "text/x-python",
   "name": "python",
   "nbconvert_exporter": "python",
   "pygments_lexer": "ipython3",
   "version": "3.6.3"
  }
 },
 "nbformat": 4,
 "nbformat_minor": 2
}
