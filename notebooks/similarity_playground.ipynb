{
 "cells": [
  {
   "cell_type": "code",
   "execution_count": 1,
   "metadata": {
    "collapsed": true
   },
   "outputs": [],
   "source": [
    "# Import spacy\n",
    "import spacy\n",
    "nlp = spacy.load('en_core_web_md')"
   ]
  },
  {
   "cell_type": "code",
   "execution_count": 2,
   "metadata": {
    "collapsed": true
   },
   "outputs": [],
   "source": [
    "import os"
   ]
  },
  {
   "cell_type": "code",
   "execution_count": 8,
   "metadata": {
    "collapsed": true
   },
   "outputs": [],
   "source": [
    "import pickle"
   ]
  },
  {
   "cell_type": "markdown",
   "metadata": {},
   "source": [
    "#### navigate for data access"
   ]
  },
  {
   "cell_type": "markdown",
   "metadata": {},
   "source": [
    "!pwd"
   ]
  },
  {
   "cell_type": "code",
   "execution_count": 3,
   "metadata": {
    "collapsed": true
   },
   "outputs": [],
   "source": [
    "!cd .."
   ]
  },
  {
   "cell_type": "code",
   "execution_count": 4,
   "metadata": {
    "collapsed": true
   },
   "outputs": [],
   "source": [
    "os.chdir('/home/zafrin/PycharmProjects/RateMyProfessor')"
   ]
  },
  {
   "cell_type": "code",
   "execution_count": 5,
   "metadata": {},
   "outputs": [
    {
     "name": "stdout",
     "output_type": "stream",
     "text": [
      "/home/zafrin/PycharmProjects/RateMyProfessor\r\n"
     ]
    }
   ],
   "source": [
    "!pwd"
   ]
  },
  {
   "cell_type": "code",
   "execution_count": 6,
   "metadata": {
    "collapsed": true
   },
   "outputs": [],
   "source": [
    "directory = os.path.join('data', 'intermediate', 'comments')\n",
    "filepath = os.path.join(directory, 'comment_sents_raw.txt')\n",
    "test_filepath = os.path.join(directory, 'comment_sents_test.txt')"
   ]
  },
  {
   "cell_type": "markdown",
   "metadata": {},
   "source": [
    "## Functions for later use"
   ]
  },
  {
   "cell_type": "code",
   "execution_count": 9,
   "metadata": {
    "collapsed": true
   },
   "outputs": [],
   "source": [
    "def look_inside(ittr_obj, n=10):\n",
    "    count = 0\n",
    "    for i in ittr_obj:\n",
    "        print(i)\n",
    "        count += 1\n",
    "        if count == n: break"
   ]
  },
  {
   "cell_type": "markdown",
   "metadata": {
    "collapsed": true
   },
   "source": [
    "## Word2Vec model with lemmetizing raw comments"
   ]
  },
  {
   "cell_type": "code",
   "execution_count": 8,
   "metadata": {
    "collapsed": true
   },
   "outputs": [],
   "source": [
    "f = open(test_filepath, 'r', encoding='utf-8')\n",
    "test_comments = [f.readline()[:-1] for line in f]\n",
    "f.close()"
   ]
  },
  {
   "cell_type": "code",
   "execution_count": 9,
   "metadata": {
    "collapsed": true
   },
   "outputs": [],
   "source": [
    "# only lemmetizing\n",
    "for i, comment in enumerate(test_comments):\n",
    "    lst = []\n",
    "    processed_comment = nlp(comment)\n",
    "    for word in processed_comment:\n",
    "        lst.append(word.lemma_)\n",
    "    test_comments[i] = lst"
   ]
  },
  {
   "cell_type": "code",
   "execution_count": 11,
   "metadata": {
    "collapsed": true
   },
   "outputs": [],
   "source": [
    "pickle_out = open('data/pickle/raw_comments_lemma.pickle', 'wb')\n",
    "pickle.dump(test_comments, pickle_out)\n",
    "pickle_out.close()"
   ]
  },
  {
   "cell_type": "code",
   "execution_count": 12,
   "metadata": {
    "collapsed": true
   },
   "outputs": [],
   "source": [
    "pickle_in = open('data/pickle/raw_comments_lemma.pickle', 'rb')\n",
    "test_comments = pickle.load(pickle_in)\n",
    "pickle_in.close()"
   ]
  },
  {
   "cell_type": "code",
   "execution_count": 13,
   "metadata": {
    "scrolled": true
   },
   "outputs": [
    {
     "data": {
      "text/plain": [
       "['the', 'lecture', 'jump', 'from', 'place', 'to', 'place', '.']"
      ]
     },
     "execution_count": 13,
     "metadata": {},
     "output_type": "execute_result"
    }
   ],
   "source": [
    "test_comments[6]"
   ]
  },
  {
   "cell_type": "code",
   "execution_count": 14,
   "metadata": {
    "collapsed": true
   },
   "outputs": [],
   "source": [
    "from gensim.models.word2vec import Word2Vec"
   ]
  },
  {
   "cell_type": "code",
   "execution_count": 15,
   "metadata": {
    "collapsed": true,
    "scrolled": false
   },
   "outputs": [],
   "source": [
    "model = Word2Vec(test_comments)"
   ]
  },
  {
   "cell_type": "code",
   "execution_count": 16,
   "metadata": {
    "collapsed": true
   },
   "outputs": [],
   "source": [
    "model.save('models/word2vec__raw_comments_lemma.model')"
   ]
  },
  {
   "cell_type": "code",
   "execution_count": 17,
   "metadata": {
    "collapsed": true
   },
   "outputs": [],
   "source": [
    "model = Word2Vec.load('models/word2vec__raw_comments_lemma.model')"
   ]
  },
  {
   "cell_type": "code",
   "execution_count": 18,
   "metadata": {},
   "outputs": [
    {
     "data": {
      "text/plain": [
       "[('material', 0.9860669374465942),\n",
       " ('reading', 0.9819191098213196),\n",
       " ('and', 0.979180634021759),\n",
       " ('explain', 0.9768685102462769),\n",
       " ('everything', 0.9766107797622681),\n",
       " ('open', 0.9756917953491211),\n",
       " ('text', 0.9740712642669678),\n",
       " ('write', 0.9738531112670898),\n",
       " ('point', 0.9730600714683533),\n",
       " ('exactly', 0.9729022979736328)]"
      ]
     },
     "execution_count": 18,
     "metadata": {},
     "output_type": "execute_result"
    }
   ],
   "source": [
    "model.wv.most_similar('lecture')"
   ]
  },
  {
   "cell_type": "code",
   "execution_count": 19,
   "metadata": {
    "scrolled": true
   },
   "outputs": [
    {
     "data": {
      "text/plain": [
       "[('professor', 0.9831404685974121),\n",
       " ('prof', 0.9731804728507996),\n",
       " ('guy', 0.9653838872909546),\n",
       " ('great', 0.9452398419380188),\n",
       " ('awesome', 0.9448445439338684),\n",
       " ('ever', 0.9303163886070251),\n",
       " ('man', 0.927885115146637),\n",
       " ('good', 0.9262146949768066),\n",
       " ('lavc', 0.9259636402130127),\n",
       " ('amazing', 0.9253740310668945)]"
      ]
     },
     "execution_count": 19,
     "metadata": {},
     "output_type": "execute_result"
    }
   ],
   "source": [
    "model.wv.most_similar('teacher')"
   ]
  },
  {
   "cell_type": "markdown",
   "metadata": {
    "collapsed": true
   },
   "source": [
    "## Testing Word2Vec model by removing stopwords and lemmetizing raw comments"
   ]
  },
  {
   "cell_type": "markdown",
   "metadata": {},
   "source": [
    "#### Looking into Stop Words"
   ]
  },
  {
   "cell_type": "code",
   "execution_count": 20,
   "metadata": {
    "collapsed": true
   },
   "outputs": [],
   "source": [
    "from spacy.lang.en.stop_words import STOP_WORDS"
   ]
  },
  {
   "cell_type": "code",
   "execution_count": 21,
   "metadata": {},
   "outputs": [
    {
     "name": "stdout",
     "output_type": "stream",
     "text": [
      "anyhow   down   fifteen   as   within   most   on   everywhere   whereupon   amongst   has   nevertheless   somehow   give   except   our   under   even   whose   wherein   ten   get   some   she   is   still   move   much   now   moreover   seemed   of   seeming   whenever   i   otherwise   everyone   perhaps   might   done   became   meanwhile   beside   which   who   twenty   becomes   becoming   almost   between   him   namely   was   due   were   all   somewhere   fifty   always   themselves   twelve   two   used   before   them   every   formerly   afterwards   did   ca   each   hence   ourselves   seem   being   those   ever   can   please   put   thus   first   else   already   the   thence   re   nothing   cannot   have   same   whether   itself   should   here   neither   thereupon   what   last   third   less   while   her   take   therein   someone   into   then   we   using   whereby   would   are   full   others   sometimes   indeed   whole   make   together   himself   beyond   really   say   around   since   part   thereafter   above   than   eight   nor   too   do   yours   thereby   when   your   its   am   because   three   not   anything   he   hereafter   keep   off   serious   my   these   elsewhere   been   had   towards   hers   anyway   for   very   more   few   front   hereupon   that   whereas   doing   sometime   with   an   if   side   per   anywhere   there   below   mostly   mine   see   regarding   quite   us   become   nine   where   beforehand   alone   noone   through   could   yourselves   must   toward   seems   herself   whereafter   rather   five   next   thru   his   various   me   often   own   this   along   forty   up   across   whatever   several   nowhere   latterly   their   any   therefore   well   amount   such   one   upon   by   ours   top   behind   enough   only   whence   never   former   empty   myself   during   show   be   about   after   in   whither   bottom   none   via   however   yourself   among   or   further   from   and   either   it   whoever   least   call   other   why   something   without   everything   onto   until   yet   also   again   both   just   sixty   although   nobody   hundred   unless   back   six   so   a   many   how   though   to   four   out   against   name   anyone   throughout   latter   at   eleven   no   you   once   wherever   but   whom   besides   another   go   hereby   does   over   may   made   herein   they   will   "
     ]
    }
   ],
   "source": [
    "for word in STOP_WORDS:\n",
    "    print(word, end= '   ')"
   ]
  },
  {
   "cell_type": "code",
   "execution_count": 22,
   "metadata": {
    "collapsed": true
   },
   "outputs": [],
   "source": [
    "prof_words = {'her', 'she', 'his', 'he', 'himself', 'him', 'herself'}\n",
    "exr = {'very', 'too'}\n",
    "stop = {'really','very', 'too', 'therein', 'an', 'amount', 'below', 'herein', 'now', 'was', 'in', \n",
    "'when', 'before', 'four', 'few', 'did', 'full', 'elsewhere', 'than',\n",
    "'name', 'rather', 'without', 'ten', 'become', 'since', 'what', 'bottom',\n",
    "'or', 'per', 'whole', 'everyone', 'are', 'nor', 'various', 'thereupon',\n",
    "'re', 'only', 'unless', 'indeed', 'see', 'upon', 'throughout', 'hereafter',\n",
    "'via', 'by', 'whoever', 'used', 'be', 'may', 'then', 'around', 'it', \n",
    "'above', 'their', 'every', 'through', 'eight', 'that', 'move', 'on', \n",
    "'whether', 'themselves', 'these', 'beyond', 'side', 'afterwards', \n",
    "'already', 'whereas', 'over', 'whereby', 'been', 'least', 'nobody',\n",
    "'latter', 'while', 'part', 'go', 'however', 'though', 'they', 'moreover',\n",
    "'empty', 'until', 'show', 'thence', 'should', 'alone', 'as', 'back', \n",
    "'third', 'just', 'also', 'this', 'eleven', 'a', 'besides', 'twenty', \n",
    "'with', 'several', 'nowhere', 'would', 'although', 'almost', 'others',\n",
    "'if', 'fifty', 'latterly', 'fifteen', 'for', 'first', 'please',\n",
    "'done', 'due', 'last', 'either', 'further', 'between', 'noone', 'across',\n",
    "'keep', 'whereafter', 'quite', 'ever', 'no', 'can', 'else', 'somewhere', \n",
    "'thereafter', 'up', 'onto', 'became', 'your', 'take', 'top', 'still',\n",
    "'i', 'beside', 'one', 'them', 'about', 'anywhere', 'someone', 'wherever',\n",
    "'could', 'has', 'call', 'wherein', 'well', 'does', 'down', 'give', 'we', \n",
    "'which', 'whom', 'behind', 'another', 'seem', 'whereupon', 'am', \n",
    "'both', 'our', 'from', 'yourself', 'hereby', 'same', 'after', 'much',\n",
    "'had', 'those', 'next', 'why', 'any', 'anything', 'three', 'the', \n",
    "'whither', 'becoming', 'whatever', 'meanwhile', 'hundred', 'other', \n",
    "'amongst', 'so', 'enough', 'otherwise', 'own', 'anyone', 'seeming',\n",
    "'thus', 'will', 'some', 'seems', 'ours', 'ca', 'seemed', 'even', \n",
    "'six', 'of', 'among', 'former', 'and', 'have', 'such', 'itself', \n",
    "'within', 'mine', 'neither', 'again', 'towards', 'whose', 'put',\n",
    "'except', 'out', 'ourselves', 'get', 'here', 'along', 'perhaps', \n",
    "'less', 'my', 'somehow', 'under', 'never', 'toward', 'who', 'really', \n",
    "'twelve', 'might', 'whenever', 'anyhow', 'hereupon', 'but', 'made', \n",
    "'because', 'is', 'cannot', 'thru', 'being', 'front', 'thereby', \n",
    "'becomes', 'something', 'forty', 'together', 'beforehand', \n",
    "'everywhere', 'regarding', 'hence', 'there', 'most', 'formerly', 'into',\n",
    "'off', 'therefore', 'nine', 'hers', 'nevertheless', 'using', 'to', 'five',\n",
    "'at', 'sometime', 'during', 'myself', 'two', 'against', 'whence', 'yet', \n",
    "'were', 'sixty', 'us', 'its', 'namely', 'anyway', 'many', 'must', 'where'} "
   ]
  },
  {
   "cell_type": "markdown",
   "metadata": {},
   "source": [
    "#### Preparing Data"
   ]
  },
  {
   "cell_type": "code",
   "execution_count": 23,
   "metadata": {
    "collapsed": true
   },
   "outputs": [],
   "source": [
    "f = open(test_filepath, 'r', encoding='utf-8')\n",
    "test_comments = [f.readline()[:-1] for line in f]\n",
    "f.close()"
   ]
  },
  {
   "cell_type": "code",
   "execution_count": 24,
   "metadata": {
    "collapsed": true
   },
   "outputs": [],
   "source": [
    "# lemmetizing\n",
    "for i, comment in enumerate(test_comments):\n",
    "    test_comments[i] = [word.lemma_ for word in nlp(comment)]"
   ]
  },
  {
   "cell_type": "code",
   "execution_count": 25,
   "metadata": {
    "collapsed": true
   },
   "outputs": [],
   "source": [
    "pickle_out = open('data/pickle/raw_comments_lemma_stopwords_removed.pickle', 'wb')\n",
    "pickle.dump(test_comments, pickle_out)\n",
    "pickle_out.close()"
   ]
  },
  {
   "cell_type": "code",
   "execution_count": 26,
   "metadata": {
    "collapsed": true
   },
   "outputs": [],
   "source": [
    "pickle_in = open('data/pickle/raw_comments_lemma_stopwords_removed.pickle', 'rb')\n",
    "test_comments = pickle.load(pickle_in)\n",
    "pickle_in.close()"
   ]
  },
  {
   "cell_type": "code",
   "execution_count": 27,
   "metadata": {
    "scrolled": false
   },
   "outputs": [
    {
     "data": {
      "text/plain": [
       "['the', 'lecture', 'jump', 'from', 'place', 'to', 'place', '.']"
      ]
     },
     "execution_count": 27,
     "metadata": {},
     "output_type": "execute_result"
    }
   ],
   "source": [
    "test_comments[6]"
   ]
  },
  {
   "cell_type": "markdown",
   "metadata": {},
   "source": [
    "#### Modeling"
   ]
  },
  {
   "cell_type": "code",
   "execution_count": 28,
   "metadata": {
    "collapsed": true
   },
   "outputs": [],
   "source": [
    "from gensim.models.word2vec import Word2Vec"
   ]
  },
  {
   "cell_type": "code",
   "execution_count": 29,
   "metadata": {
    "collapsed": true,
    "scrolled": false
   },
   "outputs": [],
   "source": [
    "model = Word2Vec(test_comments)"
   ]
  },
  {
   "cell_type": "code",
   "execution_count": 30,
   "metadata": {
    "collapsed": true
   },
   "outputs": [],
   "source": [
    "model.save('models/word2vec__raw_comments_lemma_stopwords_removed.model')"
   ]
  },
  {
   "cell_type": "code",
   "execution_count": 31,
   "metadata": {
    "collapsed": true
   },
   "outputs": [],
   "source": [
    "model = Word2Vec.load('models/word2vec__raw_comments_lemma_stopwords_removed.model')"
   ]
  },
  {
   "cell_type": "code",
   "execution_count": 32,
   "metadata": {},
   "outputs": [
    {
     "data": {
      "text/plain": [
       "[('material', 0.9864640831947327),\n",
       " ('reading', 0.9856340885162354),\n",
       " ('which', 0.9833534955978394),\n",
       " ('practice', 0.9831534624099731),\n",
       " ('base', 0.9829604029655457),\n",
       " ('exam', 0.9817376732826233),\n",
       " ('quiz', 0.9805465340614319),\n",
       " ('board', 0.9803719520568848),\n",
       " ('straight', 0.9801833033561707),\n",
       " ('topic', 0.9799649715423584)]"
      ]
     },
     "execution_count": 32,
     "metadata": {},
     "output_type": "execute_result"
    }
   ],
   "source": [
    "model.wv.most_similar('lecture')"
   ]
  },
  {
   "cell_type": "code",
   "execution_count": 33,
   "metadata": {
    "scrolled": true
   },
   "outputs": [
    {
     "data": {
      "text/plain": [
       "[('professor', 0.9847400784492493),\n",
       " ('guy', 0.9702522158622742),\n",
       " ('prof', 0.9690898060798645),\n",
       " ('awesome', 0.9559351205825806),\n",
       " ('great', 0.953848659992218),\n",
       " ('amazing', 0.9407364130020142),\n",
       " ('good', 0.9379382729530334),\n",
       " ('dr.', 0.9286624789237976),\n",
       " ('bad', 0.9285905361175537),\n",
       " ('nice', 0.9203059673309326)]"
      ]
     },
     "execution_count": 33,
     "metadata": {},
     "output_type": "execute_result"
    }
   ],
   "source": [
    "model.wv.most_similar('teacher')"
   ]
  },
  {
   "cell_type": "code",
   "execution_count": 34,
   "metadata": {},
   "outputs": [
    {
     "data": {
      "text/plain": [
       "[('want', 0.9898160696029663),\n",
       " ('how', 0.973602294921875),\n",
       " ('understand', 0.9716079235076904),\n",
       " ('willing', 0.9692932963371277),\n",
       " ('need', 0.9673567414283752),\n",
       " ('talk', 0.9665240049362183),\n",
       " ('anything', 0.9647359251976013),\n",
       " ('student', 0.9633111953735352),\n",
       " ('to', 0.9609788656234741),\n",
       " ('much', 0.9605669975280762)]"
      ]
     },
     "execution_count": 34,
     "metadata": {},
     "output_type": "execute_result"
    }
   ],
   "source": [
    "model.wv.most_similar('learn')"
   ]
  },
  {
   "cell_type": "code",
   "execution_count": 35,
   "metadata": {
    "scrolled": true
   },
   "outputs": [
    {
     "data": {
      "text/plain": [
       "[('think', 0.9896174073219299),\n",
       " ('stuff', 0.9869470596313477),\n",
       " ('actually', 0.9823362827301025),\n",
       " ('can', 0.9787213802337646),\n",
       " ('seem', 0.977680504322052),\n",
       " ('like', 0.9766393899917603),\n",
       " ('listen', 0.9751241207122803),\n",
       " ('succeed', 0.9740273952484131),\n",
       " ('much', 0.9739333987236023),\n",
       " ('tell', 0.9739067554473877)]"
      ]
     },
     "execution_count": 35,
     "metadata": {},
     "output_type": "execute_result"
    }
   ],
   "source": [
    "model.wv.most_similar('teach')"
   ]
  },
  {
   "cell_type": "markdown",
   "metadata": {},
   "source": [
    "#### Miscellaneous"
   ]
  },
  {
   "cell_type": "code",
   "execution_count": 36,
   "metadata": {
    "scrolled": true
   },
   "outputs": [
    {
     "name": "stdout",
     "output_type": "stream",
     "text": [
      "['-PRON-', 'be', 'never', 'use', 'in', 'class', ',', 'only', 'for', 'the', 'homework', '.']\n",
      "['-PRON-', 'have', 'a', '10', 'minute', 'presentation', 'every', 'other', 'week', '.']\n",
      "['very', 'helpful', 'and', 'understanding']\n",
      "['-PRON-', 'be', 'interesting', 'and', 'alwasy', 'be', 'able', 'to', 'provide', 'an', 'example', '.']\n",
      "['-PRON-', 'have', '-PRON-', 'now', 'for', 'abnormal']\n",
      "['-PRON-', 'think', '-PRON-', 'be', 'really', 'fair', 'and', 'keep', 'the', 'class', 'interesting', '.']\n",
      "['the', 'lecture', 'jump', 'from', 'place', 'to', 'place', '.']\n",
      "['nice', 'guy', 'but', 'the', 'test', 'be', 'very', 'ambiguous']\n",
      "['all', 'and', 'all', ',', 'a', 'distaster']\n",
      "['have', '-PRON-', 'for', 'psych', 'of', 'ultimate', 'concern', '.']\n"
     ]
    }
   ],
   "source": [
    "look_inside(test_comments)"
   ]
  },
  {
   "cell_type": "code",
   "execution_count": 37,
   "metadata": {
    "collapsed": true
   },
   "outputs": [],
   "source": [
    "from gensim import corpora"
   ]
  },
  {
   "cell_type": "code",
   "execution_count": 38,
   "metadata": {
    "collapsed": true
   },
   "outputs": [],
   "source": [
    "dictionary = corpora.Dictionary(test_comments)"
   ]
  },
  {
   "cell_type": "code",
   "execution_count": 39,
   "metadata": {
    "scrolled": true
   },
   "outputs": [
    {
     "data": {
      "text/plain": [
       "5528"
      ]
     },
     "execution_count": 39,
     "metadata": {},
     "output_type": "execute_result"
    }
   ],
   "source": [
    "len(dictionary)"
   ]
  },
  {
   "cell_type": "code",
   "execution_count": 40,
   "metadata": {},
   "outputs": [
    {
     "name": "stdout",
     "output_type": "stream",
     "text": [
      "{',': 0, '-PRON-': 1, '.': 2, 'be': 3, 'class': 4, 'for': 5, 'homework': 6, 'in': 7, 'never': 8, 'only': 9, 'the': 10, 'use': 11, '10': 12, 'a': 13, 'every': 14, 'have': 15, 'minute': 16, 'other': 17, 'presentation': 18, 'week': 19, 'and': 20, 'helpful': 21, 'understanding': 22, 'very': 23, 'able': 24, 'alwasy': 25, 'an': 26, 'example': 27, 'interesting': 28, 'provide': 29, 'to': 30, 'abnormal': 31, 'now': 32, 'fair': 33, 'keep': 34, 'really': 35, 'think': 36, 'from': 37, 'jump': 38, 'lecture': 39, 'place': 40, 'ambiguous': 41, 'but': 42, 'guy': 43, 'nice': 44, 'test': 45, 'all': 46, 'distaster': 47, 'concern': 48, 'of': 49, 'psych': 50, 'ultimate': 51, 'awesome': 52, 'guess': 53, 'i': 54, 'ok': 55, 'as': 56, 'feel': 57, 'if': 58, 'make': 59, 'psychologist': 60, 'real': 61, '!': 62, 'boring': 63, 'hell': 64, 'direction': 65, 'opposite': 66, 'run': 67, 'about': 68, 'culture': 69, 'do': 70, 'eastern': 71, 'kow': 72, 'much': 73, 'not': 74, 'so': 75, 'study': 76, 'bot': 77, 'easy': 78, 'funny': 79, 'go': 80, 'long': 81, 'pretty': 82, 'afraid': 83, 'mind': 84, 'speak': 85, '--': 86, 'any': 87, 'damn': 88, 'doesn': 89, 's': 90, 't': 91, 'take': 92, 'this': 93, 'lot': 94, 'off': 95, 'topic': 96, 'like': 97, 'assignment': 98, 'online': 99, 'up': 100, 'with': 101, '-': 102, 'frame': 103, 'full': 104, 'good': 105, 'those': 106, 'time': 107, 'who': 108, 'work': 109, '%': 110, '100': 111, 'recommend': 112, 'would': 113, '2': 114, '3': 115, 'little': 116, 'paper': 117, 'a.': 118, 'due': 119, 'get': 120, 'great': 121, 'half': 122, 'hour': 123, 'at': 124, 'bsc': 125, 'here': 126, 'seriously': 127, 'teacher': 128, 'know': 129, 'more': 130, 'personal': 131, 'prove': 132, 'talk': 133, 'than': 134, 'that': 135, 'through': 136, 'what': 137, 'excellent': 138, 'maria': 139, 'professor': 140, 'attitude': 141, 'help': 142, 'positive': 143, 'student': 144, 'towards': 145, 'anyone': 146, '..': 147, 'kiss': 148, 'because': 149, 'credit': 150, 'easily': 151, 'give': 152, 'grade': 153, 'or': 154, 'quiet': 155, 'suck': 156, 'will': 157, 'xtra': 158, 'best': 159, 'want': 160, 'well': 161, 'could': 162, 'teach': 163, 'wish': 164, 'hott': 165, 'one': 166, 'pepper': 167, 'course': 168, 'possibly': 169, 'plus': 170, 'super': 171, 'hilarious': 172, 'info': 173, 'memorable': 174, 'way': 175, '...': 176, 'actually': 177, 'else': 178, 'just': 179, 'laugh': 180, 'learn': 181, 'right': 182, 'someone': 183, 'bridgewater': 184, 'state': 185, '20': 186, '30': 187, 'choice': 188, 'multiple': 189, 'a.class': 190, 'discussion': 191, 'huge': 192, 'major': 193, 'matter': 194, 'no': 195, 'person': 196, 'oh': 197, 'yeah': 198, 'exemplary': 199, 'forward': 200, 'fun': 201, 'learning': 202, 'look': 203, 'outrageous': 204, 'relate': 205, 'subject': 206, 'wick': 207, 'by': 208, 'call': 209, 'first': 210, 'freind': 211, 'let': 212, 'name': 213, 'respect': 214, 'still': 215, \"'s\": 216, 'each': 217, 'q': 218, 'after': 219, 'approachable': 220, 'college': 221, 'experience': 222, 'leave': 223, 'remember': 224, 'year': 225, 'care': 226, 'individual': 227, 'wall': 228, 'woman': 229, 'craziness': 230, 'drug': 231, 'her': 232, 'love': 233, 'sex': 234, 'enjoyable': 235, 'skip': 236, ':)': 237, 'stuff': 238, 'chance': 239, 'u': 240, 'b': 241, 'log': 242, 'low': 243, 'tell': 244, 'comment': 245, 'discuss': 246, 'participate': 247, 'even': 248, '(': 249, ')': 250, 'dr.': 251, 'hawthorne': 252, '\"': 253, 'count': 254, 'final': 255, 'project': 256, 'two': 257, 'gened': 258, 'harsh': 259, 'too': 260, 'unclear': 261, 'also': 262, 'grader': 263, 'material': 264, 'tough': 265, 'figure': 266, 'on': 267, 'out': 268, 'own': 269, 'struggle': 270, 'willing': 271, 'writing': 272, 'how': 273, 'write': 274, 'always': 275, 'idea': 276, 'live': 277, 'new': 278, 'open': 279, 'research': 280, 'ask': 281, 'regret': 282, 'ever': 283, 'meet': 284, 'most': 285, '500': 286, 'base': 287, 'opinionated': 288, 'word': 289, 'definitely': 290, 'fail': 291, 'grading': 292, 'people': 293, 'probably': 294, 'rubric': 295, 'doubt': 296, 'favorite': 297, 'without': 298, 'another': 299, 'anyway': 300, 'show': 301, 'some': 302, 'such': 303, 'kind': 304, 'there': 305, 'can': 306, 'grammar': 307, 'hate': 308, 'life': 309, 'may': 310, 'wanna': 311, 'man': 312, 'anecdote': 313, 'bizarre': 314, 'hit': 315, 'irrelevant': 316, 'when': 317, 'expectation': 318, 'specific': 319, 'involved': 320, '4': 321, 'business': 322, 'letter': 323, 'main': 324, 'semester': 325, 'throughout': 326, \"'\": 327, 'allow': 328, 'cancel': 329, 'day': 330, 'last': 331, 'group': 332, 'everything': 333, 'follow': 334, 'rule': 335, 'assign': 336, 'essay': 337, 'memo': 338, 'report': 339, 'which': 340, 'world': 341, 'money': 342, 'seem': 343, 'waste': 344, 'educational': 345, 'extremely': 346, 'find': 347, 'insightful': 348, 'down': 349, 'earth': 350, 'honestly': 351, 'punctuation': 352, 'stricly': 353, '9': 354, 'c': 355, 'mistakes=': 356, 'try': 357, 'attendence': 358, 'end': 359, 'mandatory': 360, 'excited': 361, 'busy': 362, 'hard': 363, 'quiz': 364, 'amusing': 365, 'enlightening': 366, 'program': 367, 'tsc': 368, '/': 369, 'inevitably': 370, 'meaningless': 371, 'minor': 372, 'pointless': 373, 'better': 374, 'come': 375, 'prepare': 376, 'rock': 377, 'classwork': 378, 'hand': 379, 'supportive': 380, 'anything': 381, 'highly': 382, 'thank': 383, 'miss': 384, 'attendance': 385, 'policy': 386, 'understand': 387, 'glad': 388, 'mentor': 389, 'fondly': 390, 'hear': 391, 'problem': 392, 'answer': 393, 'explain': 394, 'question': 395, 'stupid': 396, 'bad': 397, 'rude': 398, 'music': 399, 'staff': 400, 'board': 401, 'fill': 402, 'part': 403, 'put': 404, 'something': 405, 'then': 406, 'why': 407, 'story': 408, 'video': 409, 'wonderful': 410, 'popular': 411, 'profession': 412, 'pump': 413, 'teaching': 414, 'lucky': 415, 'pitt': 416, 'being': 417, 'explorations': 418, 'say': 419, 'substance': 420, 'teacher-': 421, 'tedious': 422, 'weird': 423, 'cares': 424, 'h': 425, 'samuels': 426, 'sweet': 427, 'inspire': 428, 'me': 429, 'she': 430, 'far': 431, 'need': 432, 'passionate': 433, 'psu': 434, 'book': 435, 'interview': 436, 'mock': 437, 'amazing': 438, 'confident': 439, 'difference': 440, 'caring': 441, 'become': 442, 'ton': 443, 'into': 444, 'school': 445, 'shadow': 446, 'succeed': 447, 'campus': 448, 'advisor': 449, 'curin': 450, 'lady': 451, 'yet': 452, 'congrat': 453, 'congrats': 454, 'mrs.': 455, 'enjoy': 456, 'everybody': 457, '?': 458, 'hope': 459, 'opportunity': 460, 'should': 461, 'ms.': 462, 'truly': 463, 'ed': 464, 'requirement': 465, 'describe': 466, 'see': 467, 'choose': 468, 'education': 469, 'field': 470, 'reason': 471, 'enthusiastic': 472, 'ridiculous': 473, '23': 474, '4.0': 475, 'gpa': 476, 'ruin': 477, 'happy': 478, 'finally': 479, 'instruction': 480, 'once': 481, 'pass': 482, 'read': 483, 'realize': 484, 'simple': 485, 'terrible': 486, 'accomplish': 487, 'available': 488, 'beginning': 489, 'early': 490, 'expect': 491, 'term': 492, 'where': 493, '6': 494, 'cite': 495, 'require': 496, 'several': 497, 'platter': 498, 'silver': 499, 'presto': 500, 'again': 501, 'cam': 502, 'case': 503, 'confuse': 504, 'disaster': 505, 'mini': 506, 'natural': 507, 'reaction': 508, 'redo': 509, 'summary': 510, 'until': 511, 'web': 512, 'blackboard': 513, 'four': 514, 'short': 515, 'webcam': 516, 'fine': 517, 'sure': 518, 'questions.overall': 519, 'uninformative': 520, 'class!he': 521, 'geaogaphy': 522, 'intresting': 523, 'relax': 524, 'summer': 525, 'thing': 526, 'absurd': 527, 'back': 528, 'email': 529, 'prect': 530, 'geography': 531, 'behind': 532, 'fall': 533, 'late': 534, 'penalty': 535, 'turn': 536, 'heâ??s': 537, 'set': 538, 'extra': 539, 'avoid': 540, 'cost': 541, 'reg': 542, 'both': 543, 'dq': 544, 'foreigner': 545, 'lose': 546, 'though': 547, 'win': 548, '#': 549, '1': 550, '11': 551, '70': 552, 'average': 553, 'horrible': 554, 'bs': 555, 'earn': 556, 'away': 557, 'stay': 558, 'computer': 559, 'skill': 560, 'context': 561, 'exam': 562, 'point': 563, 'post': 564, 'awful': 565, 'sufficient': 566, 'ambiguos': 567, 'difficult': 568, 'exact': 569, 'although': 570, 'sort': 571, 'correspond': 572, 'plan': 573, 'respond': 574, 'impossible': 575, 'skills.4': 576, 'suppose': 577, 'wit': 578, 'pleasant': 579, 'sometimes': 580, '....': 581, 'already': 582, 'history': 583, 'himmmm': 584, 'you': 585, 'curve': 586, 'entry': 587, 'kill': 588, 'wadyko': 589, 'cumulative': 590, 'm': 591, 'non': 592, 'weekly': 593, 'william': 594, 'wolson': 595, '&': 596, ';': 597, 'dead': 598, 'nobody': 599, 'quot;missus.&quot': 600, \"bs'd\": 601, 'reading': 602, 'message': 603, 'throat': 604, 'home': 605, 'joke': 606, 'note': 607, 'obscure': 608, 'seeen': 609, 'cola&quot': 610, 'map': 611, 'nightmare': 612, 'prepared': 613, 'quarter': 614, 'quot;open': 615, 'quot;pop': 616, 'tests&quot;.': 617, 'vs': 618, 'weekend': 619, 'dull': 620, 'differant': 621, 'absolute': 622, 'ingle': 623, 'prof': 624, 'enough': 625, 'valley': 626, 'beth': 627, 'literally': 628, 'genuinely': 629, 'eager': 630, 'engage': 631, 'interest': 632, 'least': 633, 'invest': 634, 'passion': 635, 'review': 636, '182': 637, '183': 638, 'rvc': 639, 'feedback': 640, 'exciting': 641, 'three': 642, 'important': 643, 'knowledge': 644, 'disappoint': 645, 'imply': 646, 'mistake': 647, 'enthusiasm': 648, 'job': 649, 'big': 650, '8': 651, 'pg': 652, 'midterm&final': 653, 'quick': 654, 'deal': 655, 'annoying': 656, 'philosophy': 657, 'renaissance': 658, 'whatsoever': 659, 'incredible': 660, 'engaging': 661, 'states': 662, 'united': 663, 'women': 664, 'load': 665, 'manageable': 666, 'before': 667, 'civ': 668, 'encouraging': 669, 'listen': 670, 'storyteller': 671, 'midterm': 672, 'along': 673, '2008': 674, '2012': 675, 'graduate': 676, 'm.ed': 677, 'academic': 678, 'career': 679, 'whole': 680, '110': 681, 'drop': 682, 'perfect': 683, 'entertain': 684, 'cheerful&nice': 685, 'tests,3': 686, 'china': 687, 'india,&japan': 688, 'nicest': 689, 'concerned': 690, 'dry': 691, 'while': 692, 'strive': 693, 'urge': 694, 'knowledgeable': 695, 'textbook': 696, 'leniant': 697, 'many': 698, 'appreciate': 699, 'covers': 700, 'importance': 701, 'nature': 702, 'thoroughly': 703, 'stop': 704, 'absolutely': 705, 'style': 706, 'treat': 707, 'format': 708, 'beyond': 709, 'crazy': 710, 'near': 711, 'interested': 712, 'concentrate': 713, 'downright': 714, 'motivating': 715, 'fabulous': 716, 'challenge': 717, 'goal': 718, 'personally': 719, 'personality': 720, 'visuals-': 721, 'b+': 722, 'bit': 723, 'c+': 724, 'd': 725, 'raise': 726, 'ull': 727, 'breeze': 728, 'mid': 729, 'must': 730, 'a+': 731, 'desperately': 732, 'opinion': 733, 'sincerely': 734, 'deep': 735, 'heart': 736, 'profounf': 737, 'intelligent': 738, 'comprehensible': 739, 'humble': 740, 'walk': 741, 'ms': 742, 'anyone&quot;.': 743, 'offend': 744, 'hundred': 745, 'level': 746, 'definately': 747, 'definition': 748, 'match': 749, 'system': 750, 'type': 751, 'explicative': 752, 'redundant': 753, 'backwards': 754, 'bend': 755, 'over': 756, 'second': 757, 'western': 758, 'decent': 759, 'lecturing': 760, 'kindly': 761, 'dissatisfied': 762, 'alive': 763, 'rocks': 764, 'planet': 765, 'quite': 766, 'my': 767, 'thi': 768, 'fantastic': 769, 'was': 770, 'civilization': 771, 'compassionate': 772, 'old': 773, 'feeling': 774, 'purify': 775, 'cool': 776, 'attention': 777, 'pay': 778, 'sprinkle': 779, 'humor': 780, 'sense': 781, 'clear': 782, 'forwards': 783, 'key': 784, 'respectful': 785, 'it': 786, 'instructor': 787, 'react': 788, 'high': 789, 'tool': 790, 'missed': 791, 'patient': 792, 'surgery': 793, 'fogl': 794, 'complex': 795, 'information': 796, 'anymore': 797, 'expensive': 798, 'generic': 799, 'lab': 800, 'manual': 801, 'profs': 802, 'science': 803, 'labs': 804, 'deadline': 805, 'guessing': 806, 'math': 807, 'overall': 808, 'strange': 809, 'cover': 810, 'cals': 811, 'hop': 812, 'prerequisit': 813, ' ': 814, 'application': 815, 'intructo': 816, 'mark': 817, 'unlike': 818, 'interet': 819, 'nutty': 820, 'text': 821, 'wow': 822, 'confusing': 823, 'less': 824, 'manditory': 825, 'poor': 826, 'deserve': 827, 'corespondance': 828, 'effort': 829, 'almost': 830, 'truck': 831, 'different': 832, 'opionon': 833, 'finish': 834, 'endure': 835, 'torture': 836, 'disadvantage': 837, 'meeting': 838, 'un': 839, 'economic': 840, 'clue': 841, 'abba': 842, 'deconstruction': 843, 'metaphysics': 844, 'wesstern': 845, 'method': 846, 'appearance': 847, 'judge': 848, 'often': 849, 'brilliance': 850, 'outlook': 851, 'overshadow': 852, 'influence': 853, 'phi': 854, 'useless': 855, 'conceded': 856, 'disagree': 857, 'wrong': 858, 'smart': 859, 'brilliant': 860, 'drown': 861, 'reference': 862, 'unknown': 863, 'background': 864, 'strong': 865, 'dog': 866, 'forget': 867, 'next': 868, 'pipe': 869, 'smoke': 870, 'remarkable': 871, 'around': 872, 'center': 873, 'e.a.': 874, 'entirely': 875, 'poe': 876, 'blow': 877, 'large': 878, 'ta': 879, 'backward': 880, 'b.': 881, 'regular': 882, 'appear': 883, 'seminar': 884, 'def': 885, 'ego': 886, 'writer': 887, 'otherwise': 888, 'picky': 889, 'brillant': 890, 'department': 891, 'esteemed': 892, 'jerk': 893, 'beware': 894, 'worth': 895, 'george': 896, 'meteorology': 897, 'programming': 898, 'whether': 899, 'ya': 900, 'astro': 901, 'astronomy': 902, 'calculus': 903, 'fascinating': 904, 'got': 905, 'hold': 906, 'physics': 907, 'slip': 908, 'thouse': 909, 'fuel': 910, 'anybody': 911, 'offer': 912, 'possible': 913, 'eant': 914, 'wher': 915, 'lend': 916, 'female': 917, 'inspiring': 918, 'bien': 919, 'connait': 920, 'matière': 921, 'sa': 922, 'sait': 923, 'transmettre': 924, 'très': 925, 'la': 926, 'mort': 927, 'breath': 928, 'power': 929, 'straight': 930, 'utilize': 931, 'ph.d': 932, 'unprofessional': 933, 'awake': 934, 'pace': 935, 'pick': 936, 'rapid': 937, 'save': 938, 'friendly': 939, 'incredibly': 940, 'section': 941, 'cuss': 942, 'foul': 943, 'mouth': 944, 'sensitive': 945, 'zurek': 946, 'tricky': 947, 'copy': 948, 'break': 949, 'humorous': 950, 'monotony': 951, 'canvas': 952, 'powerpoint': 953, 'maybe': 954, 'plenty': 955, 'pob1': 956, 'personable': 957, 'tailor': 958, 'usually': 959, 'baby': 960, 'spirit': 961, 'under': 962, 'fast': 963, 'mean': 964, 'spirited': 965, 'brain': 966, 'motivated': 967, 'z': 968, 'benefit': 969, 'mile': 970, 'sit': 971, 'dawson': 972, 'slacker': 973, 'reccommend': 974, 'bother': 975, 'bore': 976, 'okay': 977, 'relationship': 978, 'monotone': 979, 'streak': 980, 'charlie': 981, 'dad': 982, 'art': 983, 'packet': 984, '50': 985, 'during': 986, 'folder': 987, 'dr': 988, 'disguise': 989, 'entertaining': 990, 'somewhat': 991, 'philadelphia': 992, 'sunny': 993, 'freshman': 994, 'seek': 995, 'wisdom': 996, 'learner': 997, 'visual': 998, 'guidelne': 999, 'bottle': 1000, 'carry': 1001, 'room': 1002, 'water': 1003, 'repeat': 1004, 'composer': 1005, 'composition': 1006, 'memorize': 1007, 'wound': 1008, 'glass': 1009, 'mud': 1010, 'somehow': 1011, 'boy': 1012, 'nowhere': 1013, 'poster': 1014, 'random': 1015, 'mad': 1016, 'silly': 1017, 'climate': 1018, 'control': 1019, 'issue': 1020, 'serious': 1021, 'totally': 1022, 'siam': 1023, 'chemistry': 1024, 'organic': 1025, 'his': 1026, 'everyone': 1027, 'test-': 1028, 'harder': 1029, 'shooooo': 1030, 'mood': 1031, 'side': 1032, 'rest': 1033, 'poepl': 1034, 'h@': 1035, 'teachin': 1036, 'die': 1037, 'degrade': 1038, 'general': 1039, 'ii': 1040, 'force': 1041, 'accent': 1042, 'partner': 1043, 'rack': 1044, 'zegar': 1045, 'aristocrat': 1046, 'despite': 1047, 'rich': 1048, 'pittstate': 1049, 'prestigious': 1050, 'throught': 1051, 'however': 1052, 'welcome': 1053, 'chem': 1054, 'guarunte': 1055, 'anytime': 1056, 'bug': 1057, '6th': 1058, 'receive': 1059, 'since': 1060, 'alot': 1061, '75': 1062, 'terd': 1063, 'total': 1064, 'harvard': 1065, 'iq': 1066, 'yale': 1067, 'sympathetic': 1068, 'process': 1069, 'step': 1070, 'comparison': 1071, 'excessive': 1072, 'rather': 1073, 'above': 1074, 'dock': 1075, 'guide': 1076, '---': 1077, 'absent': 1078, 'journal': 1079, 'diversity': 1080, 'soical': 1081, 'studies': 1082, 'kid': 1083, 'classroom': 1084, 'atmosphere': 1085, 'relaxed': 1086, 'success': 1087, 'esol': 1088, 's.': 1089, 'sagehorn': 1090, 'deepth': 1091, 'involve': 1092, 'manipulate': 1093, 'knowlegeable': 1094, 'pique': 1095, 'believe': 1096, 'area': 1097, 'knowlegable': 1098, 'mcdaniel': 1099, 'works': 1100, '1101': 1101, '1102': 1102, 'eng': 1103, 'head': 1104, 'correction': 1105, 'replacement': 1106, 'word/': 1107, 'impression': 1108, 'clearly': 1109, 'date': 1110, 'outline': 1111, 'within': 1112, 'inconsistent': 1113, 'cruise': 1114, 'retire': 1115, 'soon': 1116, 'basically': 1117, 'chapter': 1118, 'october': 1119, 'practice': 1120, 'sectionthere': 1121, 'website': 1122, 'draw': 1123, 'necessary': 1124, 'quickly': 1125, 'burst': 1126, 'aready': 1127, 'hopefully': 1128, 'tend': 1129, 'padilla': 1130, ':': 1131, 'appointment': 1132, 'either': 1133, 'schedule': 1134, 'embarassment': 1135, 'buy': 1136, 'genuine': 1137, 'engaged': 1138, 'generate': 1139, 'send': 1140, 'change': 1141, 'scatterbrained': 1142, 'freedman': 1143, 'overwhelming': 1144, 'disorganized': 1145, 'slightly': 1146, 'child': 1147, 'middle': 1148, 'statistic': 1149, 'inconsiderate': 1150, 'informal': 1151, 'speech': 1152, 'stress': 1153, 'blast': 1154, 'depend': 1155, 'articulate': 1156, 'informative': 1157, 'aspire': 1158, 'kinda': 1159, 'unorganized': 1160, 'overly': 1161, '14': 1162, '7': 1163, 'extend': 1164, 'flexible': 1165, 'chew': 1166, 'gross': 1167, 'gum': 1168, 'island': 1169, 'minded': 1170, 'narrow': 1171, 'article': 1172, 'etc': 1173, 'pertainent': 1174, 'tie': 1175, 'english': 1176, 'wrought': 1177, 'cell': 1178, 'phone': 1179, 'ability': 1180, 'limited': 1181, 'include': 1182, 'occasion': 1183, '45': 1184, 'unfairly': 1185, 'extension': 1186, 'sherwood': 1187, 'bring': 1188, 'food': 1189, 'lighthearted': 1190, 'advice': 1191, 'negatively': 1192, 'rat': 1193, 'shame': 1194, 'fault': 1195, 'office': 1196, 'rarely': 1197, 'affect': 1198, 'and/or': 1199, 'biased': 1200, 'helpfulness': 1201, 'machine': 1202, 'o': 1203, 'foundation': 1204, 'awhile': 1205, 'profesor': 1206, '203': 1207, 'pyschology': 1208, 'none': 1209, 'hire': 1210, 'ace': 1211, 'psychology': 1212, 'unanswered': 1213, 'contest': 1214, 'popularity': 1215, 'buchalski': 1216, 'scameheorn': 1217, 'frustrating': 1218, 'ruffatto': 1219, 'start': 1220, 'ago': 1221, 'month': 1222, 'yes': 1223, 'mml': 1224, 'credibility': 1225, 'decrease': 1226, 'obviously': 1227, 'workshop': 1228, 'lenient': 1229, 'instead': 1230, 'lay': 1231, 'stick': 1232, 'jjc': 1233, 'halfway': 1234, 'lesson': 1235, 'move': 1236, 'attend': 1237, 'youtube': 1238, 'lack': 1239, '+': 1240, 'spend': 1241, 'tutoring': 1242, 'usefulness': 1243, 'mr.': 1244, 'ruffato': 1245, 'slow': 1246, 'calc': 1247, 'algebra': 1248, 'phenomenal': 1249, 'complain': 1250, 'understandable': 1251, 'entire': 1252, 'folk': 1253, 'geometry': 1254, 'sheet': 1255, 'print': 1256, 'form': 1257, 'ramble': 1258, 'shape': 1259, 'dumb': 1260, 'lazy': 1261, 'mess': 1262, 'frequently': 1263, 'complete': 1264, 'file': 1265, 'hw': 1266, 'upload': 1267, 'constantly': 1268, 'energetic': 1269, 'he': 1270, 'stuck': 1271, '139': 1272, 'practically': 1273, 'argue': 1274, 'upon': 1275, 'accuracy': 1276, 'calculator': 1277, 'completion': 1278, '170': 1279, 'ill': 1280, 'cal': 1281, 'cricumstances': 1282, 'exactly': 1283, 'testing': 1284, 'cuts&quot': 1285, 'daily': 1286, 'quot;short': 1287, 'your': 1288, '094': 1289, 'simpe': 1290, 'pretest': 1291, 'same': 1292, 'especially': 1293, 'disinterested': 1294, '138': 1295, 'manner': 1296, 'timely': 1297, 'rush': 1298, 'paced': 1299, 'handle': 1300, 'organized': 1301, '095': 1302, 'guideline': 1303, 'anc': 1304, 'couple': 1305, 'pleasure': 1306, 'sincere': 1307, 'suggest': 1308, '098': 1309, 'top': 1310, 'please': 1311, 'beside': 1312, 'nervous': 1313, 'definiately': 1314, '0-level': 1315, 'light': 1316, 'spacey': 1317, 'stereotype': 1318, 'usualy': 1319, 'assigns': 1320, 'gsp': 1321, 'hot': 1322, 'mr': 1323, 'pre': 1324, 'inexperienced': 1325, 'young': 1326, 'tests/': 1327, 'basicly': 1328, 'fugure': 1329, 'cute': 1330, '.14': 1331, '03': 1332, 'spring': 1333, 'shut': 1334, 'assume': 1335, 'concept': 1336, 'questions;demonstrate': 1337, 'classmate': 1338, 'advantage': 1339, 'skills': 1340, 'focus': 1341, 'item': 1342, 'fact': 1343, 'relevant': 1344, 'tech': 1345, 'expert': 1346, 'besides': 1347, 'past': 1348, '2004': 1349, 'lewandowski': 1350, 'pragmatic': 1351, 'beautiful': 1352, 'technique': 1353, 'hmmmmmm': 1354, 'asset': 1355, 'dept': 1356, 'chapman': 1357, '80': 1358, 'image': 1359, 'throw': 1360, 'dense': 1361, 'pgs': 1362, 'cronk': 1363, '222': 1364, 'testis': 1365, '5': 1366, 'handout': 1367, 'per': 1368, 'table': 1369, 'annoyed': 1370, 'careful': 1371, 'direct': 1372, 'outside': 1373, 'scale': 1374, 'circuit': 1375, 'eye': 1376, 'session': 1377, 'detail': 1378, 'thermo': 1379, 'error': 1380, 'webwork': 1381, 'amount': 1382, 'damper': 1383, 'few': 1384, 'simply': 1385, 'snarky': 1386, 'unnecessarily': 1387, 'dance': 1388, 'mix': 1389, 'poorly': 1390, 'rambling': 1391, 'series': 1392, 'thermodynamic': 1393, 'number': 1394, 'stand': 1395, 'spread': 1396, 'thin': 1397, 'occasionally': 1398, 'prior': 1399, 'engr': 1400, 'inen': 1401, 'winded': 1402, 'various': 1403, 'extremmely': 1404, '415': 1405, 'intro': 1406, 'that&#63': 1407, 'remind': 1408, 'uncle': 1409, 'reminder': 1410, 'solid': 1411, 'blank': 1412, 'thought': 1413, '120': 1414, 'nothing': 1415, 'parallax': 1416, 'boe': 1417, 'order': 1418, 'sensor': 1419, 'edetion': 1420, 'front': 1421, 'author': 1422, 'church': 1423, 'engineering': 1424, 'quot;total': 1425, 'matlab': 1426, '.....': 1427, 'crunk': 1428, 'face': 1429, 'unprepared': 1430, '121': 1431, 'accept': 1432, 'body': 1433, 'demand': 1434, 'shout': 1435, 'nap': 1436, 'degree': 1437, 'grad': 1438, 'upper': 1439, 'track': 1440, 'lead': 1441, 'loophole': 1442, 'mumble': 1443, 'upali': 1444, 'tutor': 1445, 'adjust': 1446, 'indian': 1447, 'corny': 1448, 'lighten': 1449, 'actual': 1450, 'barrier': 1451, 'five': 1452, 'language': 1453, 'ready': 1454, 'there-': 1455, 'bc': 1456, 'contact': 1457, 'proctor': 1458, 'useful': 1459, '5q': 1460, 'attempt': 1461, 'everyday': 1462, 'unlimited': 1463, 'single': 1464, 'correct': 1465, 'likely': 1466, 'luck': 1467, 'reply': 1468, 'close': 1469, 'accuse': 1470, 'attention&quot': 1471, 'clarify': 1472, 'frustrate': 1473, 'quot;not': 1474, 'standard': 1475, 'chimp': 1476, 'retarded': 1477, 'period': 1478, 'completely': 1479, 'twice': 1480, 'blows': 1481, 'exercise': 1482, 'owl': 1483, 'connect': 1484, 'goodhearted': 1485, 'trouble': 1486, 'activity': 1487, 'grace': 1488, '40': 1489, 'optional': 1490, 'pt': 1491, 'sample': 1492, 'ahead': 1493, 'future': 1494, 'worry': 1495, 'reschedule': 1496, 'bb': 1497, 'quizzes-': 1498, 'bonus': 1499, 'calculation': 1500, 'a&#63': 1501, 'difficulty': 1502, 'somewhere': 1503, 'comprehend': 1504, 'mange': 1505, 'unhelpful': 1506, 'engish': 1507, 'whatnot': 1508, 'worksheet': 1509, 'quit': 1510, 'these': 1511, 'going': 1512, 'completly': 1513, '*': 1514, 'limp': 1515, 'minimal': 1516, 'fairly': 1517, 'unless': 1518, 'college&#63': 1519, 'dude': 1520, 'true': 1521, 'up&#63': 1522, '’': 1523, \"u'r\": 1524, 'worthless': 1525, 'class&quot;.': 1526, 'fire': 1527, 'quot;learn': 1528, 'deese': 1529, 'untill': 1530, 'whatev': 1531, 'communication': 1532, 'mainly': 1533, 'death': 1534, 'bet': 1535, 'aight': 1536, 'b/': 1537, 'generous': 1538, 'genious': 1539, 'webpage': 1540, 'coach': 1541, 'friend': 1542, 'impress': 1543, 'additional': 1544, 'anway': 1545, 'nor': 1546, 'to).the': 1547, 'knowledgable': 1548, 'conceited': 1549, 'actualy': 1550, 'canada': 1551, 'canadian': 1552, 'hmm': 1553, 'semi': 1554, 'proof': 1555, 'sidetracked': 1556, 'formula': 1557, 'structure': 1558, 'cake': 1559, 'fix': 1560, 'probem': 1561, 'countryman': 1562, 'countrymen': 1563, 'arithmetic': 1564, ':/': 1565, 'amuse': 1566, 'crystal': 1567, 'known': 1568, 'paraphrase': 1569, 'universe': 1570, 'directly': 1571, 'fudge': 1572, 'trick': 1573, 'partial': 1574, '240': 1575, '242': 1576, '88': 1577, '89': 1578, 'analogy': 1579, 'overhead': 1580, 'software': 1581, 'procrastinator': 1582, '241': 1583, 'tagent': 1584, 'crap': 1585, 'sweetheart': 1586, 'bounce': 1587, 'pull': 1588, 'weight': 1589, '25': 1590, 'w': 1591, 'check': 1592, 'stickler': 1593, '101': 1594, 'casual': 1595, 'conversational': 1596, 'impose': 1597, 'push': 1598, 'assingment': 1599, 'predicable': 1600, 'adorable': 1601, 'jordan': 1602, 'joy': 1603, 'statistics': 1604, 'tear': 1605, 'potter': 1606, 'aleks': 1607, 'willingness': 1608, 'parti': 1609, 'trippin': 1610, 'exellant': 1611, 'king': 1612, 'similar': 1613, 'trust': 1614, 'sooo': 1615, 'human': 1616, 'quality': 1617, 'model': 1618, 'role': 1619, 'definetely': 1620, 'dont': 1621, 'ditzy': 1622, 'wasnot': 1623, 'shove': 1624, 'advanced': 1625, 'certain': 1626, 'favor': 1627, 'small': 1628, 'reccomend': 1629, 'ass': 1630, 'continue': 1631, 'further': 1632, 'challenging': 1633, 'constitute': 1634, 'portion': 1635, 'rating': 1636, 'spell': 1637, 'analysis': 1638, 'literary': 1639, 'surprisingly': 1640, 'retrospect': 1641, 'applied': 1642, 'house': 1643, 'invite': 1644, 'decision': 1645, 'content': 1646, 'present': 1647, 'train': 1648, 'dif': 1649, 'eq': 1650, 'lu': 1651, 'reihman': 1652, 'pop': 1653, '280': 1654, 'psy280': 1655, 'version': 1656, 'module': 1657, 'oswego': 1658, 'evryth': 1659, 'organize': 1660, 'suceed': 1661, 'jackie': 1662, 'incredible!!she': 1663, 'comfortable': 1664, 'riot': 1665, 'explanation': 1666, 'psy-280': 1667, 'division': 1668, \"isn't\": 1669, 'space': 1670, 'time&#63': 1671, 'hearted': 1672, 'stat': 1673, 'anxiety': 1674, 'soooo': 1675, '290': 1676, 'girl': 1677, 'million': 1678, 'agree': 1679, 'honor': 1680, 'inherently': 1681, 'incorporate': 1682, 'her--': 1683, 'professor-': 1684, 'absolutley': 1685, 'halarious': 1686, 'd.': 1687, 'psy': 1688, 'hi': 1689, 'logical': 1690, 'thrilling': 1691, 'chandler': 1692, 'engineer': 1693, 'are': 1694, 'extemly': 1695, 'bob': 1696, 'laziness': 1697, 'scold': 1698, 'insult': 1699, 'politic': 1700, 'define': 1701, 'paragraph': 1702, 'altschuler': 1703, 'upset': 1704, 'attack': 1705, 'rate': 1706, 'usual': 1707, 'black': 1708, 'draft': 1709, 'ink': 1710, 'red': 1711, '205': 1712, 'pol': 1713, 'obnoxious': 1714, 'arrogant': 1715, 'approach': 1716, 'apush': 1717, 'argument': 1718, 'emotional': 1719, 'shoot': 1720, 'amen': 1721, 'him': 1722, 'bruce': 1723, 'health': 1724, 'teache': 1725, 'annoy': 1726, 'foolishness': 1727, 'breed': 1728, 'educate': 1729, 'intuitive': 1730, 'discipline': 1731, 'hang': 1732, 'underrated': 1733, 'decide': 1734, 'enter': 1735, 'ur': 1736, 'yell': 1737, 'poli': 1738, 'quot;a&quot': 1739, 'sci': 1740, 'darn': 1741, 'bash': 1742, 'view': 1743, 'prioritize': 1744, 'alone': 1745, 'shake': 1746, 'watch': 1747, 'accumulative': 1748, 'american': 1749, 'politics': 1750, 'allen': 1751, 'woody': 1752, 'sexy': 1753, 'whenever': 1754, 'belittle': 1755, 'teh': 1756, 'wrong&#63': 1757, 'miserable': 1758, 'accident': 1759, 'current': 1760, 'discourage': 1761, 'event': 1762, 'ft': 1763, 'tall': 1764, 'expect&#63': 1765, 'morning': 1766, 'public': 1767, 'speaker': 1768, 'proffesor': 1769, 'incomprehensible': 1770, 'rediculous': 1771, 'secondly': 1772, 'is****and': 1773, 'bald': 1774, 'prick': 1775, 'e': 1776, 'pencil': 1777, 'uh': 1778, 'civil': 1779, 'liberty': 1780, 'extensively': 1781, 'rough': 1782, 'book(s': 1783, 'news': 1784, '2.38': 1785, '2.5': 1786, 'scholarship': 1787, 'academia': 1788, 'candidate': 1789, 'doctoral': 1790, 'christmas': 1791, 'merry': 1792, 'everynow': 1793, 'god': 1794, 'mentality': 1795, 'rag': 1796, 'freak': 1797, 'cold': 1798, '0': 1799, 'condescending': 1800, 'hunt': 1801, 'sleep': 1802, 'paper(tough': 1803, 'relatively': 1804, 'legal': 1805, 'span': 1806, 'broom': 1807, 'contribute': 1808, 'job&#63': 1809, 'shovel': 1810, 'snow': 1811, 'everytime': 1812, 'political': 1813, 'altshuler': 1814, 'poly': 1815, 'secondary': 1816, 'bathroom': 1817, 'p*ssed': 1818, 'his****.': 1819, '1999': 1820, 'attorney': 1821, 'garduat': 1822, 'is&#63': 1823, 'chase': 1824, 'over&quot': 1825, 'quot;lass': 1826, 'scream': 1827, 'negative': 1828, 'notice': 1829, 'leg': 1830, '1979': 1831, 'begin': 1832, 'hair': 1833, 'observe': 1834, 'government': 1835, 'president': 1836, \"quot;i'll\": 1837, 'obnoscious': 1838, 'psycho': 1839, 'insane': 1840, 'elementary': 1841, 'rap': 1842, 'assert': 1843, 'scholarly': 1844, 'enforce': 1845, 'stimulate': 1846, 'unfair': 1847, 'all&#63': 1848, 'doodle': 1849, 'androgeny': 1850, 'aviod': 1851, 'costs': 1852, 'kurst': 1853, 'swanger': 1854, 'absorb': 1855, 'epitomize': 1856, 'saying': 1857, 'self': 1858, 'patience': 1859, 'unplesant': 1860, 'orientation': 1861, 'rudely': 1862, 'calla': 1863, 'suny': 1864, 'transfer': 1865, 'hook': 1866, 'loose': 1867, 'pillow': 1868, 'literature': 1869, 'normally': 1870, 'piece': 1871, 'select': 1872, 'spanish': 1873, 'survey': 1874, 'examine': 1875, 'uni': 1876, 'native': 1877, 'interact': 1878, 'jenny': 1879, 'pregnant': 1880, 'cooley': 1881, 'film': 1882, 'slowly': 1883, 'donut': 1884, 'crossword': 1885, 'puzzle': 1886, 'challenged': 1887, 'instruct': 1888, 'prefer': 1889, 'traditional': 1890, 'except': 1891, 'growth': 1892, 'incentive': 1893, 'coherent': 1894, 'painful': 1895, 'sweeeeeeeet': 1896, '=': 1897, 'exam=': 1898, 'shock': 1899, 'responsive': 1900, 'mpa': 1901, 'depth': 1902, 'hella': 1903, 'logic': 1904, 'amazingly': 1905, 'cheap': 1906, 'kit': 1907, 'gen': 1908, 'elsewhere': 1909, 'verbal': 1910, 'resource': 1911, 'derivation': 1912, 'unit': 1913, '1st': 1914, 'reasoning': 1915, 'tangent': 1916, 'numbingly': 1917, 'repetitive': 1918, 'amazed': 1919, 'berkeley': 1920, 'descartes': 1921, 'hume': 1922, 'kant': 1923, 'locke': 1924, 'sidetrack': 1925, 'utterly': 1926, 'uninterst': 1927, 'unrelated': 1928, 'effective': 1929, 'complaint': 1930, 'introductory': 1931, 'mostly': 1932, 'previously': 1933, 'humour': 1934, 'logan': 1935, 'polite': 1936, 'ecplain': 1937, 'philophy': 1938, 'cartoon': 1939, 'illustrate': 1940, 'star': 1941, 'trek': 1942, 'used': 1943, 'confused': 1944, 'via': 1945, 'row': 1946, '1410': 1947, 'favourite': 1948, 'neutral': 1949, 'opinon': 1950, 'valid': 1951, 'quot;i': 1952, 'that&quot': 1953, 'plain': 1954, 'puzzling': 1955, 'uninteresting': 1956, 'foward': 1957, 'capable': 1958, 'earth&quot': 1959, 'quot;fall': 1960, 'moe': 1961, 'guarantee': 1962, 'passage': 1963, 'com': 1964, 'homeworkdoer': 1965, 'communicate': 1966, 'criticism': 1967, 'coursework': 1968, 'immense': 1969, 'ohio': 1970, 'adulthood': 1971, 'alway': 1972, 'youth': 1973, 'osu': 1974, 'lean': 1975, 'unbelievably': 1976, 'rambly': 1977, '110.01': 1978, 'hardly': 1979, 'nearly': 1980, 'h367': 1981, 'sometime': 1982, 'law': 1983, 'lor': 1984, 'med': 1985, 'university': 1986, 'valuable': 1987, 'john': 1988, 'awseome': 1989, 'deverse': 1990, 'mildly': 1991, 'accomplished': 1992, 'gauranteed': 1993, 'gaurenteed': 1994, 'exams': 1995, 'quizes': 1996, 'particiapte': 1997, 'prompt': 1998, 'warn': 1999, 'consider': 2000, 'haha': 2001, 'appeal': 2002, 'grandpa&quot': 2003, 'quot;old': 2004, 'pattern': 2005, 'thinking': 2006, 'merit': 2007, 'participation': 2008, 'columbus': 2009, 'museum': 2010, 'trip': 2011, 'sock': 2012, 'treehugger': 2013, 'jr.': 2014, 'kurt': 2015, 'vonnegut': 2016, 'box': 2017, 'develop': 2018, 'mundane': 2019, 'sound': 2020, 'hopeless': 2021, 'mouring': 2022, 'prop': 2023, 'rick': 2024, 'orthadox': 2025, 'equal': 2026, 'prozak': 2027, 'speaking': 2028, 'voice': 2029, 'reflect': 2030, '400': 2031, 'page': 2032, 'moodle': 2033, 'rigid': 2034, 'marker': 2035, 'medieval': 2036, 'jack': 2037, 'odd': 2038, 'hart': 2039, 'everywhere': 2040, '2nd': 2041, 'fund': 2042, 'supplement': 2043, 'lecturer': 2044, \"c'mon\": 2045, 'record': 2046, 'clarity': 2047, 'internet': 2048, 'mention': 2049, 'search': 2050, 'bio': 2051, 'developmental': 2052, 'fundamentals': 2053, 'prerequisite': 2054, 'ridiculously': 2055, 'detailed': 2056, 'adv': 2057, 'diagram': 2058, 'freakin': 2059, 'mc': 2060, 'atrocius': 2061, 'feeder': 2062, 'appallingly': 2063, 'cryptic': 2064, 'nathan': 2065, 'organization': 2066, 'intentional': 2067, 'scheme': 2068, 'yoyu': 2069, 'ineffective': 2070, 'osmotic': 2071, 'core': 2072, 'rutgers': 2073, 'chap': 2074, '=(': 2075, 'extreeemly': 2076, 'killer': 2077, 'kiledjian': 2078, 'overkill': 2079, 'thoma': 2080, 'hat': 2081, 'molec': 2082, 'orgo': 2083, 'prereqs': 2084, 'evil': 2085, 'c.': 2086, 'physiology': 2087, 'systems': 2088, 'create': 2089, 'typical': 2090, 'halfwit': 2091, 'doenst': 2092, 'nutrition': 2093, 'ph': 2094, 'fission': 2095, 'fusion': 2096, 'alarming': 2097, 'frequencey': 2098, 'mispeaking': 2099, 'berkow': 2100, 'screw': 2101, 'relevent': 2102, 'society': 2103, 'slide': 2104, 'act': 2105, 'boa': 2106, 'coat': 2107, 'feather': 2108, 'wear': 2109, 'exponential': 2110, 'graph': 2111, 'linear': 2112, 'dress': 2113, 'confusion': 2114, 'quirkiness': 2115, 'lately': 2116, 'balance': 2117, 'bogus': 2118, 'dread': 2119, 'surprise': 2120, 'add': 2121, 'upcoming': 2122, 'regularly': 2123, 'forte': 2124, 'math31': 2125, 'smc': 2126, 'evrth': 2127, 'multipl': 2128, 'y': 2129, 'grandpa': 2130, 'ilovedr.king!he': 2131, 'motivate': 2132, 'lie': 2133, 'shy': 2134, 'aweomse': 2135, 'disk': 2136, 'lab(req': 2137, 'g.e.': 2138, 'crack': 2139, 'al': 2140, 'bf': 2141, 'likeable': 2142, 'jovial': 2143, 'quot;meat&quot': 2144, 'talking': 2145, 'chill': 2146, 'term/': 2147, 'scared': 2148, 'collect': 2149, '84': 2150, 'advise': 2151, 'definetly': 2152, 'fro': 2153, 'bored': 2154, 'jolly!its': 2155, 'scantron': 2156, 'thet': 2157, 'jolly': 2158, '31&#63': 2159, 'hmmm.go': 2160, 'quot;c&quot': 2161, 'manage': 2162, 'miraculously': 2163, 'intermediate': 2164, 'spirts': 2165, 'we': 2166, 'play': 2167, 'lee': 2168, 'peter': 2169, 'quot;f&quot;.': 2170, 'score': 2171, 'thuroughly': 2172, 'bill': 2173, 'cosby': 2174, 'weak': 2175, 'condescend': 2176, 'math&#63': 2177, 'sharp': 2178, 'seemingly': 2179, 'frustrated': 2180, 'whiz': 2181, 'told': 2182, 'elaborate': 2183, 'criminal': 2184, 'wlit': 2185, 'fav': 2186, 'fully': 2187, 'hardboiled': 2188, 'movie': 2189, 'comp': 2190, 'reccomen': 2191, 'mcgee': 2192, 'flaky': 2193, 'admit': 2194, 'dusty': 2195, 'skeptical': 2196, 'writin': 2197, 'poetry': 2198, 'prose': 2199, 'blond': 2200, 'assigment': 2201, 'desire': 2202, 'shirazi': 2203, 'shiraziis': 2204, 'basic': 2205, 'awsome': 2206, '7th': 2207, 'numb': 2208, 'tata': 2209, 'theta': 2210, 'kindergartener': 2211, 'mwc': 2212, 'potatoe': 2213, 'stomach': 2214, 'unique': 2215, 'touch': 2216, '15': 2217, 'min': 2218, 'pain': 2219, 'attendace': 2220, 'sooooo': 2221, 'accomadat': 2222, '153': 2223, 'douchin': 2224, 'fr': 2225, 'improve': 2226, 'french': 2227, 'syllabus': 2228, 'wan': 2229, 'typed': 2230, 'eccentric': 2231, 'sanity': 2232, 'favortism': 2233, 'strongly': 2234, 'ap': 2235, 'exempt': 2236, 'hs': 2237, 'technically': 2238, 'stray': 2239, 'diligent': 2240, 'ethic': 2241, 'worker': 2242, 'voila': 2243, 'fairness': 2244, 'recitation': 2245, 'loving': 2246, 'shaft': 2247, 'visit': 2248, 'conversation': 2249, 'hours&#63': 2250, 'slack': 2251, 'infact': 2252, 'later': 2253, 'everbody': 2254, 'previous': 2255, 'sophisticated': 2256, 'ice': 2257, 'intimidate': 2258, 'considerate': 2259, 'a-': 2260, 'continuously': 2261, 'undergrad': 2262, 'applaud': 2263, 'hurry': 2264, 'bell': 2265, 'psycholinguistic': 2266, 'tanenhaus': 2267, 'whistle': 2268, 'asleep': 2269, 'perk': 2270, 'insomniacs': 2271, 'consistently': 2272, 'd2l': 2273, 'majority': 2274, 'retake': 2275, 'thorough': 2276, 'kilburn': 2277, 'necessarily': 2278, 'bullsh*t': 2279, 'solution': 2280, 'consist': 2281, 'math211': 2282, 'killburn': 2283, 'testexamquizetc': 2284, 'unreal': 2285, 'differently': 2286, 'certainly': 2287, 'bare': 2288, 'adviser': 2289, 'route': 2290, 'sprague': 2291, 'ivy': 2292, 'league': 2293, 'mathemetician': 2294, '4yrs': 2295, 'jiujitsu': 2296, 'kory': 2297, 'cagefight': 2298, 'champ': 2299, 'club': 2300, 'eup': 2301, 'grappler': 2302, 'ny': 2303, 'night': 2304, 'mathematically': 2305, 'incapible': 2306, 'retain': 2307, 'cage': 2308, 'fighter': 2309, 'gosh': 2310, 'sake': 2311, 'barely': 2312, 'edinboro': 2313, 'to&#63': 2314, 'definitly': 2315, 'goofy': 2316, 'edinboro!&quot': 2317, 'friday': 2318, 'quot;big': 2319, 'spongebob': 2320, 'lovely': 2321, 'bite': 2322, 'freeze': 2323, 'horse': 2324, 'nebraska': 2325, 'nibble': 2326, 'rip': 2327, 'salt': 2328, 'size': 2329, 'wild': 2330, 'coll': 2331, 'finite': 2332, 'party': 2333, 'unmatchable': 2334, 'minded&quot': 2335, 'quot;math': 2336, 'abour': 2337, 'smile': 2338, 'boro': 2339, 'failing': 2340, 'given': 2341, 'member': 2342, 'team': 2343, 'length': 2344, 'recommmend': 2345, 'derivative': 2346, 'sick': 2347, 'helpfull': 2348, 'spectacular': 2349, 'educator': 2350, 'today': 2351, 'greig': 2352, 'efficient': 2353, 'sarcasm': 2354, 'conductor': 2355, 'pa': 2356, 'instrument': 2357, 'tad': 2358, 'um': 2359, 'alright': 2360, 'chair': 2361, 'clarinet': 2362, 'much&#63;&#63;&#63;&#63': 2363, 'danceline': 2364, 'flagline': 2365, 'line': 2366, 'christian': 2367, 'expand': 2368, 'grasp': 2369, 'philosophical': 2370, 'cristian': 2371, 'soo': 2372, 'cough': 2373, 'distracting': 2374, 'mihut': 2375, 'grant': 2376, 'p.': 2377, 'thick': 2378, 'quizes(lowest': 2379, '411': 2380, 'dynamic': 2381, 'i.': 2382, 'met': 2383, 'skubis': 2384, 'heavy': 2385, 'door': 2386, 'learnable': 2387, 'tendency': 2388, 'bearable': 2389, 'weather': 2390, '85': 2391, 'neglect': 2392, '60': 2393, 'durin': 2394, '65': 2395, 'bless': 2396, 'losest': 2397, 'gain': 2398, 'nyquil': 2399, 'ah': 2400, 'zzzzz': 2401, '210': 2402, 'east': 2403, 'scuba': 2404, 'steve': 2405, 'b-': 2406, 'snoozer': 2407, 'easyyyyyy': 2408, 'focused': 2409, 'excitement': 2410, 'greg': 2411, 'convey': 2412, 'geology': 2413, 'innovative': 2414, 'undecided': 2415, 'skeezy': 2416, 'us--': 2417, 'block': 2418, 'straightforward': 2419, 'unimportant': 2420, 'lengthy': 2421, 'que': 2422, 'correctly': 2423, 'alcohol': 2424, 'dunn': 2425, '21': 2426, 'allot': 2427, 'share': 2428, 'preparation': 2429, 'beforehand': 2430, 'companion': 2431, 'provoke': 2432, 'supplemental': 2433, 'n': 2434, 'together': 2435, 'ch': 2436, 'between': 2437, 'interaction': 2438, 'easiest': 2439, 'quot;earned&quot;.': 2440, 'ebook': 2441, 'quot;professorish&quot': 2442, 'implication': 2443, 'abuse': 2444, 'maisto': 2445, 'diagnose': 2446, 'illness': 2447, 'recover': 2448, 'unable': 2449, 'xcred': 2450, 'b4': 2451, 'con-': 2452, 'pothead': 2453, 'ppl': 2454, 'forever': 2455, '100s': 2456, 'texbook': 2457, 'idiot': 2458, 'longer': 2459, 'frustratingly': 2460, 'pompous': 2461, '50&#63': 2462, '63': 2463, 'submit': 2464, 'junk': 2465, 'subjective': 2466, 'quot;hot&quot;&#63': 2467, 'recomm': 2468, '50/50': 2469, 'drone': 2470, 'unaware': 2471, 'wife': 2472, 'hillarious': 2473, '99': 2474, 'experimetrix': 2475, 'option': 2476, 'thou': 2477, ':(': 2478, 'impatient': 2479, 'our': 2480, 'pissed': 2481, 'clinical': 2482, 'diference': 2483, 'pyschologist': 2484, 'class--': 2485, 'neither': 2486, 'intersting': 2487, '=)': 2488, 'marry': 2489, 'instantly': 2490, 'mail': 2491, 'msg': 2492, 'comedian': 2493, 'charm': 2494, 'bac': 2495, 'decade': 2496, 'insight': 2497, 'mcinerney': 2498, 'penn': 2499, 'scholar': 2500, 'private': 2501, 'btw': 2502, 'cut': 2503, 'politely': 2504, 'insanely': 2505, 'leader': 2506, 'anywhere': 2507, 'coddle': 2508, 'irritate': 2509, 'likability': 2510, 'negate': 2511, 'satisfied': 2512, 'unresponsive': 2513, 'impressive': 2514, 'pride': 2515, 'captivate': 2516, 'nonetheless': 2517, 'bind': 2518, 'jsut': 2519, 'actively': 2520, 'himmele': 2521, 'strategy': 2522, 'encourage': 2523, 'inside': 2524, 'interactive': 2525, 'placement': 2526, 'strategies': 2527, '485': 2528, 'erch': 2529, 'normal': 2530, 'hero': 2531, 'deeply': 2532, 'beneficial': 2533, 'studyguide': 2534, 'elective': 2535, 'monotonous': 2536, 'extremly': 2537, 'list': 2538, 'boring!!!!!!11': 2539, 'neth': 2540, 'father': 2541, 'lamon': 2542, 'tip': 2543, 'connery': 2544, 'sean': 2545, 'southern': 2546, 'thumb': 2547, 'exceptional': 2548, 'eh': 2549, 'dedicate': 2550, 'majoring': 2551, 'scattered': 2552, 'card': 2553, 'index': 2554, 'class!it': 2555, 'man!!alway': 2556, 'reasonable': 2557, 'cs': 2558, 'exemption': 2559, 'sign': 2560, 'bosch': 2561, 'lower': 2562, 'overdone': 2563, 'frog': 2564, 'sandpaper': 2565, 'wolfman+talks': 2566, 'initiative': 2567, 'ot': 2568, 'uneasy': 2569, 'abscent': 2570, 'beat': 2571, 'phd': 2572, 'mouse': 2573, 'determine': 2574, 'lonky': 2575, 'professional': 2576, 'atleast': 2577, 'sarcastic': 2578, 'enjoyed': 2579, 'refuse': 2580, 'cry': 2581, 'hysterical': 2582, 'compare': 2583, 'whereas': 2584, 'insincere': 2585, 'doc': 2586, 'excuse': 2587, 'priority': 2588, 'cheat': 2589, 'wonder': 2590, 'dummy': 2591, 'simplify': 2592, 'catch': 2593, 'giggle': 2594, 'social': 2595, 'thoughtful': 2596, 'earlier': 2597, 'til': 2598, 'gave': 2599, 'perspective': 2600, 'insurance': 2601, '45/100': 2602, 'pass&#63': 2603, 'imo': 2604, 'tired': 2605, 'informed': 2606, 'dis': 2607, 'nike': 2608, 'sweatshirts': 2609, 'tests': 2610, 'certification': 2611, 'lame': 2612, 'vey': 2613, 'fed': 2614, 'spoon': 2615, 'sleeper': 2616, 'worthy': 2617, 'moment': 2618, 'ease': 2619, 'empathetic': 2620, 'cyr': 2621, 'rake': 2622, 'tutorial': 2623, 'southwestern': 2624, 'tryi': 2625, 'enrol': 2626, 'variable': 2627, 'monitor': 2628, 'myspace': 2629, 'withdraw': 2630, '’05': 2631, 'dillon': 2632, 'desk': 2633, 'airhead': 2634, 'herrara': 2635, 'pete': 2636, 'ms.dillon': 2637, 'ihave': 2638, 'gooooooood': 2639, 'workbook': 2640, 'absence': 2641, 'inform': 2642, 'limit': 2643, 'cola': 2644, 'zippy': 2645, 'david': 2646, 'compensate': 2647, 'following': 2648, 'class-': 2649, 'saver': 2650, 'century': 2651, 'blackboardmyufv': 2652, 'magically': 2653, 'ufv': 2654, '4th': 2655, 'conclusion': 2656, 'essay(intro': 2657, 'dave': 2658, 'india': 2659, 'colorful': 2660, 'readings-': 2661, 'worse': 2662, 'great-': 2663, 'yah': 2664, 'quot;lord': 2665, 'quot;swine&quot': 2666, 'wifinbifim&quot;.': 2667, 'leeway': 2668, 'greek': 2669, 'par': 2670, 'family': 2671, 'wait': 2672, 'brit': 2673, 'empire': 2674, 'mil': 2675, 'disoriented': 2676, 'prof&#63': 2677, 'progress': 2678, 'update': 2679, 'below': 2680, 'gamble': 2681, 'notify': 2682, 'bias': 2683, 'catholicism': 2684, 'roman': 2685, 'talkin': 2686, 'worst': 2687, 'understant': 2688, 'ignorant': 2689, 'unnecessary': 2690, 'age': 2691, 'register': 2692, 'deja': 2693, 'vu': 2694, 'factoid': 2695, 'gonzalez': 2696, 'picture': 2697, 'cross': 2698, 'rewrite': 2699, 'tho': 2700, 'mendez': 2701, '102': 2702, 'permit': 2703, 'bunch': 2704, 'eww': 2705, 'doesnt': 2706, 'kick': 2707, 'till': 2708, 'blame': 2709, 'falsely': 2710, '2day': 2711, 'brained': 2712, 'sayin': 2713, 'scatter': 2714, 'violate': 2715, 'yourself': 2716, 'forth': 2717, 'soooooooo': 2718, 'zzzzzzzzzzz': 2719, 'everrr': 2720, 'routine': 2721, 'unbelieveable': 2722, 'source': 2723, 'test.she': 2724, 'lectures': 2725, 'you.the': 2726, 'attention.dont': 2727, 'plagiari': 2728, 'shes': 2729, 'monday': 2730, 'accomodate': 2731, 'latino': 2732, 'unorganized&#63;&#63': 2733, 'e.g.': 2734, 'dare': 2735, 'fascinate': 2736, 'fascinated': 2737, 'arrive': 2738, 'dangerously': 2739, 'relieve': 2740, 'commit': 2741, 'stud': 2742, 'cofuss': 2743, 'techer': 2744, 'doctorate': 2745, 'overlook': 2746, 'recomend': 2747, 'dislike': 2748, 'intelect': 2749, \"didn't\": 2750, \"weren't\": 2751, 'omg': 2752, 'booooooooooriii': 2753, 'vvvery': 2754, 'aww': 2755, 'consistant': 2756, 'turtle': 2757, 'valium': 2758, 'college!&#63': 2759, 'cant': 2760, 'hasnt': 2761, 'gp': 2762, 'unorganize': 2763, 'nevere': 2764, 'injure': 2765, '3.5': 2766, 'hrs': 2767, 'victorian': 2768, 'definatly': 2769, '310': 2770, 'classes-': 2771, 'feminist': 2772, 'course!-4': 2773, 'll': 2774, 'highschool': 2775, 'upperlevel': 2776, 'disingenuous': 2777, 'town': 2778, 'backstabb': 2779, 'superb': 2780, 'doug': 2781, 'ball': 2782, 'firm': 2783, 'refreshing': 2784, 'resourceful': 2785, 'maximum': 2786, 'minimum': 2787, 'regard': 2788, 'responsibility': 2789, 'riddance': 2790, 'impossibly': 2791, 'unrespectful': 2792, 'strict': 2793, 'accidentally': 2794, 'suprise': 2795, 'baldwin': 2796, 'wealth': 2797, 'dp': 2798, 'taste': 2799, 'comphrend': 2800, 'cj': 2801, 'council': 2802, 'curriculum': 2803, 'exra': 2804, 'freshmans': 2805, 'definatley': 2806, 'escape': 2807, 'unimpressed': 2808, 'dirty': 2809, 'summarize': 2810, 'brief': 2811, 'youll': 2812, 'unapproachable': 2813, 'critical': 2814, 'sux': 2815, 'mccormick': 2816, 'skim': 2817, 'macro': 2818, 'energy': 2819, 'extraordinary': 2820, 'drab': 2821, 'econ': 2822, 'flip': 2823, 'ken': 2824, 'weed': 2825, 'essential': 2826, 'verbatim': 2827, 'lecturey': 2828, 'glance': 2829, 'c-': 2830, 'definitively': 2831, 'macroeconomic': 2832, 'worthwhile': 2833, 'proffessor': 2834, '$': 2835, 'prize': 2836, 'moderately': 2837, 'volume': 2838, 'heavily': 2839, 'rely': 2840, '40-question': 2841, 'edition': 2842, 'economics': 2843, 'undoubtedly': 2844, 'chili': 2845, 'carrying': 2846, 'horribly': 2847, 'vary': 2848, 'intermidate': 2849, 'kenny&#63': 2850, \"don't\": 2851, 'kenny': 2852, 'wellfare': 2853, 'greatest': 2854, 'floor': 2855, 'jokes': 2856, 'laughing': 2857, 'reconsider': 2858, 'site': 2859, 'dorky': 2860, 'comments&#63;&quot': 2861, 'quot;question': 2862, \"he'll\": 2863, 'shirt': 2864, 'bomb': 2865, 'button': 2866, 'clothing': 2867, 'safari': 2868, 'outstanding': 2869, 'ganong': 2870, 'accessible': 2871, 'biochemistry': 2872, 'numerous': 2873, 'outgoing': 2874, 'liven': 2875, 'mu': 2876, 'commical': 2877, 'survery': 2878, 'mofo': 2879, 'mansfield': 2880, 'perhaps': 2881, 'shuffle': 2882, 'disrespect': 2883, 'pompously': 2884, 'pry': 2885, 'hn': 2886, 'academically': 2887, 'massive': 2888, 'furman': 2889, 'randomly': 2890, 'coast': 2891, 'introduction': 2892, 'butt': 2893, 'times': 2894, 'living': 2895, 'ps': 2896, 'el': 2897, 'internship': 2898, 'stuff-': 2899, 'glenda': 2900, 'cater': 2901, 'preference': 2902, 'stifle': 2903, 'traditionalist': 2904, 'cram': 2905, 'advertise': 2906, 'critique': 2907, 'mine': 2908, 'fiction': 2909, 'formidable': 2910, 'mislead': 2911, 'owe': 2912, 'handing': 2913, 'hurt': 2914, 'spur': 2915, 'industry': 2916, 'publish': 2917, 'screenwrit': 2918, 'witty': 2919, 'rogers': 2920, 'bearing': 2921, '76': 2922, 'roger': 2923, 'easy-': 2924, 'notes-': 2925, 'help-': 2926, 'swell': 2927, 'biology': 2928, 'iclicker': 2929, '62': 2930, 'avg': 2931, 'hr': 2932, 'naturally': 2933, 'winner': 2934, 'facebook': 2935, 'building': 2936, 'kermit': 2937, 'fulfill': 2938, 'mediocar': 2939, 'forum': 2940, 'honest': 2941, 'resort': 2942, '100x': 2943, 'intriguing': 2944, 'cathy': 2945, 'accommodate': 2946, 'constructive': 2947, 'objection': 2948, 'receptive': 2949, 'structured': 2950, 'execute': 2951, 'handwriting': 2952, 'bar': 2953, 'hist': 2954, 'instructer': 2955, 'phil': 2956, 'whatcom': 2957, '2hr': 2958, 'teacher.i': 2959, 'yuo': 2960, 'reveal': 2961, 'hagman': 2962, 'magic': 2963, 'tea': 2964, 'wand': 2965, 'wayyy': 2966, 'against': 2967, 'prejudice': 2968, 'religion': 2969, 'neat': 2970, 'accomodating': 2971, 'profile': 2972, 'heck': 2973, 'request': 2974, 'constant': 2975, 'pushing': 2976, 'quot;activities&quot': 2977, 'suit': 2978, 'w/': 2979, '20-week': 2980, 'batty': 2981, 'groaner': 2982, 'nametag': 2983, 'scoring': 2984, 'library': 2985, 'bog': 2986, 'memory': 2987, 'prodject': 2988, 'entetain': 2989, 'schooly': 2990, 'forgiving': 2991, 'brat': 2992, 'running': 2993, 'scho': 2994, 'fond': 2995, 'clicker': 2996, '2014': 2997, '2015': 2998, 'misleading': 2999, 'perkins': 3000, 'reality': 3001, 'among': 3002, 'inclass': 3003, 'vizi': 3004, 'equally': 3005, 'savage': 3006, 'critically': 3007, 'visis': 3008, 'converse': 3009, 'frequent': 3010, 'abstractly': 3011, 'junior': 3012, 'omgosh': 3013, 'si': 3014, 'critic': 3015, 'generally': 3016, 'inquist': 3017, 'impressed': 3018, 'professionalism': 3019, '7:30': 3020, 'suprisingly': 3021, 'yoy': 3022, '112': 3023, 'reach': 3024, 'pearson': 3025, 'speck': 3026, 'graded': 3027, 'daughter': 3028, 'distracted': 3029, '162': 3030, 'parent': 3031, 'excused': 3032, 'excuses.no': 3033, 'slap': 3034, 'physician': 3035, 'spacy': 3036, 'downside': 3037, 'seat': 3038, '93': 3039, 'happen': 3040, 'pertinent': 3041, 'sing': 3042, 'workload': 3043, 'toolbag': 3044, 'saltzman': 3045, 'hmmmm': 3046, 'mister': 3047, 'unfortunaley': 3048, 'differ': 3049, 'furthermore': 3050, 'whose': 3051, 'gear': 3052, 'combination': 3053, 'grandfather': 3054, 'liberal': 3055, 'democrat': 3056, 'pour': 3057, 'republican': 3058, 'granddad': 3059, 'chat': 3060, 'itnerest': 3061, 'becuase': 3062, 'experiance': 3063, 'truth': 3064, '8:30': 3065, 'fifteen': 3066, 'occasional': 3067, 'gov': 3068, 'exclusively': 3069, 'semester;neither': 3070, 'ahold': 3071, 'active': 3072, 'delight': 3073, 'novel': 3074, 'gaenslen': 3075, 'terrific': 3076, 'fritz': 3077, 'contrary': 3078, 'fake': 3079, 'dreadfully': 3080, 'nit': 3081, 'terribly': 3082, 'nerd': 3083, 'demoralize': 3084, 'out&quot': 3085, \"quot;i'm\": 3086, '200': 3087, 'skew': 3088, 'spectrum': 3089, 'cnav': 3090, 'gettysburg': 3091, 'dig': 3092, 'instructions': 3093, 'borock': 3094, 'demeaning': 3095, 'tank': 3096, 'exams-': 3097, 'frankly': 3098, 'international': 3099, 'relation': 3100, 'unfavorable': 3101, 'abrasive': 3102, 'moron': 3103, 'd-': 3104, 'don?t': 3105, 'nonsense': 3106, 'preach': 3107, 'tract': 3108, 'berate': 3109, 'pompus': 3110, 'relations': 3111, 'serve': 3112, 'comprimise': 3113, 'unfriendly': 3114, 'unwilling': 3115, 'pure': 3116, 'extreme': 3117, 'grow': 3118, \"-don't\": 3119, 'cynical': 3120, 'faculty': 3121, 'claus': 3122, 'pole': 3123, 'santa': 3124, 'south': 3125, 'coo': 3126, 'indicate': 3127, 'burg': 3128, 'addition': 3129, 'aka': 3130, 'game': 3131, 'national': 3132, 'york': 3133, 'criterion': 3134, 'summation': 3135, 'merely': 3136, 'woman-': 3137, 'wonderfully': 3138, '300': 3139, 'deathly': 3140, 'sh*t': 3141, 'anomaly': 3142, 'i?m': 3143, 'incline': 3144, 'kudo': 3145, 'common': 3146, 're': 3147, 'title': 3148, 'didn?t': 3149, 'mate': 3150, 'scar': 3151, 'response': 3152, 'theory': 3153, 'sultry': 3154, 'janet': 3155, 'devoted': 3156, 'mccracken': 3157, 'andor': 3158, 'bear': 3159, '--she': 3160, 'charismatic': 3161, 'indulgent': 3162, 'emulate': 3163, 'lfc': 3164, 'afternoon': 3165, 'int': 3166, '96': 3167, 'banking': 3168, 'finance': 3169, 'angry': 3170, 'mumbling': 3171, 'scribble': 3172, 'brutal': 3173, 'mba': 3174, 'unaccommodating': 3175, 'delivery': 3176, '3-credit': 3177, 'solidify': 3178, 'ample': 3179, 'glosser': 3180, 'regression': 3181, 'memorization': 3182, 'currently': 3183, 'sad': 3184, 'instantaneously': 3185, 'irritated': 3186, 'enourmous': 3187, 'aplia': 3188, 'aplenty': 3189, 'thus': 3190, 'scary': 3191, 'mckee': 3192, 'tremendous': 3193, 'probly': 3194, 'circumstance': 3195, 'ugh': 3196, 'arbitrary': 3197, 'loopy': 3198, 'carlisle': 3199, 'concord': 3200, 'school.go': 3201, 'ten': 3202, 'chicago': 3203, 'doctor': 3204, 'ltc': 3205, 'technology': 3206, 'jones': 3207, 'bachelor': 3208, 'recently': 3209, 'lull': 3210, 'familiar': 3211, 'across': 3212, 'f': 3213, 'peice': 3214, 'fallon': 3215, 'jimmy': 3216, 'skit': 3217, 'snl': 3218, 'comes': 3219, 'football': 3220, 'lol': 3221, 'garbage': 3222, \"i'v\": 3223, 'double': 3224, 'quot;c&quot;.': 3225, 'cane': 3226, 'elwood': 3227, 'showing': 3228, 'pretend': 3229, '............................': 3230, '.............': 3231, 'quot;sucks&quot': 3232, 'to!!!!just': 3233, 'honors': 3234, 'jone': 3235, 'amd': 3236, 'explanitory': 3237, 'angel': 3238, 'nasty': 3239, 'avenue': 3240, 'wack': 3241, 'ha': 3242, 'habit': 3243, 'seven': 3244, 'disjointed': 3245, 'replace': 3246, 'beginner': 3247, 'smooth': 3248, '1jc3': 3249, 'anand': 3250, 'bobble': 3251, 'countless': 3252, 'percentage': 3253, 'pretentious': 3254, 'criticize': 3255, 'evaluation': 3256, 'kwow': 3257, 'humanity': 3258, 'switch': 3259, 'te': 3260, 'deliver': 3261, 'argueably': 3262, 'institution': 3263, 'rid': 3264, 'usesless': 3265, '1988/89': 3266, 'dan': 3267, 'polgar': 3268, 'quote': 3269, 'hulman': 3270, 'inst': 3271, 'rose': 3272, 'mcguire': 3273, 'express': 3274, 'variety': 3275, 'sociology': 3276, 'advance': 3277, 'demean': 3278, 'indeed': 3279, 'iusb': 3280, 'junger': 3281, 'exchange': 3282, 'verb': 3283, 'journalist': 3284, 'successful': 3285, 'asst': 3286, 'j': 3287, 'priceless': 3288, 'ba': 3289, 'insensitive': 3290, 'journalism': 3291, 'edit': 3292, 'recount': 3293, 'task': 3294, 'insulting': 3295, 'rec': 3296, '1.take': 3297, 'richard': 3298, 'skin': 3299, 'wmu': 3300, 'leniancy': 3301, 'uncompassionate': 3302, 'upfront': 3303, 'paty': 3304, 'local': 3305, 'outlet': 3306, 'prospect': 3307, 'apply': 3308, 'discover': 3309, 's-161': 3310, 'betsy': 3311, 'lucal': 3312, '341,342,349': 3313, 'soc': 3314, 'action': 3315, 'observant': 3316, 'abstract': 3317, ']': 3318, 'classical': 3319, 'color)and': 3320, 'founder': 3321, 'introduce': 3322, 'nonmale': 3323, 'nonwhite': 3324, 'person[s': 3325, 'pupil': 3326, 'particular': 3327, 'theorist': 3328, 'imagine': 3329, 'a++': 3330, 'unneeded': 3331, 'codingprogramming': 3332, 'code': 3333, 'dorm': 3334, 'coffee': 3335, 'result': 3336, 'exhale': 3337, 'gas': 3338, 'monotonic': 3339, 'tolerable': 3340, 'obvious': 3341, 'thechance': 3342, 'whatta': 3343, 'jacket': 3344, 'pant': 3345, 'chest': 3346, 'monotonal': 3347, 'ppt': 3348, '111': 3349, 'acct': 3350, 'marisa': 3351, 'biginner': 3352, 'addtional': 3353, 'abbreviation': 3354, 'statement': 3355, 'loser': 3356, 'digress': 3357, 'kinard': 3358, 'identify': 3359, 'ie': 3360, 'personification': 3361, 'vocab': 3362, 'revise': 3363, 'revision': 3364, 'fly': 3365, 'poem': 3366, 'marriage': 3367, 'eloquent': 3368, 'interesteing': 3369, 'drama': 3370, 'selection': 3371, 'reproduce': 3372, '90': 3373, 'cakewalk': 3374, 'milostan': 3375, 'survivable': 3376, 'foo': 3377, 'nonstop': 3378, 'leanient': 3379, 'piercing': 3380, 'compiler': 3381, 'nerdy': 3382, 'fat': 3383, 'neccessary': 3384, 'nose': 3385, 'ring': 3386, 'mustafa': 3387, 'becaue': 3388, 'pharmacology': 3389, 'disappointing': 3390, 'alternative': 3391, 'range': 3392, 'aside': 3393, 'release': 3394, 'parasitology': 3395, 'bump': 3396, 'sophomore': 3397, 'unfit': 3398, 'pr': 3399, 'accessable': 3400, 'inject': 3401, 'vast': 3402, 'palencia': 3403, 'roth': 3404, 'p': 3405, 'r': 3406, 'yr': 3407, 'gillespie': 3408, 'g': 3409, 'ecotoxicology': 3410, 'pursue': 3411, 'regardless': 3412, 'ecotox': 3413, 'reward': 3414, 'aid': 3415, 'attentive': 3416, 'ecology': 3417, 'woudl': 3418, 'immediately': 3419, 'agreement': 3420, 'nod': 3421, 'value': 3422, 'notecard': 3423, 'equation': 3424, 'fundamental': 3425, 'sorry': 3426, 'informational': 3427, 'chuahan': 3428, 'cocky': 3429, 'peng': 3430, 'assist': 3431, 'qulified': 3432, 'leaned': 3433, 'investing': 3434, 'ought': 3435, 'temper': 3436, 'workable': 3437, 'pend': 3438, 'unbearable': 3439, 'joe': 3440, '513': 3441, 'tolerent': 3442, 'obssesd': 3443, 'spoil': 3444, 'target': 3445, 'masters': 3446, 'skolnik': 3447, 'attia': 3448, 'foreign': 3449, 'teachers(see': 3450, 'thesis': 3451, 'offensive': 3452, 'fascilitat': 3453, 'demeanor': 3454, 'environmentalist': 3455, 'consumer': 3456, 'impact': 3457, 'noticeable': 3458, 'nick': 3459, 'situation': 3460, 'chore': 3461, 'importantly': 3462, 'freedom': 3463, 'tingle': 3464, 'free': 3465, 'a+++': 3466, 'ucsb': 3467, 'informatve': 3468, '12': 3469, 'reader': 3470, 'penalize': 3471, '109': 3472, 'tv': 3473, 'oppose': 3474, 'viewpoint': 3475, 'hint': 3476, 'pluse': 3477, 'rajagopalan': 3478, 'unhelp': 3479, 'click': 3480, 'hottie': 3481, 'apsolutely': 3482, 'guy!!lecture': 3483, 'class&#63': 3484, 'a!!!': 3485, 'reac': 3486, 'smell': 3487, 'intend': 3488, 'es140': 3489, 'surely': 3490, 'hwk': 3491, 'typically': 3492, 'vanderbilt': 3493, 'defininely': 3494, 'ahlin': 3495, 'round': 3496, 'outcome': 3497, 'alter': 3498, 'ther': 3499, 'recommendation': 3500, 'attendance/': 3501, 'definitley': 3502, 'debate': 3503, 'position': 3504, 'spark': 3505, 'support': 3506, 'eventually': 3507, 'leo': 3508, 'disorganised': 3509, '482': 3510, 'warning': 3511, 'hernandez': 3512, 'distraction': 3513, 'juvenile': 3514, 'civilizations': 3515, 'latin': 3516, 'strait': 3517, 'onto': 3518, 'solely': 3519, 'gotton': 3520, 'assistance': 3521, '3.98': 3522, 'students': 3523, 'seldom': 3524, 'unusual': 3525, 'intake': 3526, 'spit': 3527, 'boot': 3528, 'incapable': 3529, 'obscene': 3530, 'community': 3531, '4pages': 3532, 'everynight': 3533, 'noncummulative': 3534, 'connection': 3535, 'encounter': 3536, 'pin': 3537, 'circle': 3538, 'productive': 3539, 'enhance': 3540, 'sadly': 3541, 'wrongly': 3542, 'incompetent': 3543, 'assignement': 3544, 'sorta': 3545, '@': 3546, 'air': 3547, 'superiority': 3548, 'flaw': 3549, 'risk': 3550, 'quot;leo&quot': 3551, 'excellence': 3552, 'intelligence': 3553, 'rounded': 3554, 'studying': 3555, 'tests-': 3556, 'devote': 3557, 'intellectual': 3558, 'notes(that': 3559, 'exception': 3560, 'papaer': 3561, '-i': 3562, 'americans': 3563, 'alittle': 3564, '......': 3565, '215': 3566, 'intest': 3567, 'embarress': 3568, 'barbara': 3569, 'bottom': 3570, 'ideology': 3571, 'apology': 3572, 'barb': 3573, 'ia': 3574, 'apparently': 3575, 'patronizing': 3576, 'kraszewski': 3577, 'tenure': 3578, 'bundle': 3579, 'male': 3580, 'white': 3581, 'unfortunate': 3582, 'events(you': 3583, 'amzing': 3584, 'cursing': 3585, 'excess': 3586, 'fixation': 3587, 'genitalia': 3588, 'barbera': 3589, 'insist': 3590, 'truely': 3591, 'prob': 3592, 'iup': 3593, 'ignore': 3594, 'praise': 3595, 'loud': 3596, 'uncomfy': 3597, 'curse': 3598, 'sailor&#63': 3599, 'proff': 3600, 'aof': 3601, 'gooo': 3602, 'k.': 3603, 'outspoken': 3604, 'barbra': 3605, 'interpretation': 3606, 'greatness': 3607, 'say&#63': 3608, 'lyric': 3609, 'song': 3610, 'qout': 3611, 'bush': 3612, 'originally': 3613, 'quot;homework&quot': 3614, 'accordingly': 3615, 'iup.she': 3616, 'lawyer': 3617, 'wanting': 3618, 'fool': 3619, 'forbid': 3620, 'heaven': 3621, 'conservative': 3622, 'offended': 3623, 'whack': 3624, 'analyze': 3625, 'censor': 3626, 'interesnting': 3627, 'inspiration': 3628, 'hall': 3629, 'hug': 3630, 'recite': 3631, 'creativity': 3632, 'enspire': 3633, 'stuff&#63': 3634, 'mean&#63': 3635, 'creative': 3636, 'eminem': 3637, 'nelly': 3638, 'tupac': 3639, 'k': 3640, 'spontaneous': 3641, 'lively': 3642, '1/2': 3643, 'sailor': 3644, 'swear': 3645, 'obsession': 3646, 'impart': 3647, 'nis': 3648, 'perpectif': 3649, 'strech': 3650, 'commercial': 3651, 'independent': 3652, 'tregenza': 3653, 'fest': 3654, 'snooze': 3655, 'hardcore': 3656, 'daws': 3657, 'daw': 3658, 'doggy': 3659, 'snoop': 3660, 'bluffton': 3661, 'scientist': 3662, 'assessment': 3663, 'blowoff': 3664, 'gaca': 3665, 'reiterate': 3666, 'aspect': 3667, 'unpleasant': 3668, 'inaccessible': 3669, 'uninterested': 3670, 'dark': 3671, 'booorrrrinnnggg': 3672, 'painfully': 3673, 'repetetive': 3674, 'socratic': 3675, 'toss': 3676, 'waa': 3677, 'classify': 3678, 'specify': 3679, 'unfar': 3680, 'insufficient': 3681, 'hill': 3682, 'quinn': 3683, 'vacation': 3684, 'satisfy': 3685, 'mathematical': 3686, 'meaning': 3687, 'physical': 3688, 'visualize': 3689, 'coursepack': 3690, 'assumption': 3691, 'industrial': 3692, 'practical': 3693, 'mathematic': 3694, 'fluid': 3695, 'tensor': 3696, 'reputation': 3697, 'technical': 3698, 'discouraged': 3699, 'cooper': 3700, 'undergraduate': 3701, 'complicated': 3702, 'cruelty': 3703, 'intolerable': 3704, 'nastiness': 3705, 'surreal': 3706, 'chopping': 3707, 'mcgill': 3708, 'purpose': 3709, \"can't\": 3710, 'cuz': 3711, 'address': 3712, 'boost': 3713, 'turner': 3714, 'attractive': 3715, 'awkwardly': 3716, 'fan': 3717, 'effectively': 3718, 'booster': 3719, 'flirt': 3720, 'upward': 3721, 'afterwards': 3722, 'design': 3723, 'iron': 3724, 'smash': 3725, 'waffle': 3726, 'hey': 3727, 'cop': 3728, 'shield': 3729, 'glare': 3730, 'clumsy': 3731, 'harris': 3732, 'crunching': 3733, 'mac': 3734, 'accessbility': 3735, 'approachability': 3736, 'strength': 3737, 'pleased': 3738, 'wake': 3739, 'development': 3740, 'phonetic': 3741, 'deff': 3742, 'robertson': 3743, 'propacket': 3744, 'mom': 3745, 'shari': 3746, 'tire': 3747, 'amaze': 3748, 'concise': 3749, 'portfolio': 3750, 'stein': 3751, 'favoritism': 3752, 'initially': 3753, 'worried': 3754, 'goofball': 3755, 'imperactive': 3756, \"teacher.doesn't\": 3757, 'time.he': 3758, 'unorganized.not': 3759, 'processor': 3760, 'thinker': 3761, 'dancing': 3762, 'distract': 3763, 'egotistical': 3764, 'murdock': 3765, 'fisher': 3766, 'exaggerate': 3767, 'average=50': 3768, 'cpa': 3769, '55': 3770, 'grade(exam': 3771, 'nerve': 3772, 'strike': 3773, 'publisher': 3774, 'doable': 3775, '523': 3776, 'marc': 3777, 'smith': 3778, 'acctant': 3779, 'graduation': 3780, '35y': 3781, 'virtually': 3782, 'accounting': 3783, 'expense': 3784, 'curver': 3785, 'extensive': 3786, 'fcob': 3787, '48': 3788, 'holy': 3789, 'disgrace': 3790, 'equiv': 3791, 'exam&#63;wat': 3792, 'prove&#63': 3793, 'remarkably': 3794, 'wat': 3795, 'beleive': 3796, 'puppet': 3797, 'account': 3798, 'intentionally': 3799, '53': 3800, 'integrate': 3801, '3hr': 3802, 'stdying': 3803, 'granddaughter': 3804, 'aim': 3805, 'hopw': 3806, 'pandiscio': 3807, 'awkward': 3808, 'formal': 3809, 'trait': 3810, 'undervalued': 3811, '321': 3812, '355': 3813, '368': 3814, 'ascough': 3815, 'rels': 3816, 'obtain': 3817, 'inspirational': 3818, 'queen': 3819, 'accommodating': 3820, 'costume': 3821, 'devil': 3822, 'halloween': 3823, 'testament': 3824, 'packed': 3825, 'biblical': 3826, 'briscoe': 3827, 'training': 3828, 'edsp477': 3829, 'a.m.': 3830, '2006': 3831, 'quot;excellent&quot': 3832, 'stamp': 3833, 'whacko': 3834, 'city': 3835, 'contiue': 3836, 'hypocritcal': 3837, 'inner': 3838, 'pressure': 3839, 'edsp': 3840, 'fo': 3841, '477': 3842, 'seroiusly': 3843, '4.5': 3844, 'stroke': 3845, 'measure': 3846, 'instill': 3847, 'brick': 3848, 'hesitate': 3849, 'improvement': 3850, 'fin': 3851, 'realistic': 3852, 'enthusiasum': 3853, 'intertaining': 3854, 'barker': 3855, 'standardized': 3856, 'sided': 3857, 'barry': 3858, 'matalow': 3859, 'villa': 3860, 'malin': 3861, '2000': 3862, 'uninspired': 3863, 'evident': 3864, 'german': 3865, 'herr': 3866, 'rotter': 3867, 'contradict': 3868, 'vocabulary': 3869, 'third': 3870, 'puff': 3871, 'lola': 3872, 'subtitle': 3873, 'spazzy': 3874, 'disjunctive': 3875, 'fragmented': 3876, 'incoherent': 3877, 'lit': 3878, 'niebuhr': 3879, 'frau': 3880, 'painless': 3881, 'juice': 3882, 'proficient': 3883, '3020': 3884, 'anth': 3885, 'remi': 3886, 'married': 3887, 'pathetic': 3888, 'chick': 3889, 'gibberish': 3890, 'jabbed': 3891, 'discourse': 3892, 'habbit': 3893, 'explaingin': 3894, 'quot;down&quot': 3895, 'taker': 3896, 'belve': 3897, 'hes': 3898, 'warren': 3899, 'evenly': 3900, 'matereal': 3901, 'att': 3902, 'am': 3903, 'gw': 3904, 'noth': 3905, 'buff': 3906, 'incompetence': 3907, 'cp': 3908, 'tranferr': 3909, 'wcu': 3910, 'quot;lone': 3911, 'student&quot': 3912, 'communicator': 3913, 'gifted': 3914, 'ancient': 3915, 'recommned': 3916, 'ann': 3917, 'bailie': 3918, 'seems': 3919, 'sister': 3920, 'helps': 3921, 'loop': 3922, 'responsible': 3923, 'smf': 3924, '5-': 3925, 'lots': 3926, 'subtle': 3927, 'production': 3928, 'sweeney': 3929, 'todd': 3930, 'voluntarily': 3931, 'borderline': 3932, 'disrespectful': 3933, 'employ': 3934, 'tuition': 3935, 'yoda': 3936, 'interactivity': 3937, 'fresh+soph': 3938, 'sport': 3939, 'dominican': 3940, '1x': 3941, 'sooooooooooooo': 3942, 'sneaker': 3943, 'cole': 3944, 'albertus': 3945, 'magnificent': 3946, 'shocking': 3947, 'peat': 3948, 'solve': 3949, 'hoping': 3950, 'im': 3951, 'marked': 3952, 'return': 3953, 'lazily': 3954, 'park': 3955, 'overcomplicate': 3956, 'naow': 3957, 'naown': 3958, 'unaown': 3959, 'beach': 3960, 'dearly': 3961, 'bowtie': 3962, 'notorious': 3963, 'arts': 3964, 'raaaa': 3965, 'forgetful': 3966, 'perfectly': 3967, 'potratz': 3968, 'piano': 3969, 'screen': 3970, 'talcott': 3971, 'erratic': 3972, 'anticipate': 3973, 'enrichment': 3974, 'tlcott': 3975, 'esp': 3976, 'opprotunitie': 3977, 'precise': 3978, 'reliever': 3979, 'tragically': 3980, 'pleasnt': 3981, 'clever': 3982, 'input': 3983, 'renker': 3984, 'unhappy': 3985, 'transform': 3986, 'course(s': 3987, 'prep': 3988, 'brutally': 3989, 'elizabeth': 3990, 'dive': 3991, 'famous': 3992, 'melville': 3993, 'moby': 3994, 'overwhelmed': 3995, 'immensely': 3996, 'crush': 3997, 'reduce': 3998, 'soul': 3999, 'condescendence': 4000, 'foot': 4001, 'significantly': 4002, \"your're\": 4003, 'comfort': 4004, 'quot;detectives&quot': 4005, 'zone': 4006, 'appt': 4007, '560': 4008, 'conference': 4009, 'singer': 4010, 'toward': 4011, 'lightly': 4012, 'award': 4013, 'distinguished': 4014, 'nominate': 4015, 'interesting-': 4016, 'setting': 4017, 'appreciation': 4018, 'daggone': 4019, 'proper': 4020, 'renk': 4021, 'defnitely': 4022, 'excitable': 4023, 'plane': 4024, 'stimulating': 4025, 'professor&#63': 4026, 'embrass': 4027, 'publically': 4028, 'jacci': 4029, 'whom': 4030, 'p.m.': 4031, 'luckily': 4032, 'excite': 4033, 'false': 4034, 'welling': 4035, 'yay': 4036, 'koshmider': 4037, 'malone': 4038, 'besically': 4039, 'psyc': 4040, 'chambers': 4041, 'ans': 4042, 'convinced': 4043, 'dream': 4044, 'questionable': 4045, 'exhaustive': 4046, 'accommodation': 4047, 'africa': 4048, 'botswana': 4049, 'legit': 4050, 'obsess': 4051, 'definate': 4052, 'out*.': 4053, 'emphasize': 4054, 'bostwana': 4055, 'persona': 4056, 'psci': 4057, 'carleton': 4058, 'ear': 4059, 'nevertheless': 4060, 'special': 4061, 'ruby': 4062, 'quot;mark': 4063, 'quotas&quot': 4064, 'plague': 4065, 'orangy': 4066, 'pink': 4067, 'tunnel': 4068, 'flat': 4069, 'calm': 4070, 'paranoid': 4071, 'tone': 4072, 'description': 4073, 'oddly': 4074, 'hunnewell': 4075, 'ea': 4076, 'money!the': 4077, 'rant': 4078, 'region': 4079, 'bright': 4080, '2001': 4081, '450': 4082, 'trade': 4083, 'dramatic': 4084, 'intense': 4085, 'remain': 4086, 'cat': 4087, 'crafts': 4088, 'romulan': 4089, 'properly': 4090, 'youreasily': 4091, 'alot.good': 4092, 'arm': 4093, 'fling': 4094, 'outbursts.take': 4095, 'randomness': 4096, 'stuff.he': 4097, 'sudden': 4098, 'vocal': 4099, 'forensic': 4100, 'corvette': 4101, '79.99': 4102, 'netork': 4103, 'pd': 4104, 'chevy': 4105, 'bus': 4106, 'laziest': 4107, 'pti': 4108, 'janitor': 4109, 'talks!!!!!about': 4110, 'whiner': 4111, 'drive': 4112, 'camaro': 4113, 'civic': 4114, 'honda': 4115, 'iroc': 4116, 'car': 4117, 'hide': 4118, 'spouse': 4119, 'serous': 4120, 'sju': 4121, 'wisely': 4122, 'terms/': 4123, 'bane': 4124, 'osbourne': 4125, 'ozzy': 4126, 'ally': 4127, 'conclude': 4128, 'marketing': 4129, 'weir': 4130, 'riveting': 4131, 'broad': 4132, 'waddell': 4133, 'st': 4134, 'lienent': 4135, 'disregard': 4136, 'vague': 4137, '3317-international': 4138, 'mkt': 4139, 'a.licari': 4140, 'stink': 4141, 'goody': 4142, 'kay': 4143, 'excruciating': 4144, 'listening': 4145, 'perfectness': 4146, 'bairly': 4147, 'logs': 4148, 'environment': 4149, 'phrase': 4150, 'ppoint': 4151, 'leibo': 4152, 'consciousness': 4153, 'stream': 4154, 'accompany': 4155, 'consistent': 4156, 'asia': 4157, 'cultures': 4158, 'societies': 4159, 'sarah': 4160, '8:45am': 4161, 'global': 4162, 'req': 4163, 'u.': 4164, 'unskilled': 4165, 'partidular': 4166, '95': 4167, 'israel': 4168, 'judaism': 4169, 'versed': 4170, 'boring!however': 4171, 'formost': 4172, 'eds': 4173, 'faster': 4174, 'gonzale': 4175, 'speedy': 4176, 'antecdote': 4177, 'contemporary': 4178, 'dedicated': 4179, 'modern': 4180, 'evening': 4181, '115': 4182, 'experiment': 4183, 'bumbling': 4184, 'gruff': 4185, 'coal': 4186, 'miner': 4187, 'laser': 4188, 'pointer': 4189, 'wave': 4190, 'godsend': 4191, 'procrastinate': 4192, 'bag': 4193, 'vawter': 4194, 'homework+practice': 4195, 'bed': 4196, 'attact': 4197, 'bravely': 4198, 'tact': 4199, 'embarrass': 4200, 'e.c.': 4201, 'theoreticallly': 4202, 'relay': 4203, 'dosent': 4204, 'stubborn': 4205, \"could'nt\": 4206, 'gripe': 4207, '123': 4208, 'coincide': 4209, 'quizzes/': 4210, 'windsor': 4211, 'dorki': 4212, 'fedora': 4213, 'indie': 4214, 'leather': 4215, 'pointlessly': 4216, 'x': 4217, 'stressful': 4218, 'align': 4219, '-never': 4220, 'lower-': 4221, 'audit': 4222, '3rd': 4223, 'weirs': 4224, 'stare': 4225, '35-year': 4226, 'boring.he': 4227, 'sabotage': 4228, 'spot': 4229, 'antic': 4230, 'classic': 4231, 'ood': 4232, 'veyr': 4233, 'marking': 4234, 'consume': 4235, 'strip': 4236, 'translation': 4237, 'glossed&#63': 4238, 'unsupportive': 4239, 'matching': 4240, 'quirky': 4241, 'fluent': 4242, 'linguistic': 4243, 'dialectology': 4244, 'explore': 4245, 'flexibility': 4246, 'peninsular': 4247, 'spin': 4248, 'ua': 4249, 'animated': 4250, 'historical': 4251, '20th': 4252, 'hollocaust': 4253, 'erudite': 4254, 'original': 4255, 'kneejerk': 4256, 'leftie': 4257, 'uyniversity': 4258, 'travel': 4259, 'birn': 4260, 'expierence': 4261, 'fantasize': 4262, '60pt': 4263, 'identification': 4264, 'sane': 4265, 'fave': 4266, 'adn': 4267, 'knack': 4268, 'albany': 4269, '800': 4270, 'smokin': 4271, 'link': 4272, 'kristen': 4273, 'cognitive': 4274, 'network': 4275, 'neural': 4276, 'prolog': 4277, 'recall': 4278, 'simplistic': 4279, 'harshly': 4280, 'games!she': 4281, 'han': 4282, 'terrible)dr': 4283, 'cumm': 4284, 'ty': 4285, 'excelent': 4286, 'silent': 4287, 'cinema': 4288, 'sleepy': 4289, 'kupferberg': 4290, 'glaze': 4291, 'hitchcock': 4292, 'eggshell': 4293, 'humorless': 4294, 'stern': 4295, 'wide': 4296, 'grate': 4297, \"wasn't\": 4298, 'rethink': 4299, 'color': 4300, 'class&week': 4301, 'medium': 4302, 'lace': 4303, '33': 4304, 'mainstream': 4305, 'lvl': 4306, 'quot;easy&quot': 4307, 'dictator': 4308, 'mussolini': 4309, 'right&#63': 4310, 'wwii': 4311, 'audrey': 4312, 'smack': 4313, 'get&#63': 4314, 'lc': 4315, 'hippie': 4316, 'days&#63': 4317, 'filler': 4318, 'insufficent': 4319, 'lennig': 4320, 'assertive': 4321, 'basketball': 4322, 'bouncy': 4323, 'street': 4324, 'insipid': 4325, 'trivial': 4326, 'eon': 4327, 'fiddle': 4328, 'dollar': 4329, 'irrelevent': 4330, 'crawl': 4331, 'constellation': 4332, 'sue': 4333, 'vaguely': 4334, 'boudreau': 4335, 'unsympathetic': 4336, 'stuttering': 4337, 'encouraged': 4338, 'studder': 4339, 'stutter': 4340, 'strictly': 4341, 'mercyhurst': 4342, 'mesmerize': 4343, 'andrea': 4344, 'component': 4345, 'enthused': 4346, 'bucket': 4347, 'drink': 4348, 'talker': 4349, 'federation': 4350, 'overview': 4351, 'reform': 4352, 'russian': 4353, 'appropriate': 4354, 'potential': 4355, 'russia': 4356, 'specialize': 4357, '1-on-1': 4358, 'ake': 4359, 'cure': 4360, 'insomnia': 4361, 'sore': 4362, 'webct': 4363, 'analytical': 4364, 'tense': 4365, 'mystery': 4366, 'columbia&#63;&#63': 4367, 'columbia': 4368, 'yea': 4369, 'predict': 4370, 'chicken': 4371, 'scratch': 4372, '2-part': 4373, '100/100': 4374, 'app': 4375, 'notification': 4376, 'avarage': 4377, 'specified': 4378, 'oregan': 4379, 'ucla': 4380, 'british': 4381, 'incomplete': 4382, 'unforgiving': 4383, 'recieve': 4384, \"o'regan\": 4385, 'gotcha': 4386, 'substantive': 4387, 'extremley': 4388, 'lock': 4389, 'rhetorical': 4390, 'cellphone': 4391, 'mentally': 4392, 'hard-30': 4393, '1250': 4394, 'donot': 4395, 'wr': 4396, 'sitting': 4397, 'tests(3': 4398, 'twisted': 4399, 'opnion': 4400, 'entitle': 4401, 'vital': 4402, 'aware': 4403, 'purchase': 4404, 'polysci': 4405, 'characteristic': 4406, 'demonstrate': 4407, 'eloquence': 4408, 'wipeout': 4409, 'lavc': 4410, 'uncomfortable': 4411, 'submission': 4412, 'tolerance': 4413, 'polis': 4414, 'professor!definitely': 4415, 'right?)he': 4416, 'uc': 4417, 'clock': 4418, 'quizzes-15': 4419, '4-yr': 4420, 'ec': 4421, 'master': 4422, 'doze': 4423, 'astounding': 4424, 'dedication': 4425, 'interrupt': 4426, 'inorder': 4427, 'possibility': 4428, 'survive': 4429, 'away!&quot': 4430, 'reviewer': 4431, 'slackers': 4432, 'stated,&quot': 4433, 'adult': 4434, 'engrossed': 4435, 'adequately': 4436, 'quot;lectures&quot': 4437, 'level,&quot': 4438, 'quot;uc': 4439, 'adjustable': 4440, 'irrelevancy': 4441, 'veer': 4442, 'tardiness': 4443, '4/5': 4444, 'gasp': 4445, 'means': 4446, 'aforementioned': 4447, 'price': 4448, 'devirginized': 4449, 'empower': 4450, 'float': 4451, 'intellectually': 4452, 'journey': 4453, 'sensation': 4454, 'dosage': 4455, 'quetion': 4456, 'joice': 4457, 'caliber': 4458, 'uc(i': 4459, 'enroll': 4460, 'robot': 4461, 'ruiner': 4462, 'teahcer': 4463, 'gad': 4464, \"dind't\": 4465, 'dose': 4466, 'flash': 4467, 'soley': 4468, 'extremeley': 4469, 'resemble': 4470, 'blue': 4471, 'hard,': 4472, 'combo': 4473, 'mult': 4474, 'acquire': 4475, 'fidget': 4476, 'terminology': 4477, 'clip': 4478, 'morrissey': 4479, 'quot;why': 4480, 'yourself&quot': 4481, 'edge': 4482, 'polisci': 4483, 'blind': 4484, 'talent': 4485, 'himself': 4486, 'leftist': 4487, 'rhetoric': 4488, 'spew': 4489, 'elitist': 4490, 'finals': 4491, 'midterms': 4492, 'ds': 4493, 'tim': 4494, 'build': 4495, 'reserve': 4496, 'country': 4497, 'fabulously': 4498, 'fascination': 4499, 'founding': 4500, 'inter': 4501, 'working': 4502, 'hip': 4503, 'punk': 4504, 'bullpoop': 4505, 'professior': 4506, 'insensetive': 4507, 'knoweledgable': 4508, 'hands': 4509, 'soccer': 4510, 'frkn': 4511, 'dumbass': 4512, 'e.': 4513, 'illiterate': 4514, 'tolerate': 4515, 'audience': 4516, 'deomstrate': 4517, 'republicans': 4518, 'jello': 4519, 'revue': 4520, 'wankiness': 4521, 'briliant': 4522, 'european': 4523, 'uncensored': 4524, 'inteligence': 4525, 'nine': 4526, 'times&quot;.': 4527, 'surprised': 4528, 'a&quot;.': 4529, 'pushover': 4530, 'quot;easy': 4531, 'supplemantal': 4532, 'rig': 4533, 'tought': 4534, 'dissapointed': 4535, 'o’regan': 4536, 'authoritative': 4537, 'display': 4538, 'regimen': 4539, 'scare': 4540, 'tin': 4541, 'anwser': 4542, 'dish': 4543, 'nudge': 4544, 'wink': 4545, 'unbeatable': 4546, 'lecture-': 4547, '-he': 4548, '06': 4549, 'choice(me': 4550, 'essay+practice': 4551, 'possibilities)spring': 4552, 'swearantee': 4553, 'pat': 4554, 'scottish': 4555, 'dat': 4556, 'fergasine': 4557, 'huh&#63': 4558, 'scott': 4559, 'bank': 4560, 'koo': 4561, 'safe': 4562, 'rediculously': 4563, 'balanced': 4564, 'politically': 4565, 'amongst': 4566, '2be': 4567, 'ge': 4568, 'whew': 4569, 'arrogance': 4570, 'pessimistic': 4571, 'bougouis': 4572, 'wana': 4573, 'ps2': 4574, 'ride': 4575, 'comparative': 4576, 'ir': 4577, 'teaches(u.s': 4578, 'sucks': 4579, 'histarical': 4580, 'winter': 4581, 'essays': 4582, 'objectively': 4583, 'anyways': 4584, 'roberts': 4585, 'neurosis': 4586, 'dutkiewicz': 4587, 'objective': 4588, 'unfamiliar': 4589, 'thread': 4590, 'rare': 4591, 'specifically': 4592, 'correctness': 4593, 'consulting': 4594, 'piotr': 4595, 'gaurranteed': 4596, 'stude': 4597, 'oblivious': 4598, 'cdn': 4599, 'director': 4600, 'former': 4601, 'soviet': 4602, 'union': 4603, 'drawing': 4604, 'supposedly': 4605, 'goldfarb': 4606, 'scientific': 4607, 'summarized': 4608, 'regrade': 4609, 'intertwine': 4610, 'principle': 4611, 'apt': 4612, '2016': 4613, 'afford': 4614, 'burton': 4615, 'michael': 4616, 'ou': 4617, 'senior': 4618, 'mike': 4619, 'oral': 4620, 'smug': 4621, 'a.who': 4622, 'b.who': 4623, 'sum': 4624, 'dates).one': 4625, 'students-': 4626, 'time-': 4627, 'gov.': 4628, 'descriptive': 4629, 'badly': 4630, 'aloud': 4631, 'supris': 4632, 'cocky--': 4633, '10-person': 4634, 'opp': 4635, 'opprotunity': 4636, 'philosopher': 4637, 'fit': 4638, 'notes': 4639, 'scheduele': 4640, 'gore': 4641, 'resume': 4642, 'badass': 4643, 'secon': 4644, 'connected': 4645, 'advocate': 4646, 'washington': 4647, 'dc': 4648, 'handsom': 4649, 'character': 4650, 'waddel': 4651, 'consideration': 4652, 'wu': 4653, 'hochenauer': 4654, 'fashion': 4655, '1800': 4656, 'crucial': 4657, 'dalloway': 4658, 'expectations': 4659, 'frankenstein': 4660, 'opening': 4661, 'attain': 4662, 'rejoice': 4663, 'ahd': 4664, '8week': 4665, 'defend': 4666, 'juggle': 4667, 'rebel': 4668, 'virtual': 4669, 'ahve': 4670, 'week-': 4671, 'him!took': 4672, 'appears!wonderful': 4673, 'wise': 4674, 'bloody': 4675, 'gate': 4676, 'quot;sometimes': 4677, 'savior': 4678, 'sideways': 4679, 'hoch': 4680, 'disscussion': 4681, 'osburn': 4682, 'birthday': 4683, 'queens': 4684, 'cranky': 4685, 'elderly': 4686, 'trash': 4687, 'its': 4688, 'kangaro': 4689, 'trail': 4690, 'youlll': 4691, 'sage': 4692, 'feverishly': 4693, 'guilty': 4694, 'entertainingly': 4695, 'anglophile': 4696, 'margin': 4697, 'gentleman': 4698, 'jorisch': 4699, 'throne': 4700, 'package.e': 4701, 'lamed': 4702, 'nistarim': 4703, 'tzaddikim': 4704, 'vav': 4705, 'straighforward': 4706, 'equivalent': 4707, 'paint': 4708, 'dot': 4709, '3000': 4710, 'ourpla': 4711, 'immunobiology': 4712, 'reasonably': 4713, 'comb': 4714, 'tooth': 4715, 'deem': 4716, 'ralph': 4717, 'sorensen': 4718, 'accurately': 4719, 'stoner': 4720, 'geezer': 4721, 'sorenson': 4722, 'discouraging': 4723, 'perform': 4724, '60&#63': 4725, \"o'clock\": 4726, 'suited': 4727, 'eb': 4728, 'teamwork': 4729, 'beautifully': 4730, 'faith': 4731, 'brazillian': 4732, 'comm': 4733, 'yak': 4734, 'brazil': 4735, 'it&#63;&quot;.': 4736, 'quot;is': 4737, 'misunderstanding': 4738, 'brazilian': 4739, 'deffinetly': 4740, 'illustrator': 4741, 'concernc': 4742, 'handedly': 4743, 'illustration': 4744, 'animation': 4745, 'heath': 4746, 'forgave': 4747, 'bigfoot': 4748, 'tentacle': 4749, 'snap': 4750, 'communist': 4751, 'thwart': 4752, 'uprising': 4753, 'duuuuudddeeeeeee': 4754, 'jeapordy': 4755, 'jepardy': 4756, 'eight': 4757, 'piss': 4758, 'homie': 4759, 'devise': 4760, 'suicide': 4761, 'sweetly': 4762, 'begginer': 4763, 'extreamly': 4764, 'treed': 4765, 'envy': 4766, 'schoolish': 4767, 'wich': 4768, 'majorly': 4769, 'savola': 4770, 'r.i.p': 4771, 'aloof': 4772, 'obnoxous': 4773, 'mit': 4774, 'umass': 4775, 'funtion': 4776, 'offender': 4777, 'intern': 4778, 'closely': 4779, 'knock': 4780, 'everyday&offer': 4781, 'continually': 4782, 'grain': 4783, 'blonde': 4784, 'heit': 4785, 'lite': 4786, 'fyi': 4787, 'assistant': 4788, 'fresh': 4789, 'instituional': 4790, \"doesn't\": 4791, \"wouldn't\": 4792, \"u'll\": 4793, 'way&#63': 4794, 'automatic': 4795, 'crude': 4796, 'jabber': 4797, 'jibber': 4798, 'europe': 4799, 'military': 4800, 'religious': 4801, 'slur': 4802, 'repulsive': 4803, 'anoying': 4804, 'colonel': 4805, 'cultured': 4806, 'dada': 4807, 'ziggy&#63': 4808, 'uco': 4809, 'mccully!(take': 4810, 'preachy': 4811, 'takin': 4812, 'armed': 4813, 'iraq': 4814, 'war': 4815, 'poland': 4816, 'promote': 4817, 'tick': 4818, 'z.': 4819, 'ford': 4820, 'citation': 4821, 'rarity': 4822, 'contain': 4823, 'miller': 4824, 'stratification': 4825, 'kinloch': 4826, 'bantering': 4827, 'monstrous': 4828, 'death&quot': 4829, 'incorrect': 4830, 'unlikable': 4831, 'handwritten': 4832, 'nickname': 4833, 'quot;dr': 4834, 'quot;a.&quot': 4835, 'ohhhh': 4836, 'chinese': 4837, 'ghost': 4838, 'wayne': 4839, '4000': 4840, 'fu': 4841, 'kung': 4842, 'cup': 4843, 'typing': 4844, 'playing': 4845, 'rpg': 4846, 'guest': 4847, 'judging': 4848, 'calc.1': 4849, '90s': 4850, 'franchise': 4851, 'rice': 4852, 'wholeheartedly': 4853, 'bluebook': 4854, 'exist': 4855, 'chaucer': 4856, 'passing': 4857, 'climb': 4858, 'shakespeare': 4859, 'comedy': 4860, 'adore': 4861, 'greatly': 4862, 'arguable': 4863, 'consult': 4864, 'genius': 4865, 'leaner': 4866, 'gift': 4867, 'guidance': 4868, 'intimidating': 4869, 'television': 4870, 'ar': 4871, 'hil': 4872, 'ious': 4873, 'revolutionize': 4874, 'sucessfully': 4875, 'trite': 4876, 'severe': 4877, 'lehman': 4878, 'sooner': 4879, 'buddies[which': 4880, 'confess': 4881, 'dork': 4882, 'dragons': 4883, 'dungeons': 4884, 'lord': 4885, 'rings': 4886, 'boom': 4887, 'obsessive': 4888, 'overal': 4889, 'six': 4890, 'managable': 4891, '  ': 4892, 'inconvenient': 4893, 'pander': 4894, 'slowest': 4895, 'yet-': 4896, 'bedinelli': 4897, 'extemely': 4898, 'umassd': 4899, 'grreat': 4900, 'myslef': 4901, 'stcc': 4902, 'bubbly': 4903, 'encouragement': 4904, 'rumor': 4905, 'angela': 4906, 'interp': 4907, 'convincingly': 4908, '5-page': 4909, 'streich': 4910, 'contagious': 4911, 'rove': 4912, 'central': 4913, 'missouri': 4914, 'basd': 4915, 'governement': 4916, 'alecture': 4917, 'cycle': 4918, 'election': 4919, 'quot;right&quot': 4920, 'entertained': 4921, 'wa': 4922, 'casper': 4923, 'cmsu': 4924, 'a+++++++': 4925, 'vote': 4926, 'l0ve': 4927, 'channel': 4928, 'haddad': 4929, 'baseball': 4930, 'season': 4931, 'java': 4932, 'sole': 4933, 'efficiently': 4934, 'study!hard': 4935, 'college&quot': 4936, 'quot;other': 4937, 'quot;the': 4938, 'school&quot': 4939, 'pertain': 4940, 'reasonibly': 4941, 'digital': 4942, 'frontpage': 4943, 'coder': 4944, 'guru': 4945, 'silvestri': 4946, 'belt': 4947, 'webassist': 4948, 'csci': 4949, 'hadadd': 4950, 'cod': 4951, '3day': 4952, 'wk': 4953, 'tony': 4954, 'dean': 4955, '2.hate': 4956, 'algb': 4957, 'cause': 4958, 'havoc': 4959, 'sinister': 4960, 'wrote': 4961, ':-(': 4962, 'unavoidable': 4963, 'schnur': 4964, 'nyc': 4965, 'opt': 4966, 'grader-': 4967, 'vrey': 4968, 'succede': 4969, 'financial': 4970, 'planning': 4971, 'vithelic': 4972, 'prof!i': 4973, 'giant': 4974, 'aquinas': 4975, 'catholic': 4976, 'doctrine': 4977, 'koritansky': 4978, 'moral': 4979, 'thomas': 4980, 'thomistic': 4981, 'tradition': 4982, 'enrich': 4983, 'unsure': 4984, 'plato': 4985, 'st.': 4986, 'existence': 4987, 'mott': 4988, \"i'm\": 4989, 'boringggg': 4990, 'follower': 4991, 'promise': 4992, 'golden': 4993, 'j.steffey': 4994, 'recommand': 4995, 'ratid': 4996, 'ilike': 4997, 'kindergarten': 4998, 'steffey': 4999, '1.5': 5000, 'caution': 5001, 'apparent': 5002, 'befor': 5003, 'agian': 5004, 'quot;hard&quot': 5005, 'that.she': 5006, 'entrys.over': 5007, 'ad': 5008, 'speacil': 5009, 'plagiarism': 5010, 'critial': 5011, 'presintation': 5012, 'goofiness': 5013, 'silly&#63': 5014, 'giggler&quot': 5015, 'laughter': 5016, 'clinic': 5017, 'convulsion': 5018, 'escort': 5019, 'crime': 5020, 'hah': 5021, '13': 5022, 'kindergarden': 5023, 'simples;laugh': 5024, 'dull;giggles': 5025, 'hipster': 5026, 'rocker': 5027, 'secretly': 5028, 'tooo': 5029, 'brag': 5030, 'sensitivity': 5031, 'drag': 5032, 'goza': 5033, 'facade': 5034, 'scotty': 5035, 'haven': 5036, 'convoluted': 5037, 'thoughtless': 5038, 'chalk': 5039, 'hormone': 5040, 'bacg': 5041, 'marks': 5042, 'wtf': 5043, 'hitron': 5044, 'petty': 5045, 'narcisist': 5046, 'excentric': 5047, 'electives': 5048, 'phys': 5049, 'mcc': 5050, 'protest': 5051, 'wicked': 5052, 'unbelievable': 5053, 'professors': 5054, '50s/60s': 5055, 'admire': 5056, 'admission': 5057, 'animate': 5058, 'dressed': 5059, 'terrile': 5060, 'turbo': 5061, 'photographic': 5062, 'unreasonable': 5063, 'davis': 5064, 'fi': 5065, 'tv&comedy': 5066, 'enormous': 5067, 'condescening': 5068, 'despise': 5069, 'discribe': 5070, 'depressing': 5071, 'slight': 5072, 'minority': 5073, 'tiny': 5074, 'garber': 5075, '10-page': 5076, 'studnent': 5077, 'likes': 5078, 'them': 5079, 'epic': 5080, 'reliable': 5081, 'germany': 5082, 'comprehensive': 5083, 'ignoramus': 5084, 'label': 5085, 'uneducated': 5086, 'penty': 5087, 'bombastic': 5088, 'porfessor': 5089, 'osborne': 5090, 'unnesseary': 5091, 'animal': 5092, 'breathe': 5093, 'eat': 5094, 'professer': 5095, 'hazel': 5096, 'l0l.': 5097, 'd0es': 5098, 'h.s.': 5099, 'y0u': 5100, 'mo0dy': 5101, 'rand0mly': 5102, 'b0ring': 5103, 'trance': 5104, 'moody': 5105, 'boisterous': 5106, 'unruly': 5107, 'boringgggggggg': 5108, 'angled': 5109, 'confusin': 5110, 'sence': 5111, 'gleason': 5112, 'guzman': 5113, 'paez': 5114, 'senora': 5115, 'elem': 5116, 'taught': 5117, 'goodluck': 5118, 'enc': 5119, 'bird': 5120, '-you': 5121, 'profesora': 5122, 'verbs': 5123, 'congagate': 5124, 'studier': 5125, 'bogg': 5126, 'señora': 5127, 'sub': 5128, 'consensus': 5129, 'zero': 5130, 'nicholas': 5131, 'randolph': 5132, 'chalkboard': 5133, 'tearfully': 5134, ':o)': 5135, 'mhm': 5136, 'enable': 5137, 'nikki': 5138, 'effect': 5139, 'eg': 5140, 'favorites.she': 5141, 'girls.dont': 5142, 'emeritus': 5143, 'fordham': 5144, 'ph.d.': 5145, 'doesnot': 5146, 'boreing': 5147, 'brainer': 5148, 'examination': 5149, '1010': 5150, 'procastinate': 5151, 'achieve': 5152, 'clown': 5153, 'geo': 5154, 'latt': 5155, 'trig': 5156, 'involvement': 5157, 'exude': 5158, 'quantity': 5159, 'great!!!!just': 5160, \"teraoka'a\": 5161, '0nline': 5162, 'oppurtunite': 5163, 'tereoka': 5164, '1985': 5165, 'hcc': 5166, 'teraoka': 5167, 'wes': 5168, 'privileged': 5169, 'pen': 5170, 'quizzes': 5171, 'intrest': 5172, 'indepth': 5173, 'edu': 5174, 'cis': 5175, 'committed': 5176, 'green': 5177, 'prof(\"close': 5178, 'void': 5179, 'daunting': 5180, 'whine': 5181, 'hated': 5182, 'rights': 5183, 'ligas': 5184, 'mathlab': 5185, 'everuday': 5186, '(:': 5187, 'johnson': 5188, 'wale': 5189, 'sweden': 5190, ':d': 5191, 'abroad': 5192, 'jwu': 5193, 'oppurtunitie': 5194, 'understad': 5195, 'prefessor': 5196, 's*&^': 5197, 'blunt': 5198, 'makes': 5199, 'outdat': 5200, 'sight': 5201, 'amazaz': 5202, 'researching': 5203, 'logically': 5204, 'regurgitate': 5205, 'thousand': 5206, 'uninform': 5207, 'calabrese': 5208, 'quot;top': 5209, 'teacher&quot': 5210, 'hammer': 5211, 'immportant': 5212, 'tidbit': 5213, 'datum': 5214, 'convenient': 5215, 'diabete': 5216, 'dlc': 5217, 'machelle': 5218, 'platteville': 5219, 'uw': 5220, 'goddess': 5221, 'management': 5222, 'pair': 5223, 'shoe': 5224, 'orgainz': 5225, 'likable': 5226, 'enemy': 5227, 'shortcoming': 5228, 'professionally': 5229, 'zeakes': 5230, 'somebody': 5231, 'plate': 5232, 'reprimand': 5233, 'anatomy': 5234, 'radford': 5235, 'beer': 5236, '3.75': 5237, 'onlyprof': 5238, 'dr.z': 5239, 'strangely': 5240, 'r.u.': 5241, 'authority': 5242, 'registrar': 5243, 'anatomy-': 5244, 'dr.zeake': 5245, 'performance': 5246, 'actor': 5247, 'theatre': 5248, 'rewarding': 5249, 'immeasureable': 5250, 'influence-': 5251, 'belief': 5252, 'theater': 5253, 'wesley': 5254, 'teller': 5255, 'flowery': 5256, ';-)': 5257, 'childhood': 5258, 'parrot': 5259, 'anyth': 5260, \"didn't&quot\": 5261, 'quot;oh': 5262, 'monkey': 5263, 'abortion': 5264, 'kinetic': 5265, 'corky': 5266, 'oncology': 5267, '47': 5268, '97': 5269, \"d'emello\": 5270, 'belief&thought': 5271, 'crispin': 5272, 'anti': 5273, 'don': 5274, 'hispanic': 5275, 'quixote': 5276, 'frank': 5277, 'intellegent': 5278, 'facilitate': 5279, 'usp': 5280, 'threaten': 5281, 'refer': 5282, 'schooler': 5283, 'restate': 5284, 'quasi': 5285, 'somewha': 5286, 'poo': 5287, 'squirrel': 5288, 'twenty': 5289, 'whish': 5290, 'totaly': 5291, 'kooky': 5292, 'uscience': 5293, 'pcp': 5294, 'harvison': 5295, 'hm': 5296, 'morel': 5297, 'preclass': 5298, 'tune': 5299, 'griffith': 5300, 'uppity': 5301, 'gupta': 5302, 'halpern': 5303, 'suchhh': 5304, 'unintelligent': 5305, 'soft': 5306, 'spoken': 5307, 'ih': 5308, 'colloquim': 5309, 'geeezzzzzz': 5310, 'distrated': 5311, 'prelab': 5312, 'hws': 5313, 'noteasy': 5314, 'kerric': 5315, 'kerrick': 5316, 'smoking': 5317, 'leibowitz': 5318, 'relational': 5319, 'presence': 5320, 'effortless': 5321, 'epect': 5322, \"he'z\": 5323, 'dictionary': 5324, 'merriam': 5325, 'webster': 5326, 'nite': 5327, 'wednesday': 5328, 'partical': 5329, 'exeption': 5330, 'ambien': 5331, 'lunesta': 5332, ';)': 5333, 'labcoat': 5334, 'tube': 5335, 'scienist': 5336, 'epitome': 5337, 'distilled': 5338, 'tap': 5339, 'acid': 5340, 'sink': 5341, 'sulfuic': 5342, 'ether': 5343, 'raisin': 5344, 'tchao': 5345, 'trickery': 5346, 'extent': 5347, '59': 5348, 'cv': 5349, 'physio': 5350, \"tchao'\": 5351, 'wasmore': 5352, 'tommorrow': 5353, 'bloclk': 5354, 'tuff': 5355, 'material-': 5356, '^%$^%$': 5357, 'hardest': 5358, 'lifetime': 5359, 'hello': 5360, 'questionn': 5361, 'qstns': 5362, 'land': 5363, 'do--': 5364, 'teacher(very': 5365, 'diff': 5366, 'happier': 5367, 'volunteer': 5368, '.......': 5369, 'belive': 5370, 'jefferson': 5371, 'p2': 5372, 'pharm': 5373, 'pharmacy': 5374, 'carefully': 5375, 'geez': 5376, 'recorder': 5377, 'tape': 5378, 'blanket': 5379, 'surpass': 5380, 'allowd': 5381, 'tree': 5382, 'mucchhhhhh': 5383, 'toooooo': 5384, 'wayyyyyyyyy': 5385, 'mutter': 5386, 'plumber': 5387, 'swaheli': 5388, 'altzheimers&#63;&#63': 5389, 'unfocused': 5390, 'drift': 5391, 'bold': 5392, 'faced': 5393, 'wigent': 5394, 'zink': 5395, 'bible': 5396, 'rehearse': 5397, 'capture': 5398, 'speed': 5399, 'immunology': 5400, 'inappropriate': 5401, 'keeper': 5402, 'gz': 5403, 'impersonal': 5404, '2007': 5405, 'commonly': 5406, 'equate': 5407, 'quot;chore&quot;.': 5408, 'quot;school&quot': 5409, 'quot;work&quot': 5410, 'september': 5411, 'perseverence': 5412, 'pursuit': 5413, 'immuno': 5414, '“': 5415, 'aerial': 5416, 'gilbert': 5417, 'everday': 5418, 'captivating': 5419, 'preacher': 5420, 'zinc': 5421, 'seriously****you': 5422, 'exactally': 5423, 'neat!&quot': 5424, 'quot;now': 5425, '59.999': 5426, 'a$': 5427, 'anat': 5428, 'ouch': 5429, 'p&t': 5430, 'yur': 5431, 'wolbach': 5432, '30,000': 5433, 'greade': 5434, 'much-': 5435, 'quot;amazing!&quot': 5436, 'professionals!!study': 5437, 'programs&quot;.': 5438, 'purposely': 5439, 'quot;hard': 5440, 'squirm': 5441, 'about&#63': 5442, 'yes!!people': 5443, 'from&#63;&#63': 5444, 'be-': 5445, 'physian': 5446, 'announce': 5447, '6-credit': 5448, 'a&p': 5449, 'classed': 5450, 'clemente': 5451, '.5': 5452, '3.the': 5453, 'tests!i': 5454, 'fluster': 5455, 'independence': 5456, 'help)you': 5457, 'undoubtably': 5458, 'ahhhhhhhhhhhhhhhhhhhhhhhhhhhhh': 5459, 'ahhhhhhhhhhhhhhhhhhhhhhhhhhhhhhhhhhhhhhhhhhhh': 5460, 'examples(w': 5461, 'broerman': 5462, 'massasoit': 5463, 'rise': 5464, 'criminology': 5465, 'feed': 5466, 'coole': 5467, 'justice': 5468, 'relatable': 5469, 'fare': 5470, 'gitt': 5471, 'sernau': 5472, 'classes~': 5473, 'style!lov': 5474, 'mold': 5475, 'provoking': 5476, 'robinson': 5477, 'centennial': 5478, 'hence': 5479, 'maturity': 5480, 'cluelss': 5481, 'swing': 5482, 'swim': 5483, 'decently': 5484, 'incessant': 5485, 'bryant': 5486, 'om': 5487, 'wwork': 5488, 'her****.': 5489, 'backtrack': 5490, 'sista': 5491, '2.too': 5492, '4.ignor': 5493, 'm.c.': 5494, 'maby': 5495, 'thursday': 5496, 'centre': 5497, 'emotive': 5498, 'hardmarker': 5499, 'visa': 5500, 'wanderful': 5501, 'seneca': 5502, 'mifsud': 5503, 'sentence': 5504, 'convince': 5505, 'rhcs': 5506, 'primary': 5507, 'conservatism': 5508, 'sharpen': 5509, 'heartless': 5510, 'passoniate': 5511, 'biggie': 5512, 'demanding': 5513, 'backdoor': 5514, 'explaination': 5515, 'quot;passionate&quot': 5516, 'twice&#63': 5517, 'pack': 5518, 'boo': 5519, 'hobgood': 5520, 'heartwarming': 5521, 'consultant': 5522, 'deter': 5523, 'judiciously': 5524, 'easyfair': 5525, 'excruciatingly': 5526, 'challeging': 5527}\n"
     ]
    }
   ],
   "source": [
    "print(dictionary.token2id)"
   ]
  },
  {
   "cell_type": "markdown",
   "metadata": {
    "collapsed": true
   },
   "source": [
    "## Phrase Modeling"
   ]
  },
  {
   "cell_type": "markdown",
   "metadata": {},
   "source": [
    "#### Testing "
   ]
  },
  {
   "cell_type": "code",
   "execution_count": 41,
   "metadata": {
    "collapsed": true
   },
   "outputs": [],
   "source": [
    "from gensim.models.phrases import Phrases, Phraser"
   ]
  },
  {
   "cell_type": "code",
   "execution_count": 42,
   "metadata": {
    "collapsed": true
   },
   "outputs": [],
   "source": [
    "test = [['my', 'name', 'is', 'zafrin'], \n",
    "       ['my', 'name', 'is', 'jasmin'],\n",
    "       ['my', 'name', 'is', 'sophia'],\n",
    "       ['her', 'name', 'is', 'jassica'],\n",
    "       ['this', 'is', 'my', 'house']]"
   ]
  },
  {
   "cell_type": "code",
   "execution_count": 43,
   "metadata": {
    "collapsed": true
   },
   "outputs": [],
   "source": [
    "phrases = Phrases(test, min_count=1, threshold=1)"
   ]
  },
  {
   "cell_type": "code",
   "execution_count": 44,
   "metadata": {
    "scrolled": true
   },
   "outputs": [
    {
     "name": "stdout",
     "output_type": "stream",
     "text": [
      "['my_name', 'is', 'zafrin']\n",
      "['my_name', 'is', 'jasmin']\n",
      "['my_name', 'is', 'sophia']\n",
      "['her', 'name_is', 'jassica']\n",
      "['this', 'is', 'my', 'house']\n"
     ]
    },
    {
     "name": "stderr",
     "output_type": "stream",
     "text": [
      "/home/zafrin/anaconda3/lib/python3.6/site-packages/gensim/models/phrases.py:494: UserWarning: For a faster implementation, use the gensim.models.phrases.Phraser class\n",
      "  warnings.warn(\"For a faster implementation, use the gensim.models.phrases.Phraser class\")\n"
     ]
    }
   ],
   "source": [
    "for comt in test:\n",
    "    print(phrases[comt])"
   ]
  },
  {
   "cell_type": "markdown",
   "metadata": {},
   "source": [
    "#### Prepearing Data"
   ]
  },
  {
   "cell_type": "code",
   "execution_count": 16,
   "metadata": {
    "collapsed": true
   },
   "outputs": [],
   "source": [
    "from spacy.lang.en.stop_words import STOP_WORDS"
   ]
  },
  {
   "cell_type": "code",
   "execution_count": 28,
   "metadata": {
    "collapsed": true
   },
   "outputs": [],
   "source": [
    "f = open(test_filepath, 'r', encoding='utf-8')\n",
    "data = [f.readline()[:-1] for line in f]\n",
    "f.close()"
   ]
  },
  {
   "cell_type": "code",
   "execution_count": 29,
   "metadata": {
    "collapsed": true
   },
   "outputs": [],
   "source": [
    "unigram_sent_tokens = []\n",
    "for sent in data:\n",
    "    unigram_sent_tokens.append([token.lemma_ for token in nlp(sent) \n",
    "                          if not token.is_punct])"
   ]
  },
  {
   "cell_type": "code",
   "execution_count": 30,
   "metadata": {
    "collapsed": true
   },
   "outputs": [],
   "source": [
    "del data"
   ]
  },
  {
   "cell_type": "code",
   "execution_count": 31,
   "metadata": {
    "scrolled": false
   },
   "outputs": [
    {
     "data": {
      "text/plain": [
       "['the', 'lecture', 'jump', 'from', 'place', 'to', 'place']"
      ]
     },
     "execution_count": 31,
     "metadata": {},
     "output_type": "execute_result"
    }
   ],
   "source": [
    "unigram_sent_tokens[6]"
   ]
  },
  {
   "cell_type": "code",
   "execution_count": 32,
   "metadata": {
    "collapsed": true
   },
   "outputs": [],
   "source": [
    "pickle_out = open('data/pickle/unigram_sentence_tokens.pickle', 'wb')\n",
    "pickle.dump(unigram_sent_tokens, pickle_out)\n",
    "pickle_out.close()"
   ]
  },
  {
   "cell_type": "code",
   "execution_count": 56,
   "metadata": {},
   "outputs": [],
   "source": [
    "pickle_in = open('data/pickle/unigram_sentence_tokens.pickle', 'rb')\n",
    "unigram_sent_tokens = pickle.load(pickle_in)\n",
    "pickle_in.close()"
   ]
  },
  {
   "cell_type": "code",
   "execution_count": 57,
   "metadata": {
    "scrolled": false
   },
   "outputs": [
    {
     "data": {
      "text/plain": [
       "['the', 'lecture', 'jump', 'from', 'place', 'to', 'place']"
      ]
     },
     "execution_count": 57,
     "metadata": {},
     "output_type": "execute_result"
    }
   ],
   "source": [
    "unigram_sent_tokens[6]"
   ]
  },
  {
   "cell_type": "markdown",
   "metadata": {},
   "source": [
    "#### Phrase Modeling"
   ]
  },
  {
   "cell_type": "code",
   "execution_count": 14,
   "metadata": {
    "collapsed": true
   },
   "outputs": [],
   "source": [
    "from gensim.models.phrases import Phrases, Phraser"
   ]
  },
  {
   "cell_type": "raw",
   "metadata": {},
   "source": [
    "%%time\n",
    "phrases = Phrases(unigram_sent_tokens, min_count=50, threshold=1.0, \n",
    "                  common_terms=[word for word in stop] + [\n",
    "                      'professor', 'teacher', 'guy', 'teach', 'learn', '-PRON-'])"
   ]
  },
  {
   "cell_type": "code",
   "execution_count": 58,
   "metadata": {
    "scrolled": true
   },
   "outputs": [
    {
     "name": "stdout",
     "output_type": "stream",
     "text": [
      "CPU times: user 131 ms, sys: 0 ns, total: 131 ms\n",
      "Wall time: 130 ms\n"
     ]
    }
   ],
   "source": [
    "%%time\n",
    "phrases = Phrases(unigram_sent_tokens, min_count=50, threshold=1.0, \n",
    "                  common_terms=[word for word in STOP_WORDS] + [\n",
    "                      'professor', 'teacher', 'guy', 'teach', 'learn', '-PRON-'])"
   ]
  },
  {
   "cell_type": "code",
   "execution_count": 59,
   "metadata": {
    "collapsed": true
   },
   "outputs": [],
   "source": [
    "ngram = Phraser(phrases)"
   ]
  },
  {
   "cell_type": "code",
   "execution_count": 60,
   "metadata": {},
   "outputs": [],
   "source": [
    "bigram_sent_tokens = ngram[unigram_sent_tokens]"
   ]
  },
  {
   "cell_type": "code",
   "execution_count": 61,
   "metadata": {
    "collapsed": true
   },
   "outputs": [],
   "source": [
    "del unigram_sent_tokens"
   ]
  },
  {
   "cell_type": "code",
   "execution_count": 39,
   "metadata": {
    "scrolled": true
   },
   "outputs": [
    {
     "name": "stdout",
     "output_type": "stream",
     "text": [
      "['-PRON-', 'be', 'never', 'use', 'in', 'class', 'only', 'for', 'the', 'homework']\n",
      "['-PRON-', 'have', 'a', '10', 'minute', 'presentation', 'every', 'other', 'week']\n",
      "['very', 'helpful', 'and', 'understanding']\n",
      "['-PRON-', 'be', 'interesting', 'and', 'alwasy', 'be', 'able', 'to', 'provide', 'an', 'example']\n",
      "['-PRON-', 'have', '-PRON-', 'now', 'for', 'abnormal']\n",
      "['-PRON-', 'think', '-PRON-', 'be', 'really', 'fair', 'and', 'keep', 'the', 'class', 'interesting']\n",
      "['the', 'lecture', 'jump', 'from', 'place', 'to', 'place']\n",
      "['nice', 'guy', 'but', 'the', 'test', 'be', 'very', 'ambiguous']\n",
      "['all', 'and', 'all', 'a', 'distaster']\n",
      "['have', '-PRON-', 'for', 'psych', 'of', 'ultimate', 'concern']\n",
      "['very', 'interesting']\n",
      "['-PRON-', 'be', 'awesome']\n",
      "['be', 'ok', 'i', 'guess']\n",
      "['-PRON-', 'make', '-PRON-', 'feel', 'as', 'if', '-PRON-', 'be', 'real', 'psychologist']\n",
      "['boring', 'as', 'hell']\n",
      "['run', 'in', 'the', 'opposite', 'direction']\n",
      "['study', 'for', 'test', 'if', '-PRON-', 'do', 'not', 'kow', 'about', 'eastern', 'culture', 'but', 'if', '-PRON-', 'do', '-PRON-', 'do', 'not', 'have', 'to', 'study', 'so', 'much']\n",
      "['nice', 'guy', 'funny', 'and', 'pretty', 'easy', 'as', 'long', 'as', '-PRON-', 'go', 'to', 'class', 'bot', 'boring']\n",
      "['and', '-PRON-', 'be', 'not', 'afraid', 'to', 'speak', '-PRON-', 'mind']\n",
      "['this', 'guy', 'be', 'very', 'nice', 'and', 'damn', 'funny', 'but', '-PRON-', 'doesn', 'take', 'any', 's', 't']\n",
      "['go', 'off', 'topic', 'a', 'lot']\n",
      "['-PRON-', 'do', 'not', 'feel', 'like', '-PRON-']\n",
      "['easy', 'a', 'in', '-PRON-', 'class']\n",
      "['take', '-PRON-']\n",
      "['online', 'class', 'be', 'really', 'easy', 'as', 'long', 'as', '-PRON-', 'keep', 'up', 'with', 'the', 'assignment']\n",
      "['not', 'a', 'very', 'good', 'time', 'frame', 'for', 'those', 'who', 'work', 'full', 'time']\n",
      "['-PRON-', 'take', 'the', 'online', 'class', 'and', '-PRON-', 'would', '100', 'recommend', '-PRON-']\n",
      "['-PRON-', 'be', '3', 'test', 'and', '2', 'little', 'paper']\n",
      "['-PRON-', 'be', 'due', '-PRON-', 'do', '-PRON-', 'in', 'about', 'a', 'half', 'an', 'hour', 'and', '-PRON-', 'get', 'an', 'a.', 'really', 'great', 'class']\n",
      "['-PRON-', 'be', 'seriously', 'the', 'good', 'teacher', '-PRON-', 'have', 'have', 'here', 'at', 'bsc']\n",
      "['through', '-PRON-', 'personal', 'example', '-PRON-', 'more', 'than', 'prove', 'that', '-PRON-', 'know', 'what', '-PRON-', 'be', 'talk', 'about']\n",
      "['maria', 'be', 'an', 'excellent', 'professor']\n",
      "['have', 'a', 'positive', 'attitude', 'towards', 'help', '-PRON-', 'student']\n",
      "['-PRON-', 'would', 'recommend', '-PRON-', 'to', 'anyone']\n",
      "['if', '-PRON-', 'take', '-PRON-', 'kiss', 'up', 'to', '-PRON-']\n",
      "['-PRON-', 'suck', 'if', '-PRON-', 'quiet', 'because', '-PRON-', 'will', 'not', 'give', '-PRON-', 'xtra', 'credit', 'or', 'grade', '-PRON-', 'as', 'easily', 'as', '-PRON-', 'do', 'those', 'that', 'suck', 'up', 'to', '-PRON-']\n",
      "['the', 'best', 'teacher']\n",
      "['want', '-PRON-', 'to', 'do', 'well']\n",
      "['-PRON-', 'wish', 'that', '-PRON-', 'could', 'teach', 'all', 'of', '-PRON-', 'class']\n",
      "['and', '-PRON-', 's', 'one', 'hott', 'pepper']\n",
      "['-PRON-', 'have', 'take', '-PRON-', 'in', 'all', 'the', 'course', 'that', '-PRON-', 'possibly', 'could', 'have', '-PRON-', 'in']\n",
      "['-PRON-', 's', 'awesome', 'and', 'helpful', 'plus', '-PRON-', 'online', 'class', 'be', 'super', 'easy']\n",
      "['good', 'teacher', 'at', 'bsc']\n",
      "['-PRON-', 'be', 'hilarious']\n",
      "['teach', 'the', 'info', 'in', 'a', 'way', 'that', 'make', '-PRON-', 'memorable']\n",
      "['hilarious', 'but', 'if', '-PRON-', 'want', 'to', 'actually', 'learn', '-PRON-', 'would', 'take', 'someone', 'else', 'if', '-PRON-', 'want', 'to', 'laugh', '-PRON-', 'be', 'just', 'right', 'for', '-PRON-']\n",
      "['maria', 'be', 'the', 'good', 'teacher', 'at', 'bridgewater', 'state']\n",
      "['-PRON-', 'test', 'be', 'multiple', 'choice', '20', '30']\n",
      "['-PRON-', 'will', 'get', 'an', 'a.class', 'discussion', 'be', 'huge']\n",
      "['no', 'matter', 'what', '-PRON-', 'be', 'major', 'in', 'take', '-PRON-', '-PRON-', 'be', 'the', 'funny', 'person', '-PRON-', 'know']\n",
      "['oh', 'yeah']\n",
      "['maria', 'be', 'an', 'exemplary', 'teacher']\n",
      "['-PRON-', 'make', 'learning', 'fun', 'and', '-PRON-', 'look', 'forward', 'to', 'every', 'class']\n",
      "['the', 'good', 'class', 'be', 'with', '-PRON-']\n",
      "['-PRON-', 'make', 'class', 'fun', 'and', '-PRON-', 'learn', 'a', 'lot', 'through', '-PRON-', 'outrageous', 'example', 'that', 'relate', 'to', 'the', 'subject', 'matter']\n",
      "['wick', 'funny']\n",
      "['want', 'to', 'be', 'respect', 'but', 'be', 'good', 'freind', 'with', '-PRON-', 'student', 'and', 'let', '-PRON-', 'call', '-PRON-', 'by', '-PRON-', 'first', 'name']\n",
      "['still', 'learn', 'a', 'lot']\n",
      "['funny']\n",
      "['test', 'be', 'like', '20', 'to', '30', 'q', \"'s\", 'each']\n",
      "['approachable', 'understanding', 'and', 'an', 'experience', '-PRON-', 'will', 'remember', 'year', 'after', '-PRON-', 'leave', 'college']\n",
      "['funny', 'and', 'care', 'to', 'each', 'individual']\n",
      "['this', 'woman', 'be', 'off', 'the', 'wall']\n",
      "['if', '-PRON-', 'love', 'sex', 'drug', 'and', 'craziness', 'take', 'her']\n",
      "['-PRON-', 'make', '-PRON-', 'class', 'very', 'enjoyable', 'and', 'interesting']\n",
      "['if', '-PRON-', 'want', 'to', 'learn', 'about', 'psych', 'skip', '-PRON-']\n",
      "['awesome', 'teacher', 'funny', 'know_-PRON-_stuff']\n",
      "['take', '-PRON-', 'if', 'u', 'get', 'the', 'chance', 'to']\n",
      "['easy', 'teacher', 'tell', '-PRON-', 'class', '-PRON-', 'do', 'not', 'like', 'to', 'give', 'low', 'than', 'a', 'b', 'to', 'student', 'just', 'go', 'and', 'do', 'the', 'log']\n",
      "['no', 'comment']\n",
      "['lot', 'to', 'discuss', 'and', 'participate', 'in', '-PRON-']\n",
      "['participate', 'even', 'if', '-PRON-', 'do', 'not', 'know', 'much']\n",
      "['like', 'to', 'know', 'what', '-PRON-', 'think']\n",
      "['dr.', 'hawthorne', 'be', 'very', 'nice', 'guy']\n",
      "['-PRON-', 'have', 'do', 'two', 'project', 'with', 'only', 'one', 'more', 'to', 'count', 'towards', '-PRON-', 'final', 'grade']\n",
      "['for', 'a', 'gened', '-PRON-', 'way', 'too', 'harsh', 'and', 'unclear']\n",
      "['-PRON-', 'also', 'be', 'a', 'really', 'tough', 'grader', 'and', 'do', 'not', 'even', 'teach', 'the', 'material', 'relate', 'to', 'the', 'class']\n",
      "['if', '-PRON-', 'struggle', 'with', 'writing', '-PRON-', 'be', 'not', 'very', 'willing_to_help', '-PRON-', 'and', 'just', 'tell', '-PRON-', 'to', 'figure', '-PRON-', 'out', 'on', '-PRON-', 'own']\n",
      "['-PRON-', 'really', 'teach', '-PRON-', 'how', 'to', 'write']\n",
      "['-PRON-', 'be', 'always', 'open', 'to', 'new', 'idea', 'and', 'do', 'research', 'as', 'to', 'how', 'to', 'teach', '-PRON-', 'good', 'for', 'the', 'time', '-PRON-', 'live', 'in']\n",
      "['-PRON-', 'would', 'recommend', '-PRON-', 'and', '-PRON-', 'class', 'to', 'anyone', 'that', 'ask']\n",
      "['just', 'go', 'to', 'class', 'and', 'participate', 'in', 'discussion', 'and', '-PRON-', 'will', 'get', 'so', 'much', 'out', 'of', 'this', 'course']\n",
      "['-PRON-', 'will', 'not', 'regret', '-PRON-']\n",
      "['-PRON-', 'be', 'the', 'most', 'interesting', 'person', '-PRON-', 'have', 'ever', 'meet']\n",
      "['-PRON-', 'be', 'discussion', 'base', 'with', '500', 'word', 'opinionated', 'paper', 'due', 'every', 'week', 'that', '-PRON-', 'get', 'a', 'be', 'on', 'every', 'time']\n",
      "['definitely', 'take', 'this', 'class']\n",
      "['professor', 'hawthorne', 'be', 'the', 'nice', 'person', 'ever']\n",
      "['the', 'people', 'who', 'fail', 'probably', 'never', 'look', 'at', '-PRON-', 'grading', 'rubric']\n",
      "['without', 'a', 'doubt', 'one', 'of', '-PRON-', 'favorite', 'professor', '-PRON-', 'have', 'ever', 'have']\n",
      "['-PRON-', 'do', 'not', 'have', 'a', 'final', 'but', 'some', 'of', '-PRON-', 'show', 'up', 'anyway', 'just', 'to', 'talk', 'to', '-PRON-', 'for', 'another', 'two', 'hour']\n",
      "['take', 'this', 'class']\n",
      "['and', '-PRON-', 'be', 'such', 'a', 'good', 'teacher']\n",
      "['there', 'be', 'no', 'test', 'and', '-PRON-', 'be', 'very', 'kind']\n",
      "['if', '-PRON-', 'hate', 'grammar', 'or', 'can', 'not', 'do', '-PRON-', 'for', '-PRON-', 'life', 'may', 'wanna', 'take', 'another', 'class']\n",
      "['hawthorne', 'be', 'a', 'very', 'interesting', 'man']\n",
      "['just', 'when', '-PRON-', 'think', '-PRON-', 'life', 'can', 'not', 'get', 'more', 'bizarre', '-PRON-', 'hit', '-PRON-', 'with', 'an', 'irrelevant', 'anecdote']\n",
      "['have', 'a', 'very', 'specific', 'expectation', 'for', '-PRON-', 'writing']\n",
      "['super', 'easy', 'class']\n",
      "['the', 'class', 'be', 'just', 'an', 'open', 'discussion', 'so', 'get', 'involved', '-PRON-', 'be', 'interesting']\n",
      "['great', 'man']\n"
     ]
    }
   ],
   "source": [
    "look_inside(bigram_sent_tokens, n=100)"
   ]
  },
  {
   "cell_type": "markdown",
   "metadata": {},
   "source": [
    "## Word2vec with Phrase Modeling"
   ]
  },
  {
   "cell_type": "markdown",
   "metadata": {},
   "source": [
    "### Word2Vec Modeling with Phrases"
   ]
  },
  {
   "cell_type": "code",
   "execution_count": 46,
   "metadata": {
    "collapsed": true
   },
   "outputs": [],
   "source": [
    "from gensim.models.word2vec import Word2Vec"
   ]
  },
  {
   "cell_type": "code",
   "execution_count": 62,
   "metadata": {
    "scrolled": false
   },
   "outputs": [],
   "source": [
    "model = Word2Vec(bigram_sent_tokens)"
   ]
  },
  {
   "cell_type": "code",
   "execution_count": 63,
   "metadata": {
    "collapsed": true
   },
   "outputs": [],
   "source": [
    "model.save('models/word2vec__phrases_lemma.model')"
   ]
  },
  {
   "cell_type": "code",
   "execution_count": 64,
   "metadata": {},
   "outputs": [],
   "source": [
    "model = Word2Vec.load('models/word2vec__phrases_lemma.model')"
   ]
  },
  {
   "cell_type": "code",
   "execution_count": 65,
   "metadata": {},
   "outputs": [
    {
     "data": {
      "text/plain": [
       "[('topic', 0.9963892698287964),\n",
       " ('straight', 0.9959247708320618),\n",
       " ('study_guide', 0.9955933094024658),\n",
       " ('which', 0.9955759048461914),\n",
       " ('reading', 0.995517373085022),\n",
       " ('open', 0.9950732588768005),\n",
       " ('complete', 0.9949502348899841),\n",
       " ('keep', 0.9948663115501404),\n",
       " ('cpa', 0.9944629669189453),\n",
       " ('fast', 0.9944624900817871)]"
      ]
     },
     "execution_count": 65,
     "metadata": {},
     "output_type": "execute_result"
    }
   ],
   "source": [
    "model.wv.most_similar('lecture')"
   ]
  },
  {
   "cell_type": "code",
   "execution_count": 66,
   "metadata": {
    "scrolled": true
   },
   "outputs": [
    {
     "data": {
      "text/plain": [
       "[('professor', 0.9931284785270691),\n",
       " ('guy', 0.9786714315414429),\n",
       " ('prof', 0.9710946679115295),\n",
       " ('good', 0.95012366771698),\n",
       " ('great', 0.9489971399307251),\n",
       " ('ever', 0.9426138401031494),\n",
       " ('nice', 0.9416589736938477),\n",
       " ('bad', 0.9362847805023193),\n",
       " ('a', 0.9250329732894897),\n",
       " ('dr.', 0.922961950302124)]"
      ]
     },
     "execution_count": 66,
     "metadata": {},
     "output_type": "execute_result"
    }
   ],
   "source": [
    "model.wv.most_similar('teacher')"
   ]
  },
  {
   "cell_type": "code",
   "execution_count": 67,
   "metadata": {},
   "outputs": [
    {
     "data": {
      "text/plain": [
       "[('teach', 0.9923907518386841),\n",
       " ('expect', 0.985884428024292),\n",
       " ('understand', 0.9851656556129456),\n",
       " ('much', 0.9845415353775024),\n",
       " ('want', 0.9839208126068115),\n",
       " ('anything', 0.9837123155593872),\n",
       " ('how', 0.9827748537063599),\n",
       " ('talk', 0.9820513725280762),\n",
       " ('well', 0.9812719225883484),\n",
       " ('need', 0.9809737205505371)]"
      ]
     },
     "execution_count": 67,
     "metadata": {},
     "output_type": "execute_result"
    }
   ],
   "source": [
    "model.wv.most_similar('learn')"
   ]
  },
  {
   "cell_type": "code",
   "execution_count": 68,
   "metadata": {
    "scrolled": true
   },
   "outputs": [
    {
     "data": {
      "text/plain": [
       "[('much', 0.9935899972915649),\n",
       " ('expect', 0.9931437373161316),\n",
       " ('understand', 0.9925994873046875),\n",
       " ('learn', 0.9923907518386841),\n",
       " ('how', 0.9915162920951843),\n",
       " ('can', 0.9911298751831055),\n",
       " ('anything', 0.9898964762687683),\n",
       " ('well', 0.9897662401199341),\n",
       " ('like', 0.987104594707489),\n",
       " ('tell', 0.9854578375816345)]"
      ]
     },
     "execution_count": 68,
     "metadata": {},
     "output_type": "execute_result"
    }
   ],
   "source": [
    "model.wv.most_similar('teach')"
   ]
  },
  {
   "cell_type": "markdown",
   "metadata": {},
   "source": [
    "### Word2Vec Modeling with Phrases and Removed stopwords"
   ]
  },
  {
   "cell_type": "markdown",
   "metadata": {},
   "source": [
    "#### Remove stopwords"
   ]
  },
  {
   "cell_type": "code",
   "execution_count": 77,
   "metadata": {},
   "outputs": [],
   "source": [
    "processed_sents = []\n",
    "for i, sent in enumerate(bigram_sent_tokens):\n",
    "    processed_sents.append([word for word in sent if word not in STOP_WORDS])"
   ]
  },
  {
   "cell_type": "code",
   "execution_count": 78,
   "metadata": {
    "collapsed": true
   },
   "outputs": [],
   "source": [
    "pickle_out = open('data/pickle/processed_sent_tokens.pickle', 'wb')\n",
    "pickle.dump(processed_sents, pickle_out)\n",
    "pickle_out.close()"
   ]
  },
  {
   "cell_type": "code",
   "execution_count": 79,
   "metadata": {
    "collapsed": true
   },
   "outputs": [],
   "source": [
    "pickle_in = open('data/pickle/processed_sent_tokens.pickle', 'rb')\n",
    "processed_sents = pickle.load(pickle_in)\n",
    "pickle_in.close()"
   ]
  },
  {
   "cell_type": "code",
   "execution_count": 80,
   "metadata": {},
   "outputs": [
    {
     "data": {
      "text/plain": [
       "['lecture', 'jump', 'place', 'place']"
      ]
     },
     "execution_count": 80,
     "metadata": {},
     "output_type": "execute_result"
    }
   ],
   "source": [
    "processed_sents[6]"
   ]
  },
  {
   "cell_type": "markdown",
   "metadata": {},
   "source": [
    "#### Word2vec modeling"
   ]
  },
  {
   "cell_type": "code",
   "execution_count": 46,
   "metadata": {
    "collapsed": true
   },
   "outputs": [],
   "source": [
    "from gensim.models.word2vec import Word2Vec"
   ]
  },
  {
   "cell_type": "code",
   "execution_count": 81,
   "metadata": {
    "collapsed": true,
    "scrolled": false
   },
   "outputs": [],
   "source": [
    "model = Word2Vec(processed_sents)"
   ]
  },
  {
   "cell_type": "code",
   "execution_count": 82,
   "metadata": {
    "collapsed": true
   },
   "outputs": [],
   "source": [
    "model.save('models/word2vec__phrases_lemma_stopwords_removed.model')"
   ]
  },
  {
   "cell_type": "code",
   "execution_count": 83,
   "metadata": {
    "collapsed": true
   },
   "outputs": [],
   "source": [
    "model = Word2Vec.load('models/word2vec__phrases_lemma_stopwords_removed.model')"
   ]
  },
  {
   "cell_type": "code",
   "execution_count": 84,
   "metadata": {},
   "outputs": [
    {
     "data": {
      "text/plain": [
       "[('day', 0.9998536109924316),\n",
       " ('pass', 0.9998270869255066),\n",
       " ('major', 0.9998167753219604),\n",
       " ('little', 0.9998159408569336),\n",
       " ('problem', 0.9998114109039307),\n",
       " ('reading', 0.9998106956481934),\n",
       " ('information', 0.9998080730438232),\n",
       " ('topic', 0.9998055696487427),\n",
       " ('listen', 0.9998050928115845),\n",
       " ('follow', 0.9997993111610413)]"
      ]
     },
     "execution_count": 84,
     "metadata": {},
     "output_type": "execute_result"
    }
   ],
   "source": [
    "model.wv.most_similar('lecture')"
   ]
  },
  {
   "cell_type": "code",
   "execution_count": 85,
   "metadata": {
    "scrolled": true
   },
   "outputs": [
    {
     "data": {
      "text/plain": [
       "[('professor', 0.9997249245643616),\n",
       " ('guy', 0.9995843172073364),\n",
       " ('prof', 0.9995216131210327),\n",
       " ('man', 0.9993838667869568),\n",
       " ('person', 0.9993740916252136),\n",
       " ('overall', 0.999247670173645),\n",
       " ('fun', 0.9992300271987915),\n",
       " ('dr.', 0.9992103576660156),\n",
       " ('helpful', 0.9991399049758911),\n",
       " ('talk', 0.9991341233253479)]"
      ]
     },
     "execution_count": 85,
     "metadata": {},
     "output_type": "execute_result"
    }
   ],
   "source": [
    "model.wv.most_similar('teacher')"
   ]
  },
  {
   "cell_type": "code",
   "execution_count": 86,
   "metadata": {},
   "outputs": [
    {
     "data": {
      "text/plain": [
       "[('think', 0.9997298717498779),\n",
       " ('teach', 0.9997142553329468),\n",
       " ('want', 0.9997060298919678),\n",
       " ('actually', 0.9996986985206604),\n",
       " ('like', 0.9996883273124695),\n",
       " ('know', 0.9996811151504517),\n",
       " ('talk', 0.9996452927589417),\n",
       " ('subject', 0.9996395111083984),\n",
       " ('way', 0.999634861946106),\n",
       " ('tell', 0.9996261596679688)]"
      ]
     },
     "execution_count": 86,
     "metadata": {},
     "output_type": "execute_result"
    }
   ],
   "source": [
    "model.wv.most_similar('learn')"
   ]
  },
  {
   "cell_type": "code",
   "execution_count": 87,
   "metadata": {
    "scrolled": true
   },
   "outputs": [
    {
     "data": {
      "text/plain": [
       "[('think', 0.9997965097427368),\n",
       " ('like', 0.9997854232788086),\n",
       " ('talk', 0.9997566342353821),\n",
       " ('subject', 0.9997541308403015),\n",
       " ('know', 0.9997477531433105),\n",
       " ('way', 0.9997388124465942),\n",
       " ('want', 0.9997308850288391),\n",
       " ('actually', 0.9997209310531616),\n",
       " ('feel', 0.9997149705886841),\n",
       " ('learn', 0.9997142553329468)]"
      ]
     },
     "execution_count": 87,
     "metadata": {},
     "output_type": "execute_result"
    }
   ],
   "source": [
    "model.wv.most_similar('teach')"
   ]
  },
  {
   "cell_type": "markdown",
   "metadata": {},
   "source": [
    "## Conclusion"
   ]
  },
  {
   "cell_type": "markdown",
   "metadata": {},
   "source": [
    "Lemmitizing and phrase modeling works best before feeding the data into word2vec model.\n",
    "Removing stopwords actually affect the performance of the mordel negitively."
   ]
  }
 ],
 "metadata": {
  "kernelspec": {
   "display_name": "Python 3",
   "language": "python",
   "name": "python3"
  },
  "language_info": {
   "codemirror_mode": {
    "name": "ipython",
    "version": 3
   },
   "file_extension": ".py",
   "mimetype": "text/x-python",
   "name": "python",
   "nbconvert_exporter": "python",
   "pygments_lexer": "ipython3",
   "version": "3.6.3"
  }
 },
 "nbformat": 4,
 "nbformat_minor": 2
}
